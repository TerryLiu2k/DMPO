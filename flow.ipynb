{
 "cells": [
  {
   "cell_type": "code",
   "execution_count": 1,
   "source": [
    "%load_ext autoreload\n",
    "%autoreload 2\n",
    "\n",
    "from logging import log\n",
    "import os\n",
    "import ray\n",
    "import time\n",
    "import warnings\n",
    "from algorithms.utils import Config, LogClient, LogServer\n",
    "from algorithms.envs.Flow import makeFlowGrid, makeFlowGridTest\n",
    "from algorithms.config.FLOW_PPO import getArgs\n",
    "from algorithms.mbdppo.MB_DPPO import OnPolicyRunner, DPPOAgent\n",
    "import torch\n",
    "\n",
    "\n"
   ],
   "outputs": [],
   "metadata": {}
  },
  {
   "cell_type": "code",
   "execution_count": 1,
   "source": [
    "import torch\n",
    "t = torch.load('checkpoints/standard_makeFigureEight2_MB_DPPOAgent_17361/81501_5222.7847817614875.pt')"
   ],
   "outputs": [],
   "metadata": {}
  },
  {
   "cell_type": "code",
   "execution_count": 3,
   "source": [
    "print(t[''].keys())"
   ],
   "outputs": [
    {
     "output_type": "stream",
     "name": "stdout",
     "text": [
      "dict_keys(['actors.0.log_std', 'actors.0.network.0.weight', 'actors.0.network.0.bias', 'actors.0.network.2.weight', 'actors.0.network.2.bias', 'actors.0.network.4.weight', 'actors.0.network.4.bias', 'actors.0.action_head.weight', 'actors.0.action_head.bias', 'actors.1.log_std', 'actors.1.network.0.weight', 'actors.1.network.0.bias', 'actors.1.network.2.weight', 'actors.1.network.2.bias', 'actors.1.network.4.weight', 'actors.1.network.4.bias', 'actors.1.action_head.weight', 'actors.1.action_head.bias', 'actors.2.log_std', 'actors.2.network.0.weight', 'actors.2.network.0.bias', 'actors.2.network.2.weight', 'actors.2.network.2.bias', 'actors.2.network.4.weight', 'actors.2.network.4.bias', 'actors.2.action_head.weight', 'actors.2.action_head.bias', 'actors.3.log_std', 'actors.3.network.0.weight', 'actors.3.network.0.bias', 'actors.3.network.2.weight', 'actors.3.network.2.bias', 'actors.3.network.4.weight', 'actors.3.network.4.bias', 'actors.3.action_head.weight', 'actors.3.action_head.bias', 'actors.4.log_std', 'actors.4.network.0.weight', 'actors.4.network.0.bias', 'actors.4.network.2.weight', 'actors.4.network.2.bias', 'actors.4.network.4.weight', 'actors.4.network.4.bias', 'actors.4.action_head.weight', 'actors.4.action_head.bias', 'actors.5.log_std', 'actors.5.network.0.weight', 'actors.5.network.0.bias', 'actors.5.network.2.weight', 'actors.5.network.2.bias', 'actors.5.network.4.weight', 'actors.5.network.4.bias', 'actors.5.action_head.weight', 'actors.5.action_head.bias', 'actors.6.log_std', 'actors.6.network.0.weight', 'actors.6.network.0.bias', 'actors.6.network.2.weight', 'actors.6.network.2.bias', 'actors.6.network.4.weight', 'actors.6.network.4.bias', 'actors.6.action_head.weight', 'actors.6.action_head.bias', 'actors.7.log_std', 'actors.7.network.0.weight', 'actors.7.network.0.bias', 'actors.7.network.2.weight', 'actors.7.network.2.bias', 'actors.7.network.4.weight', 'actors.7.network.4.bias', 'actors.7.action_head.weight', 'actors.7.action_head.bias', 'actors.8.log_std', 'actors.8.network.0.weight', 'actors.8.network.0.bias', 'actors.8.network.2.weight', 'actors.8.network.2.bias', 'actors.8.network.4.weight', 'actors.8.network.4.bias', 'actors.8.action_head.weight', 'actors.8.action_head.bias', 'actors.9.log_std', 'actors.9.network.0.weight', 'actors.9.network.0.bias', 'actors.9.network.2.weight', 'actors.9.network.2.bias', 'actors.9.network.4.weight', 'actors.9.network.4.bias', 'actors.9.action_head.weight', 'actors.9.action_head.bias', 'actors.10.log_std', 'actors.10.network.0.weight', 'actors.10.network.0.bias', 'actors.10.network.2.weight', 'actors.10.network.2.bias', 'actors.10.network.4.weight', 'actors.10.network.4.bias', 'actors.10.action_head.weight', 'actors.10.action_head.bias', 'actors.11.log_std', 'actors.11.network.0.weight', 'actors.11.network.0.bias', 'actors.11.network.2.weight', 'actors.11.network.2.bias', 'actors.11.network.4.weight', 'actors.11.network.4.bias', 'actors.11.action_head.weight', 'actors.11.action_head.bias', 'actors.12.log_std', 'actors.12.network.0.weight', 'actors.12.network.0.bias', 'actors.12.network.2.weight', 'actors.12.network.2.bias', 'actors.12.network.4.weight', 'actors.12.network.4.bias', 'actors.12.action_head.weight', 'actors.12.action_head.bias', 'actors.13.log_std', 'actors.13.network.0.weight', 'actors.13.network.0.bias', 'actors.13.network.2.weight', 'actors.13.network.2.bias', 'actors.13.network.4.weight', 'actors.13.network.4.bias', 'actors.13.action_head.weight', 'actors.13.action_head.bias', 'vs.0.0.weight', 'vs.0.0.bias', 'vs.0.2.weight', 'vs.0.2.bias', 'vs.0.4.weight', 'vs.0.4.bias', 'vs.1.0.weight', 'vs.1.0.bias', 'vs.1.2.weight', 'vs.1.2.bias', 'vs.1.4.weight', 'vs.1.4.bias', 'vs.2.0.weight', 'vs.2.0.bias', 'vs.2.2.weight', 'vs.2.2.bias', 'vs.2.4.weight', 'vs.2.4.bias', 'vs.3.0.weight', 'vs.3.0.bias', 'vs.3.2.weight', 'vs.3.2.bias', 'vs.3.4.weight', 'vs.3.4.bias', 'vs.4.0.weight', 'vs.4.0.bias', 'vs.4.2.weight', 'vs.4.2.bias', 'vs.4.4.weight', 'vs.4.4.bias', 'vs.5.0.weight', 'vs.5.0.bias', 'vs.5.2.weight', 'vs.5.2.bias', 'vs.5.4.weight', 'vs.5.4.bias', 'vs.6.0.weight', 'vs.6.0.bias', 'vs.6.2.weight', 'vs.6.2.bias', 'vs.6.4.weight', 'vs.6.4.bias', 'vs.7.0.weight', 'vs.7.0.bias', 'vs.7.2.weight', 'vs.7.2.bias', 'vs.7.4.weight', 'vs.7.4.bias', 'vs.8.0.weight', 'vs.8.0.bias', 'vs.8.2.weight', 'vs.8.2.bias', 'vs.8.4.weight', 'vs.8.4.bias', 'vs.9.0.weight', 'vs.9.0.bias', 'vs.9.2.weight', 'vs.9.2.bias', 'vs.9.4.weight', 'vs.9.4.bias', 'vs.10.0.weight', 'vs.10.0.bias', 'vs.10.2.weight', 'vs.10.2.bias', 'vs.10.4.weight', 'vs.10.4.bias', 'vs.11.0.weight', 'vs.11.0.bias', 'vs.11.2.weight', 'vs.11.2.bias', 'vs.11.4.weight', 'vs.11.4.bias', 'vs.12.0.weight', 'vs.12.0.bias', 'vs.12.2.weight', 'vs.12.2.bias', 'vs.12.4.weight', 'vs.12.4.bias', 'vs.13.0.weight', 'vs.13.0.bias', 'vs.13.2.weight', 'vs.13.2.bias', 'vs.13.4.weight', 'vs.13.4.bias', 'ps.node_nets.0.net.0.weight', 'ps.node_nets.0.net.0.bias', 'ps.node_nets.0.net.2.weight', 'ps.node_nets.0.net.2.bias', 'ps.node_nets.0.net.4.weight', 'ps.node_nets.0.net.4.bias', 'ps.node_nets.1.net.0.weight', 'ps.node_nets.1.net.0.bias', 'ps.node_nets.1.net.2.weight', 'ps.node_nets.1.net.2.bias', 'ps.node_nets.1.net.4.weight', 'ps.node_nets.1.net.4.bias', 'ps.node_nets.2.net.0.weight', 'ps.node_nets.2.net.0.bias', 'ps.node_nets.2.net.2.weight', 'ps.node_nets.2.net.2.bias', 'ps.node_nets.2.net.4.weight', 'ps.node_nets.2.net.4.bias', 'ps.node_nets.3.net.0.weight', 'ps.node_nets.3.net.0.bias', 'ps.node_nets.3.net.2.weight', 'ps.node_nets.3.net.2.bias', 'ps.node_nets.3.net.4.weight', 'ps.node_nets.3.net.4.bias', 'ps.node_nets.4.net.0.weight', 'ps.node_nets.4.net.0.bias', 'ps.node_nets.4.net.2.weight', 'ps.node_nets.4.net.2.bias', 'ps.node_nets.4.net.4.weight', 'ps.node_nets.4.net.4.bias', 'ps.node_nets.5.net.0.weight', 'ps.node_nets.5.net.0.bias', 'ps.node_nets.5.net.2.weight', 'ps.node_nets.5.net.2.bias', 'ps.node_nets.5.net.4.weight', 'ps.node_nets.5.net.4.bias', 'ps.node_nets.6.net.0.weight', 'ps.node_nets.6.net.0.bias', 'ps.node_nets.6.net.2.weight', 'ps.node_nets.6.net.2.bias', 'ps.node_nets.6.net.4.weight', 'ps.node_nets.6.net.4.bias', 'ps.node_nets.7.net.0.weight', 'ps.node_nets.7.net.0.bias', 'ps.node_nets.7.net.2.weight', 'ps.node_nets.7.net.2.bias', 'ps.node_nets.7.net.4.weight', 'ps.node_nets.7.net.4.bias', 'ps.node_nets.8.net.0.weight', 'ps.node_nets.8.net.0.bias', 'ps.node_nets.8.net.2.weight', 'ps.node_nets.8.net.2.bias', 'ps.node_nets.8.net.4.weight', 'ps.node_nets.8.net.4.bias', 'ps.node_nets.9.net.0.weight', 'ps.node_nets.9.net.0.bias', 'ps.node_nets.9.net.2.weight', 'ps.node_nets.9.net.2.bias', 'ps.node_nets.9.net.4.weight', 'ps.node_nets.9.net.4.bias', 'ps.node_nets.10.net.0.weight', 'ps.node_nets.10.net.0.bias', 'ps.node_nets.10.net.2.weight', 'ps.node_nets.10.net.2.bias', 'ps.node_nets.10.net.4.weight', 'ps.node_nets.10.net.4.bias', 'ps.node_nets.11.net.0.weight', 'ps.node_nets.11.net.0.bias', 'ps.node_nets.11.net.2.weight', 'ps.node_nets.11.net.2.bias', 'ps.node_nets.11.net.4.weight', 'ps.node_nets.11.net.4.bias', 'ps.node_nets.12.net.0.weight', 'ps.node_nets.12.net.0.bias', 'ps.node_nets.12.net.2.weight', 'ps.node_nets.12.net.2.bias', 'ps.node_nets.12.net.4.weight', 'ps.node_nets.12.net.4.bias', 'ps.node_nets.13.net.0.weight', 'ps.node_nets.13.net.0.bias', 'ps.node_nets.13.net.2.weight', 'ps.node_nets.13.net.2.bias', 'ps.node_nets.13.net.4.weight', 'ps.node_nets.13.net.4.bias', 'ps.edge_nets.0.net.0.weight', 'ps.edge_nets.0.net.0.bias', 'ps.edge_nets.0.net.2.weight', 'ps.edge_nets.0.net.2.bias', 'ps.edge_nets.0.net.4.weight', 'ps.edge_nets.0.net.4.bias', 'ps.edge_nets.1.net.0.weight', 'ps.edge_nets.1.net.0.bias', 'ps.edge_nets.1.net.2.weight', 'ps.edge_nets.1.net.2.bias', 'ps.edge_nets.1.net.4.weight', 'ps.edge_nets.1.net.4.bias', 'ps.edge_nets.2.net.0.weight', 'ps.edge_nets.2.net.0.bias', 'ps.edge_nets.2.net.2.weight', 'ps.edge_nets.2.net.2.bias', 'ps.edge_nets.2.net.4.weight', 'ps.edge_nets.2.net.4.bias', 'ps.edge_nets.3.net.0.weight', 'ps.edge_nets.3.net.0.bias', 'ps.edge_nets.3.net.2.weight', 'ps.edge_nets.3.net.2.bias', 'ps.edge_nets.3.net.4.weight', 'ps.edge_nets.3.net.4.bias', 'ps.edge_nets.4.net.0.weight', 'ps.edge_nets.4.net.0.bias', 'ps.edge_nets.4.net.2.weight', 'ps.edge_nets.4.net.2.bias', 'ps.edge_nets.4.net.4.weight', 'ps.edge_nets.4.net.4.bias', 'ps.edge_nets.5.net.0.weight', 'ps.edge_nets.5.net.0.bias', 'ps.edge_nets.5.net.2.weight', 'ps.edge_nets.5.net.2.bias', 'ps.edge_nets.5.net.4.weight', 'ps.edge_nets.5.net.4.bias', 'ps.edge_nets.6.net.0.weight', 'ps.edge_nets.6.net.0.bias', 'ps.edge_nets.6.net.2.weight', 'ps.edge_nets.6.net.2.bias', 'ps.edge_nets.6.net.4.weight', 'ps.edge_nets.6.net.4.bias', 'ps.edge_nets.7.net.0.weight', 'ps.edge_nets.7.net.0.bias', 'ps.edge_nets.7.net.2.weight', 'ps.edge_nets.7.net.2.bias', 'ps.edge_nets.7.net.4.weight', 'ps.edge_nets.7.net.4.bias', 'ps.edge_nets.8.net.0.weight', 'ps.edge_nets.8.net.0.bias', 'ps.edge_nets.8.net.2.weight', 'ps.edge_nets.8.net.2.bias', 'ps.edge_nets.8.net.4.weight', 'ps.edge_nets.8.net.4.bias', 'ps.edge_nets.9.net.0.weight', 'ps.edge_nets.9.net.0.bias', 'ps.edge_nets.9.net.2.weight', 'ps.edge_nets.9.net.2.bias', 'ps.edge_nets.9.net.4.weight', 'ps.edge_nets.9.net.4.bias', 'ps.edge_nets.10.net.0.weight', 'ps.edge_nets.10.net.0.bias', 'ps.edge_nets.10.net.2.weight', 'ps.edge_nets.10.net.2.bias', 'ps.edge_nets.10.net.4.weight', 'ps.edge_nets.10.net.4.bias', 'ps.edge_nets.11.net.0.weight', 'ps.edge_nets.11.net.0.bias', 'ps.edge_nets.11.net.2.weight', 'ps.edge_nets.11.net.2.bias', 'ps.edge_nets.11.net.4.weight', 'ps.edge_nets.11.net.4.bias', 'ps.edge_nets.12.net.0.weight', 'ps.edge_nets.12.net.0.bias', 'ps.edge_nets.12.net.2.weight', 'ps.edge_nets.12.net.2.bias', 'ps.edge_nets.12.net.4.weight', 'ps.edge_nets.12.net.4.bias', 'ps.edge_nets.13.net.0.weight', 'ps.edge_nets.13.net.0.bias', 'ps.edge_nets.13.net.2.weight', 'ps.edge_nets.13.net.2.bias', 'ps.edge_nets.13.net.4.weight', 'ps.edge_nets.13.net.4.bias', 'ps.node_embedding.nets.0.0.weight', 'ps.node_embedding.nets.0.0.bias', 'ps.node_embedding.nets.1.0.weight', 'ps.node_embedding.nets.1.0.bias', 'ps.node_embedding.nets.2.0.weight', 'ps.node_embedding.nets.2.0.bias', 'ps.node_embedding.nets.3.0.weight', 'ps.node_embedding.nets.3.0.bias', 'ps.node_embedding.nets.4.0.weight', 'ps.node_embedding.nets.4.0.bias', 'ps.node_embedding.nets.5.0.weight', 'ps.node_embedding.nets.5.0.bias', 'ps.node_embedding.nets.6.0.weight', 'ps.node_embedding.nets.6.0.bias', 'ps.node_embedding.nets.7.0.weight', 'ps.node_embedding.nets.7.0.bias', 'ps.node_embedding.nets.8.0.weight', 'ps.node_embedding.nets.8.0.bias', 'ps.node_embedding.nets.9.0.weight', 'ps.node_embedding.nets.9.0.bias', 'ps.node_embedding.nets.10.0.weight', 'ps.node_embedding.nets.10.0.bias', 'ps.node_embedding.nets.11.0.weight', 'ps.node_embedding.nets.11.0.bias', 'ps.node_embedding.nets.12.0.weight', 'ps.node_embedding.nets.12.0.bias', 'ps.node_embedding.nets.13.0.weight', 'ps.node_embedding.nets.13.0.bias', 'ps.state_head.nets.0.0.weight', 'ps.state_head.nets.0.0.bias', 'ps.state_head.nets.1.0.weight', 'ps.state_head.nets.1.0.bias', 'ps.state_head.nets.2.0.weight', 'ps.state_head.nets.2.0.bias', 'ps.state_head.nets.3.0.weight', 'ps.state_head.nets.3.0.bias', 'ps.state_head.nets.4.0.weight', 'ps.state_head.nets.4.0.bias', 'ps.state_head.nets.5.0.weight', 'ps.state_head.nets.5.0.bias', 'ps.state_head.nets.6.0.weight', 'ps.state_head.nets.6.0.bias', 'ps.state_head.nets.7.0.weight', 'ps.state_head.nets.7.0.bias', 'ps.state_head.nets.8.0.weight', 'ps.state_head.nets.8.0.bias', 'ps.state_head.nets.9.0.weight', 'ps.state_head.nets.9.0.bias', 'ps.state_head.nets.10.0.weight', 'ps.state_head.nets.10.0.bias', 'ps.state_head.nets.11.0.weight', 'ps.state_head.nets.11.0.bias', 'ps.state_head.nets.12.0.weight', 'ps.state_head.nets.12.0.bias', 'ps.state_head.nets.13.0.weight', 'ps.state_head.nets.13.0.bias', 'ps.reward_head.nets.0.0.weight', 'ps.reward_head.nets.0.0.bias', 'ps.reward_head.nets.1.0.weight', 'ps.reward_head.nets.1.0.bias', 'ps.reward_head.nets.2.0.weight', 'ps.reward_head.nets.2.0.bias', 'ps.reward_head.nets.3.0.weight', 'ps.reward_head.nets.3.0.bias', 'ps.reward_head.nets.4.0.weight', 'ps.reward_head.nets.4.0.bias', 'ps.reward_head.nets.5.0.weight', 'ps.reward_head.nets.5.0.bias', 'ps.reward_head.nets.6.0.weight', 'ps.reward_head.nets.6.0.bias', 'ps.reward_head.nets.7.0.weight', 'ps.reward_head.nets.7.0.bias', 'ps.reward_head.nets.8.0.weight', 'ps.reward_head.nets.8.0.bias', 'ps.reward_head.nets.9.0.weight', 'ps.reward_head.nets.9.0.bias', 'ps.reward_head.nets.10.0.weight', 'ps.reward_head.nets.10.0.bias', 'ps.reward_head.nets.11.0.weight', 'ps.reward_head.nets.11.0.bias', 'ps.reward_head.nets.12.0.weight', 'ps.reward_head.nets.12.0.bias', 'ps.reward_head.nets.13.0.weight', 'ps.reward_head.nets.13.0.bias', 'ps.done_head.nets.0.0.weight', 'ps.done_head.nets.0.0.bias', 'ps.done_head.nets.1.0.weight', 'ps.done_head.nets.1.0.bias', 'ps.done_head.nets.2.0.weight', 'ps.done_head.nets.2.0.bias', 'ps.done_head.nets.3.0.weight', 'ps.done_head.nets.3.0.bias', 'ps.done_head.nets.4.0.weight', 'ps.done_head.nets.4.0.bias', 'ps.done_head.nets.5.0.weight', 'ps.done_head.nets.5.0.bias', 'ps.done_head.nets.6.0.weight', 'ps.done_head.nets.6.0.bias', 'ps.done_head.nets.7.0.weight', 'ps.done_head.nets.7.0.bias', 'ps.done_head.nets.8.0.weight', 'ps.done_head.nets.8.0.bias', 'ps.done_head.nets.9.0.weight', 'ps.done_head.nets.9.0.bias', 'ps.done_head.nets.10.0.weight', 'ps.done_head.nets.10.0.bias', 'ps.done_head.nets.11.0.weight', 'ps.done_head.nets.11.0.bias', 'ps.done_head.nets.12.0.weight', 'ps.done_head.nets.12.0.bias', 'ps.done_head.nets.13.0.weight', 'ps.done_head.nets.13.0.bias'])\n"
     ]
    }
   ],
   "metadata": {}
  },
  {
   "cell_type": "code",
   "execution_count": 2,
   "source": [
    "\n",
    "warnings.filterwarnings('ignore')\n",
    "\n",
    "def getRunArgs():\n",
    "    run_args = Config()\n",
    "    run_args.n_thread = 1\n",
    "    run_args.parallel = False\n",
    "    run_args.device = 'cpu'\n",
    "    run_args.n_cpu = 1/4\n",
    "    run_args.n_gpu = 0\n",
    "    run_args.debug = True\n",
    "    run_args.test = False\n",
    "    run_args.profiling = False\n",
    "    run_args.name = 'standard'\n",
    "    run_args.radius_v = 3\n",
    "    run_args.radius_pi = 1\n",
    "    run_args.radius_p = 1\n",
    "    run_args.init_checkpoint = None\n",
    "    run_args.start_step = 0\n",
    "    run_args.save_period = 1800 # in seconds\n",
    "    run_args.log_period = int(20)\n",
    "    run_args.seed = None\n",
    "    return run_args\n",
    "\n",
    "def initArgs(run_args, env_train, env_test):\n",
    "    ref_env = env_train\n",
    "    alg_args = getArgs(run_args.radius_p, run_args.radius_v, run_args.radius_pi, ref_env)\n",
    "    return alg_args\n",
    "\n",
    "def initAgent(logger, device, agent_args):\n",
    "    return DPPOAgent(logger, device, agent_args)\n",
    "\n",
    "def override(alg_args, run_args, env_fn_train):\n",
    "    alg_args.env_fn = env_fn_train\n",
    "    agent_args = alg_args.agent_args\n",
    "    p_args, v_args, pi_args = agent_args.p_args, agent_args.v_args, agent_args.pi_args\n",
    "    if run_args.debug:\n",
    "        alg_args.model_batch_size = 4\n",
    "        alg_args.max_ep_len=20\n",
    "        alg_args.rollout_length = 20\n",
    "        alg_args.test_length = 1\n",
    "        alg_args.model_buffer_size = 4\n",
    "        alg_args.n_warmup=1\n",
    "        alg_args.n_test=1\n",
    "    if run_args.test:\n",
    "        alg_args.n_warmup = 0\n",
    "        alg_args.n_test = 10\n",
    "    if run_args.profiling:\n",
    "        alg_args.model_batch_size = 128\n",
    "        alg_args.n_warmup = 0\n",
    "        if alg_args.agent_args.p_args is None:\n",
    "            alg_args.n_iter = 2\n",
    "        else:\n",
    "            alg_args.n_iter = 2\n",
    "            alg_args.model_buffer_size = 1000\n",
    "            alg_args.n_warmup = 1\n",
    "        alg_args.n_test = 1\n",
    "        alg_args.max_ep_len = 20\n",
    "        alg_args.rollout_length = 20\n",
    "        alg_args.test_length = 20\n",
    "    if run_args.seed is None:\n",
    "        run_args.seed = int(time.time()*1000)%65536\n",
    "    agent_args.parallel = run_args.parallel\n",
    "    return alg_args, run_args\n",
    "\n",
    "env_fn_train, _ = makeFlowGrid()\n",
    "env_fn_test, _ = makeFlowGridTest()\n",
    "env_train = env_fn_train()\n",
    "env_test = env_fn_test()\n",
    "run_args = getRunArgs()\n",
    "alg_args = initArgs(run_args, env_train, env_test)\n",
    "alg_args, run_args = override(alg_args, run_args, env_fn_train)\n",
    "\n",
    "os.environ['CUDA_VISIBLE_DEVICES']='0'\n",
    "ray.init(ignore_reinit_error = True, num_gpus=len(os.environ['CUDA_VISIBLE_DEVICES'].split(',')))\n",
    "logger = LogServer.remote({'run_args':run_args, 'algo_args':alg_args}, mute=run_args.debug or run_args.test or run_args.profiling)\n",
    "logger = LogClient(logger)\n",
    "agent = initAgent(logger, run_args.device, alg_args.agent_args)\n",
    "\n",
    "torch.set_num_threads(run_args.n_thread)\n",
    "print(f\"n_threads {torch.get_num_threads()}\")\n",
    "print(f\"n_gpus {torch.cuda.device_count()}\")"
   ],
   "outputs": [
    {
     "output_type": "stream",
     "name": "stderr",
     "text": [
      "2021-08-30 10:10:19,720\tWARNING utils.py:518 -- Detecting docker specified CPUs. In previous versions of Ray, CPU detection in containers was incorrect. Please ensure that Ray has enough CPUs allocated. As a temporary workaround to revert to the prior behavior, set `RAY_USE_MULTIPROCESSING_CPU_COUNT=1` as an env var before starting Ray. Set the env var: `RAY_DISABLE_DOCKER_CPU_WARNING=1` to mute this warning.\n"
     ]
    },
    {
     "output_type": "stream",
     "name": "stdout",
     "text": [
      "n_threads 1\n",
      "n_gpus 0\n"
     ]
    }
   ],
   "metadata": {}
  },
  {
   "cell_type": "code",
   "execution_count": 3,
   "source": [
    "\n",
    "if run_args.profiling:\n",
    "    import cProfile\n",
    "    cProfile.run(\"OnPolicyRunner(logger = logger, run_args=run_args, alg_args=alg_args, agent=agent, env_learn=env_train, env_test = env_test).run()\",\n",
    "                 filename=f'device{run_args.device}_parallel{run_args.parallel}.profile')\n",
    "else:\n",
    "    OnPolicyRunner(logger = logger, run_args=run_args, alg_args=alg_args, agent=agent, env_learn=env_train, env_test = env_test).run()\n"
   ],
   "outputs": [
    {
     "output_type": "stream",
     "name": "stderr",
     "text": [
      "  0%|          | 0/1 [00:01<?, ?it/s]\n"
     ]
    },
    {
     "output_type": "error",
     "ename": "RuntimeError",
     "evalue": "size mismatch, m1: [1 x 378], m2: [42 x 64] at /pytorch/aten/src/TH/generic/THTensorMath.cpp:136",
     "traceback": [
      "\u001b[0;31m---------------------------------------------------------------------------\u001b[0m",
      "\u001b[0;31mRuntimeError\u001b[0m                              Traceback (most recent call last)",
      "\u001b[0;32m/tmp/ipykernel_47854/1768126322.py\u001b[0m in \u001b[0;36m<module>\u001b[0;34m\u001b[0m\n\u001b[1;32m      4\u001b[0m                  filename=f'device{run_args.device}_parallel{run_args.parallel}.profile')\n\u001b[1;32m      5\u001b[0m \u001b[0;32melse\u001b[0m\u001b[0;34m:\u001b[0m\u001b[0;34m\u001b[0m\u001b[0;34m\u001b[0m\u001b[0m\n\u001b[0;32m----> 6\u001b[0;31m     \u001b[0mOnPolicyRunner\u001b[0m\u001b[0;34m(\u001b[0m\u001b[0mlogger\u001b[0m \u001b[0;34m=\u001b[0m \u001b[0mlogger\u001b[0m\u001b[0;34m,\u001b[0m \u001b[0mrun_args\u001b[0m\u001b[0;34m=\u001b[0m\u001b[0mrun_args\u001b[0m\u001b[0;34m,\u001b[0m \u001b[0malg_args\u001b[0m\u001b[0;34m=\u001b[0m\u001b[0malg_args\u001b[0m\u001b[0;34m,\u001b[0m \u001b[0magent\u001b[0m\u001b[0;34m=\u001b[0m\u001b[0magent\u001b[0m\u001b[0;34m,\u001b[0m \u001b[0menv_learn\u001b[0m\u001b[0;34m=\u001b[0m\u001b[0menv_train\u001b[0m\u001b[0;34m,\u001b[0m \u001b[0menv_test\u001b[0m \u001b[0;34m=\u001b[0m \u001b[0menv_test\u001b[0m\u001b[0;34m)\u001b[0m\u001b[0;34m.\u001b[0m\u001b[0mrun\u001b[0m\u001b[0;34m(\u001b[0m\u001b[0;34m)\u001b[0m\u001b[0;34m\u001b[0m\u001b[0;34m\u001b[0m\u001b[0m\n\u001b[0m",
      "\u001b[0;32m~/RL-algorithms/algorithms/mbdppo/MB_DPPO.py\u001b[0m in \u001b[0;36mrun\u001b[0;34m(self)\u001b[0m\n\u001b[1;32m    159\u001b[0m         \u001b[0;32mfor\u001b[0m \u001b[0miter\u001b[0m \u001b[0;32min\u001b[0m \u001b[0mrange\u001b[0m\u001b[0;34m(\u001b[0m\u001b[0mself\u001b[0m\u001b[0;34m.\u001b[0m\u001b[0mn_iter\u001b[0m\u001b[0;34m)\u001b[0m\u001b[0;34m:\u001b[0m\u001b[0;34m\u001b[0m\u001b[0;34m\u001b[0m\u001b[0m\n\u001b[1;32m    160\u001b[0m             \u001b[0;32mif\u001b[0m \u001b[0miter\u001b[0m \u001b[0;34m%\u001b[0m \u001b[0mself\u001b[0m\u001b[0;34m.\u001b[0m\u001b[0mtest_interval\u001b[0m \u001b[0;34m==\u001b[0m \u001b[0;36m0\u001b[0m\u001b[0;34m:\u001b[0m\u001b[0;34m\u001b[0m\u001b[0;34m\u001b[0m\u001b[0m\n\u001b[0;32m--> 161\u001b[0;31m                 \u001b[0mself\u001b[0m\u001b[0;34m.\u001b[0m\u001b[0mtest\u001b[0m\u001b[0;34m(\u001b[0m\u001b[0;34m)\u001b[0m\u001b[0;34m\u001b[0m\u001b[0;34m\u001b[0m\u001b[0m\n\u001b[0m\u001b[1;32m    162\u001b[0m             \u001b[0;32mif\u001b[0m \u001b[0mself\u001b[0m\u001b[0;34m.\u001b[0m\u001b[0mmodel_based\u001b[0m\u001b[0;34m:\u001b[0m\u001b[0;34m\u001b[0m\u001b[0;34m\u001b[0m\u001b[0m\n\u001b[1;32m    163\u001b[0m                 \u001b[0;32mfor\u001b[0m \u001b[0m_\u001b[0m \u001b[0;32min\u001b[0m \u001b[0mrange\u001b[0m\u001b[0;34m(\u001b[0m\u001b[0mself\u001b[0m\u001b[0;34m.\u001b[0m\u001b[0mn_model_update\u001b[0m\u001b[0;34m)\u001b[0m\u001b[0;34m:\u001b[0m\u001b[0;34m\u001b[0m\u001b[0;34m\u001b[0m\u001b[0m\n",
      "\u001b[0;32m~/RL-algorithms/algorithms/mbdppo/MB_DPPO.py\u001b[0m in \u001b[0;36mtest\u001b[0;34m(self)\u001b[0m\n\u001b[1;32m    189\u001b[0m                 \u001b[0ms\u001b[0m \u001b[0;34m=\u001b[0m \u001b[0menv\u001b[0m\u001b[0;34m.\u001b[0m\u001b[0mget_state\u001b[0m\u001b[0;34m(\u001b[0m\u001b[0;34m)\u001b[0m\u001b[0;34m\u001b[0m\u001b[0;34m\u001b[0m\u001b[0m\n\u001b[1;32m    190\u001b[0m                 \u001b[0ms\u001b[0m \u001b[0;34m=\u001b[0m \u001b[0mtorch\u001b[0m\u001b[0;34m.\u001b[0m\u001b[0mas_tensor\u001b[0m\u001b[0;34m(\u001b[0m\u001b[0ms\u001b[0m\u001b[0;34m,\u001b[0m \u001b[0mdtype\u001b[0m\u001b[0;34m=\u001b[0m\u001b[0mtorch\u001b[0m\u001b[0;34m.\u001b[0m\u001b[0mfloat\u001b[0m\u001b[0;34m,\u001b[0m \u001b[0mdevice\u001b[0m\u001b[0;34m=\u001b[0m\u001b[0mself\u001b[0m\u001b[0;34m.\u001b[0m\u001b[0mdevice\u001b[0m\u001b[0;34m)\u001b[0m\u001b[0;34m\u001b[0m\u001b[0;34m\u001b[0m\u001b[0m\n\u001b[0;32m--> 191\u001b[0;31m                 \u001b[0ma\u001b[0m \u001b[0;34m=\u001b[0m \u001b[0mself\u001b[0m\u001b[0;34m.\u001b[0m\u001b[0magent\u001b[0m\u001b[0;34m.\u001b[0m\u001b[0mact\u001b[0m\u001b[0;34m(\u001b[0m\u001b[0ms\u001b[0m\u001b[0;34m,\u001b[0m \u001b[0mrequires_log\u001b[0m\u001b[0;34m=\u001b[0m\u001b[0;32mFalse\u001b[0m\u001b[0;34m)\u001b[0m \u001b[0;31m# a and logp are Tensors\u001b[0m\u001b[0;34m\u001b[0m\u001b[0;34m\u001b[0m\u001b[0m\n\u001b[0m\u001b[1;32m    192\u001b[0m                 \u001b[0ma\u001b[0m \u001b[0;34m=\u001b[0m \u001b[0ma\u001b[0m\u001b[0;34m.\u001b[0m\u001b[0msqueeze\u001b[0m\u001b[0;34m(\u001b[0m\u001b[0;36m0\u001b[0m\u001b[0;34m)\u001b[0m\u001b[0;34m.\u001b[0m\u001b[0mdetach\u001b[0m\u001b[0;34m(\u001b[0m\u001b[0;34m)\u001b[0m\u001b[0;34m.\u001b[0m\u001b[0mcpu\u001b[0m\u001b[0;34m(\u001b[0m\u001b[0;34m)\u001b[0m\u001b[0;34m.\u001b[0m\u001b[0mnumpy\u001b[0m\u001b[0;34m(\u001b[0m\u001b[0;34m)\u001b[0m\u001b[0;34m\u001b[0m\u001b[0;34m\u001b[0m\u001b[0m\n\u001b[1;32m    193\u001b[0m                 \u001b[0ms1\u001b[0m\u001b[0;34m,\u001b[0m \u001b[0mr\u001b[0m\u001b[0;34m,\u001b[0m \u001b[0md\u001b[0m\u001b[0;34m,\u001b[0m \u001b[0m_\u001b[0m \u001b[0;34m=\u001b[0m \u001b[0menv\u001b[0m\u001b[0;34m.\u001b[0m\u001b[0mstep\u001b[0m\u001b[0;34m(\u001b[0m\u001b[0ma\u001b[0m\u001b[0;34m)\u001b[0m\u001b[0;34m\u001b[0m\u001b[0;34m\u001b[0m\u001b[0m\n",
      "\u001b[0;32m~/RL-algorithms/algorithms/mbdppo/MB_DPPO.py\u001b[0m in \u001b[0;36mact\u001b[0;34m(self, s, requires_log)\u001b[0m\n\u001b[1;32m    307\u001b[0m         \u001b[0mlog_probs\u001b[0m \u001b[0;34m=\u001b[0m \u001b[0;34m[\u001b[0m\u001b[0;34m]\u001b[0m\u001b[0;34m\u001b[0m\u001b[0;34m\u001b[0m\u001b[0m\n\u001b[1;32m    308\u001b[0m         \u001b[0;32mfor\u001b[0m \u001b[0mi\u001b[0m \u001b[0;32min\u001b[0m \u001b[0mrange\u001b[0m\u001b[0;34m(\u001b[0m\u001b[0mself\u001b[0m\u001b[0;34m.\u001b[0m\u001b[0mn_agent\u001b[0m\u001b[0;34m)\u001b[0m\u001b[0;34m:\u001b[0m\u001b[0;34m\u001b[0m\u001b[0;34m\u001b[0m\u001b[0m\n\u001b[0;32m--> 309\u001b[0;31m             \u001b[0mprobs\u001b[0m \u001b[0;34m=\u001b[0m \u001b[0mself\u001b[0m\u001b[0;34m.\u001b[0m\u001b[0mactors\u001b[0m\u001b[0;34m[\u001b[0m\u001b[0mi\u001b[0m\u001b[0;34m]\u001b[0m\u001b[0;34m(\u001b[0m\u001b[0ms\u001b[0m\u001b[0;34m[\u001b[0m\u001b[0mi\u001b[0m\u001b[0;34m]\u001b[0m\u001b[0;34m)\u001b[0m\u001b[0;34m\u001b[0m\u001b[0;34m\u001b[0m\u001b[0m\n\u001b[0m\u001b[1;32m    310\u001b[0m             \u001b[0mdistrib\u001b[0m \u001b[0;34m=\u001b[0m \u001b[0mCategorical\u001b[0m\u001b[0;34m(\u001b[0m\u001b[0mprobs\u001b[0m\u001b[0;34m)\u001b[0m\u001b[0;34m\u001b[0m\u001b[0;34m\u001b[0m\u001b[0m\n\u001b[1;32m    311\u001b[0m             \u001b[0maction\u001b[0m \u001b[0;34m=\u001b[0m \u001b[0mdistrib\u001b[0m\u001b[0;34m.\u001b[0m\u001b[0msample\u001b[0m\u001b[0;34m(\u001b[0m\u001b[0;34m)\u001b[0m\u001b[0;34m\u001b[0m\u001b[0;34m\u001b[0m\u001b[0m\n",
      "\u001b[0;32m~/miniconda3/envs/flow/lib/python3.7/site-packages/torch/nn/modules/module.py\u001b[0m in \u001b[0;36m__call__\u001b[0;34m(self, *input, **kwargs)\u001b[0m\n\u001b[1;32m    530\u001b[0m             \u001b[0mresult\u001b[0m \u001b[0;34m=\u001b[0m \u001b[0mself\u001b[0m\u001b[0;34m.\u001b[0m\u001b[0m_slow_forward\u001b[0m\u001b[0;34m(\u001b[0m\u001b[0;34m*\u001b[0m\u001b[0minput\u001b[0m\u001b[0;34m,\u001b[0m \u001b[0;34m**\u001b[0m\u001b[0mkwargs\u001b[0m\u001b[0;34m)\u001b[0m\u001b[0;34m\u001b[0m\u001b[0;34m\u001b[0m\u001b[0m\n\u001b[1;32m    531\u001b[0m         \u001b[0;32melse\u001b[0m\u001b[0;34m:\u001b[0m\u001b[0;34m\u001b[0m\u001b[0;34m\u001b[0m\u001b[0m\n\u001b[0;32m--> 532\u001b[0;31m             \u001b[0mresult\u001b[0m \u001b[0;34m=\u001b[0m \u001b[0mself\u001b[0m\u001b[0;34m.\u001b[0m\u001b[0mforward\u001b[0m\u001b[0;34m(\u001b[0m\u001b[0;34m*\u001b[0m\u001b[0minput\u001b[0m\u001b[0;34m,\u001b[0m \u001b[0;34m**\u001b[0m\u001b[0mkwargs\u001b[0m\u001b[0;34m)\u001b[0m\u001b[0;34m\u001b[0m\u001b[0;34m\u001b[0m\u001b[0m\n\u001b[0m\u001b[1;32m    533\u001b[0m         \u001b[0;32mfor\u001b[0m \u001b[0mhook\u001b[0m \u001b[0;32min\u001b[0m \u001b[0mself\u001b[0m\u001b[0;34m.\u001b[0m\u001b[0m_forward_hooks\u001b[0m\u001b[0;34m.\u001b[0m\u001b[0mvalues\u001b[0m\u001b[0;34m(\u001b[0m\u001b[0;34m)\u001b[0m\u001b[0;34m:\u001b[0m\u001b[0;34m\u001b[0m\u001b[0;34m\u001b[0m\u001b[0m\n\u001b[1;32m    534\u001b[0m             \u001b[0mhook_result\u001b[0m \u001b[0;34m=\u001b[0m \u001b[0mhook\u001b[0m\u001b[0;34m(\u001b[0m\u001b[0mself\u001b[0m\u001b[0;34m,\u001b[0m \u001b[0minput\u001b[0m\u001b[0;34m,\u001b[0m \u001b[0mresult\u001b[0m\u001b[0;34m)\u001b[0m\u001b[0;34m\u001b[0m\u001b[0;34m\u001b[0m\u001b[0m\n",
      "\u001b[0;32m~/RL-algorithms/algorithms/models.py\u001b[0m in \u001b[0;36mforward\u001b[0;34m(self, obs)\u001b[0m\n\u001b[1;32m    325\u001b[0m \u001b[0;34m\u001b[0m\u001b[0m\n\u001b[1;32m    326\u001b[0m     \u001b[0;32mdef\u001b[0m \u001b[0mforward\u001b[0m\u001b[0;34m(\u001b[0m\u001b[0mself\u001b[0m\u001b[0;34m,\u001b[0m \u001b[0mobs\u001b[0m\u001b[0;34m)\u001b[0m\u001b[0;34m:\u001b[0m\u001b[0;34m\u001b[0m\u001b[0;34m\u001b[0m\u001b[0m\n\u001b[0;32m--> 327\u001b[0;31m         \u001b[0mlogit\u001b[0m \u001b[0;34m=\u001b[0m \u001b[0mself\u001b[0m\u001b[0;34m.\u001b[0m\u001b[0mnetwork\u001b[0m\u001b[0;34m(\u001b[0m\u001b[0mobs\u001b[0m\u001b[0;34m)\u001b[0m\u001b[0;34m\u001b[0m\u001b[0;34m\u001b[0m\u001b[0m\n\u001b[0m\u001b[1;32m    328\u001b[0m         \u001b[0;32mwhile\u001b[0m \u001b[0mlen\u001b[0m\u001b[0;34m(\u001b[0m\u001b[0mlogit\u001b[0m\u001b[0;34m.\u001b[0m\u001b[0mshape\u001b[0m\u001b[0;34m)\u001b[0m \u001b[0;34m>\u001b[0m \u001b[0;36m2\u001b[0m\u001b[0;34m:\u001b[0m\u001b[0;34m\u001b[0m\u001b[0;34m\u001b[0m\u001b[0m\n\u001b[1;32m    329\u001b[0m             \u001b[0mlogit\u001b[0m \u001b[0;34m=\u001b[0m \u001b[0mlogit\u001b[0m\u001b[0;34m.\u001b[0m\u001b[0msqueeze\u001b[0m\u001b[0;34m(\u001b[0m\u001b[0;34m-\u001b[0m\u001b[0;36m1\u001b[0m\u001b[0;34m)\u001b[0m  \u001b[0;31m# HW of size 1 if CNN\u001b[0m\u001b[0;34m\u001b[0m\u001b[0;34m\u001b[0m\u001b[0m\n",
      "\u001b[0;32m~/miniconda3/envs/flow/lib/python3.7/site-packages/torch/nn/modules/module.py\u001b[0m in \u001b[0;36m__call__\u001b[0;34m(self, *input, **kwargs)\u001b[0m\n\u001b[1;32m    530\u001b[0m             \u001b[0mresult\u001b[0m \u001b[0;34m=\u001b[0m \u001b[0mself\u001b[0m\u001b[0;34m.\u001b[0m\u001b[0m_slow_forward\u001b[0m\u001b[0;34m(\u001b[0m\u001b[0;34m*\u001b[0m\u001b[0minput\u001b[0m\u001b[0;34m,\u001b[0m \u001b[0;34m**\u001b[0m\u001b[0mkwargs\u001b[0m\u001b[0;34m)\u001b[0m\u001b[0;34m\u001b[0m\u001b[0;34m\u001b[0m\u001b[0m\n\u001b[1;32m    531\u001b[0m         \u001b[0;32melse\u001b[0m\u001b[0;34m:\u001b[0m\u001b[0;34m\u001b[0m\u001b[0;34m\u001b[0m\u001b[0m\n\u001b[0;32m--> 532\u001b[0;31m             \u001b[0mresult\u001b[0m \u001b[0;34m=\u001b[0m \u001b[0mself\u001b[0m\u001b[0;34m.\u001b[0m\u001b[0mforward\u001b[0m\u001b[0;34m(\u001b[0m\u001b[0;34m*\u001b[0m\u001b[0minput\u001b[0m\u001b[0;34m,\u001b[0m \u001b[0;34m**\u001b[0m\u001b[0mkwargs\u001b[0m\u001b[0;34m)\u001b[0m\u001b[0;34m\u001b[0m\u001b[0;34m\u001b[0m\u001b[0m\n\u001b[0m\u001b[1;32m    533\u001b[0m         \u001b[0;32mfor\u001b[0m \u001b[0mhook\u001b[0m \u001b[0;32min\u001b[0m \u001b[0mself\u001b[0m\u001b[0;34m.\u001b[0m\u001b[0m_forward_hooks\u001b[0m\u001b[0;34m.\u001b[0m\u001b[0mvalues\u001b[0m\u001b[0;34m(\u001b[0m\u001b[0;34m)\u001b[0m\u001b[0;34m:\u001b[0m\u001b[0;34m\u001b[0m\u001b[0;34m\u001b[0m\u001b[0m\n\u001b[1;32m    534\u001b[0m             \u001b[0mhook_result\u001b[0m \u001b[0;34m=\u001b[0m \u001b[0mhook\u001b[0m\u001b[0;34m(\u001b[0m\u001b[0mself\u001b[0m\u001b[0;34m,\u001b[0m \u001b[0minput\u001b[0m\u001b[0;34m,\u001b[0m \u001b[0mresult\u001b[0m\u001b[0;34m)\u001b[0m\u001b[0;34m\u001b[0m\u001b[0;34m\u001b[0m\u001b[0m\n",
      "\u001b[0;32m~/miniconda3/envs/flow/lib/python3.7/site-packages/torch/nn/modules/container.py\u001b[0m in \u001b[0;36mforward\u001b[0;34m(self, input)\u001b[0m\n\u001b[1;32m     98\u001b[0m     \u001b[0;32mdef\u001b[0m \u001b[0mforward\u001b[0m\u001b[0;34m(\u001b[0m\u001b[0mself\u001b[0m\u001b[0;34m,\u001b[0m \u001b[0minput\u001b[0m\u001b[0;34m)\u001b[0m\u001b[0;34m:\u001b[0m\u001b[0;34m\u001b[0m\u001b[0;34m\u001b[0m\u001b[0m\n\u001b[1;32m     99\u001b[0m         \u001b[0;32mfor\u001b[0m \u001b[0mmodule\u001b[0m \u001b[0;32min\u001b[0m \u001b[0mself\u001b[0m\u001b[0;34m:\u001b[0m\u001b[0;34m\u001b[0m\u001b[0;34m\u001b[0m\u001b[0m\n\u001b[0;32m--> 100\u001b[0;31m             \u001b[0minput\u001b[0m \u001b[0;34m=\u001b[0m \u001b[0mmodule\u001b[0m\u001b[0;34m(\u001b[0m\u001b[0minput\u001b[0m\u001b[0;34m)\u001b[0m\u001b[0;34m\u001b[0m\u001b[0;34m\u001b[0m\u001b[0m\n\u001b[0m\u001b[1;32m    101\u001b[0m         \u001b[0;32mreturn\u001b[0m \u001b[0minput\u001b[0m\u001b[0;34m\u001b[0m\u001b[0;34m\u001b[0m\u001b[0m\n\u001b[1;32m    102\u001b[0m \u001b[0;34m\u001b[0m\u001b[0m\n",
      "\u001b[0;32m~/miniconda3/envs/flow/lib/python3.7/site-packages/torch/nn/modules/module.py\u001b[0m in \u001b[0;36m__call__\u001b[0;34m(self, *input, **kwargs)\u001b[0m\n\u001b[1;32m    530\u001b[0m             \u001b[0mresult\u001b[0m \u001b[0;34m=\u001b[0m \u001b[0mself\u001b[0m\u001b[0;34m.\u001b[0m\u001b[0m_slow_forward\u001b[0m\u001b[0;34m(\u001b[0m\u001b[0;34m*\u001b[0m\u001b[0minput\u001b[0m\u001b[0;34m,\u001b[0m \u001b[0;34m**\u001b[0m\u001b[0mkwargs\u001b[0m\u001b[0;34m)\u001b[0m\u001b[0;34m\u001b[0m\u001b[0;34m\u001b[0m\u001b[0m\n\u001b[1;32m    531\u001b[0m         \u001b[0;32melse\u001b[0m\u001b[0;34m:\u001b[0m\u001b[0;34m\u001b[0m\u001b[0;34m\u001b[0m\u001b[0m\n\u001b[0;32m--> 532\u001b[0;31m             \u001b[0mresult\u001b[0m \u001b[0;34m=\u001b[0m \u001b[0mself\u001b[0m\u001b[0;34m.\u001b[0m\u001b[0mforward\u001b[0m\u001b[0;34m(\u001b[0m\u001b[0;34m*\u001b[0m\u001b[0minput\u001b[0m\u001b[0;34m,\u001b[0m \u001b[0;34m**\u001b[0m\u001b[0mkwargs\u001b[0m\u001b[0;34m)\u001b[0m\u001b[0;34m\u001b[0m\u001b[0;34m\u001b[0m\u001b[0m\n\u001b[0m\u001b[1;32m    533\u001b[0m         \u001b[0;32mfor\u001b[0m \u001b[0mhook\u001b[0m \u001b[0;32min\u001b[0m \u001b[0mself\u001b[0m\u001b[0;34m.\u001b[0m\u001b[0m_forward_hooks\u001b[0m\u001b[0;34m.\u001b[0m\u001b[0mvalues\u001b[0m\u001b[0;34m(\u001b[0m\u001b[0;34m)\u001b[0m\u001b[0;34m:\u001b[0m\u001b[0;34m\u001b[0m\u001b[0;34m\u001b[0m\u001b[0m\n\u001b[1;32m    534\u001b[0m             \u001b[0mhook_result\u001b[0m \u001b[0;34m=\u001b[0m \u001b[0mhook\u001b[0m\u001b[0;34m(\u001b[0m\u001b[0mself\u001b[0m\u001b[0;34m,\u001b[0m \u001b[0minput\u001b[0m\u001b[0;34m,\u001b[0m \u001b[0mresult\u001b[0m\u001b[0;34m)\u001b[0m\u001b[0;34m\u001b[0m\u001b[0;34m\u001b[0m\u001b[0m\n",
      "\u001b[0;32m~/miniconda3/envs/flow/lib/python3.7/site-packages/torch/nn/modules/linear.py\u001b[0m in \u001b[0;36mforward\u001b[0;34m(self, input)\u001b[0m\n\u001b[1;32m     85\u001b[0m \u001b[0;34m\u001b[0m\u001b[0m\n\u001b[1;32m     86\u001b[0m     \u001b[0;32mdef\u001b[0m \u001b[0mforward\u001b[0m\u001b[0;34m(\u001b[0m\u001b[0mself\u001b[0m\u001b[0;34m,\u001b[0m \u001b[0minput\u001b[0m\u001b[0;34m)\u001b[0m\u001b[0;34m:\u001b[0m\u001b[0;34m\u001b[0m\u001b[0;34m\u001b[0m\u001b[0m\n\u001b[0;32m---> 87\u001b[0;31m         \u001b[0;32mreturn\u001b[0m \u001b[0mF\u001b[0m\u001b[0;34m.\u001b[0m\u001b[0mlinear\u001b[0m\u001b[0;34m(\u001b[0m\u001b[0minput\u001b[0m\u001b[0;34m,\u001b[0m \u001b[0mself\u001b[0m\u001b[0;34m.\u001b[0m\u001b[0mweight\u001b[0m\u001b[0;34m,\u001b[0m \u001b[0mself\u001b[0m\u001b[0;34m.\u001b[0m\u001b[0mbias\u001b[0m\u001b[0;34m)\u001b[0m\u001b[0;34m\u001b[0m\u001b[0;34m\u001b[0m\u001b[0m\n\u001b[0m\u001b[1;32m     88\u001b[0m \u001b[0;34m\u001b[0m\u001b[0m\n\u001b[1;32m     89\u001b[0m     \u001b[0;32mdef\u001b[0m \u001b[0mextra_repr\u001b[0m\u001b[0;34m(\u001b[0m\u001b[0mself\u001b[0m\u001b[0;34m)\u001b[0m\u001b[0;34m:\u001b[0m\u001b[0;34m\u001b[0m\u001b[0;34m\u001b[0m\u001b[0m\n",
      "\u001b[0;32m~/miniconda3/envs/flow/lib/python3.7/site-packages/torch/nn/functional.py\u001b[0m in \u001b[0;36mlinear\u001b[0;34m(input, weight, bias)\u001b[0m\n\u001b[1;32m   1368\u001b[0m     \u001b[0;32mif\u001b[0m \u001b[0minput\u001b[0m\u001b[0;34m.\u001b[0m\u001b[0mdim\u001b[0m\u001b[0;34m(\u001b[0m\u001b[0;34m)\u001b[0m \u001b[0;34m==\u001b[0m \u001b[0;36m2\u001b[0m \u001b[0;32mand\u001b[0m \u001b[0mbias\u001b[0m \u001b[0;32mis\u001b[0m \u001b[0;32mnot\u001b[0m \u001b[0;32mNone\u001b[0m\u001b[0;34m:\u001b[0m\u001b[0;34m\u001b[0m\u001b[0;34m\u001b[0m\u001b[0m\n\u001b[1;32m   1369\u001b[0m         \u001b[0;31m# fused op is marginally faster\u001b[0m\u001b[0;34m\u001b[0m\u001b[0;34m\u001b[0m\u001b[0;34m\u001b[0m\u001b[0m\n\u001b[0;32m-> 1370\u001b[0;31m         \u001b[0mret\u001b[0m \u001b[0;34m=\u001b[0m \u001b[0mtorch\u001b[0m\u001b[0;34m.\u001b[0m\u001b[0maddmm\u001b[0m\u001b[0;34m(\u001b[0m\u001b[0mbias\u001b[0m\u001b[0;34m,\u001b[0m \u001b[0minput\u001b[0m\u001b[0;34m,\u001b[0m \u001b[0mweight\u001b[0m\u001b[0;34m.\u001b[0m\u001b[0mt\u001b[0m\u001b[0;34m(\u001b[0m\u001b[0;34m)\u001b[0m\u001b[0;34m)\u001b[0m\u001b[0;34m\u001b[0m\u001b[0;34m\u001b[0m\u001b[0m\n\u001b[0m\u001b[1;32m   1371\u001b[0m     \u001b[0;32melse\u001b[0m\u001b[0;34m:\u001b[0m\u001b[0;34m\u001b[0m\u001b[0;34m\u001b[0m\u001b[0m\n\u001b[1;32m   1372\u001b[0m         \u001b[0moutput\u001b[0m \u001b[0;34m=\u001b[0m \u001b[0minput\u001b[0m\u001b[0;34m.\u001b[0m\u001b[0mmatmul\u001b[0m\u001b[0;34m(\u001b[0m\u001b[0mweight\u001b[0m\u001b[0;34m.\u001b[0m\u001b[0mt\u001b[0m\u001b[0;34m(\u001b[0m\u001b[0;34m)\u001b[0m\u001b[0;34m)\u001b[0m\u001b[0;34m\u001b[0m\u001b[0;34m\u001b[0m\u001b[0m\n",
      "\u001b[0;31mRuntimeError\u001b[0m: size mismatch, m1: [1 x 378], m2: [42 x 64] at /pytorch/aten/src/TH/generic/THTensorMath.cpp:136"
     ]
    }
   ],
   "metadata": {}
  }
 ],
 "metadata": {
  "orig_nbformat": 4,
  "language_info": {
   "name": "python",
   "version": "3.7.3",
   "mimetype": "text/x-python",
   "codemirror_mode": {
    "name": "ipython",
    "version": 3
   },
   "pygments_lexer": "ipython3",
   "nbconvert_exporter": "python",
   "file_extension": ".py"
  },
  "kernelspec": {
   "name": "python3",
   "display_name": "Python 3.7.3 64-bit ('flow_new': conda)"
  },
  "interpreter": {
   "hash": "13ae5f37170fc2a01a58be7252511640fcef280854556c493ac7107ba1cd0e42"
  }
 },
 "nbformat": 4,
 "nbformat_minor": 2
}
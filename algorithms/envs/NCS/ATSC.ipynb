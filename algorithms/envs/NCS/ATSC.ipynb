{
 "cells": [
  {
   "cell_type": "code",
   "execution_count": null,
   "id": "9ebc4096-f0e7-4a73-980d-83c1b88ecbe2",
   "metadata": {},
   "outputs": [],
   "source": [
    "import torch\n",
    "import numpy as np\n",
    "import os\n",
    "import configparser"
   ]
  },
  {
   "cell_type": "code",
   "execution_count": null,
   "id": "9e0c9f63-50a1-4520-83b2-5116006dfc4b",
   "metadata": {},
   "outputs": [],
   "source": [
    "from large_grid_env import LargeGridEnv"
   ]
  },
  {
   "cell_type": "code",
   "execution_count": null,
   "id": "d28103bc-b292-4d40-b2ee-e69c077287ef",
   "metadata": {},
   "outputs": [],
   "source": [
    "config_path = \"config/config_ma2c_nc_grid.ini\"\n",
    "config_path = os.path.join(os.path.dirname(\".\"), config_path)\n",
    "config = configparser.ConfigParser()\n",
    "config.read(config_path)\n",
    "config = config['ENV_CONFIG']"
   ]
  },
  {
   "cell_type": "code",
   "execution_count": null,
   "id": "000d9d3d-72f1-4ac7-8140-1e08b6669914",
   "metadata": {},
   "outputs": [],
   "source": [
    "env = LargeGridEnv(config, port=0)"
   ]
  },
  {
   "cell_type": "code",
   "execution_count": null,
   "id": "305d2ddc-716a-4661-a366-2aee7ec7f6fc",
   "metadata": {},
   "outputs": [],
   "source": []
  }
 ],
 "metadata": {
  "kernelspec": {
   "display_name": "Python 3",
   "language": "python",
   "name": "python3"
  },
  "language_info": {
   "codemirror_mode": {
    "name": "ipython",
    "version": 3
   },
   "file_extension": ".py",
   "mimetype": "text/x-python",
   "name": "python",
   "nbconvert_exporter": "python",
   "pygments_lexer": "ipython3",
   "version": "3.7.0"
  }
 },
 "nbformat": 4,
 "nbformat_minor": 5
}

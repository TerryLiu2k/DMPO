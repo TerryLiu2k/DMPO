{
 "cells": [
  {
   "cell_type": "code",
   "execution_count": 2,
   "id": "romantic-catalog",
   "metadata": {},
   "outputs": [],
   "source": [
    "import torch\n",
    "import numpy as np\n",
    "import os\n",
    "import configparser"
   ]
  },
  {
   "cell_type": "code",
   "execution_count": null,
   "id": "consecutive-apparatus",
   "metadata": {},
   "outputs": [],
   "source": [
    "from large_grid_env import LargeGridEnv"
   ]
  },
  {
   "cell_type": "code",
   "execution_count": null,
   "id": "referenced-breach",
   "metadata": {},
   "outputs": [],
   "source": [
    "config_path = \"config/config_ma2c_nc_grid.ini\"\n",
    "config_path = os.path.join(os.path.dirname(\".\"), config_path)\n",
    "config = configparser.ConfigParser()\n",
    "config.read(config_path)\n",
    "config = config['ENV_CONFIG']"
   ]
  },
  {
   "cell_type": "code",
   "execution_count": null,
   "id": "intelligent-religion",
   "metadata": {},
   "outputs": [],
   "source": [
    "env = LargeGridEnv(config, port=0)"
   ]
  },
  {
   "cell_type": "code",
   "execution_count": 3,
   "id": "primary-graphic",
   "metadata": {},
   "outputs": [
    {
     "data": {
      "text/plain": [
       "80743"
      ]
     },
     "execution_count": 3,
     "metadata": {},
     "output_type": "execute_result"
    }
   ],
   "source": [
    "np.random.randint(100000)"
   ]
  },
  {
   "cell_type": "code",
   "execution_count": null,
   "id": "twelve-publicity",
   "metadata": {},
   "outputs": [],
   "source": []
  }
 ],
 "metadata": {
  "kernelspec": {
   "display_name": "Python 3",
   "language": "python",
   "name": "python3"
  },
  "language_info": {
   "codemirror_mode": {
    "name": "ipython",
    "version": 3
   },
   "file_extension": ".py",
   "mimetype": "text/x-python",
   "name": "python",
   "nbconvert_exporter": "python",
   "pygments_lexer": "ipython3",
   "version": "3.8.7"
  }
 },
 "nbformat": 4,
 "nbformat_minor": 5
}

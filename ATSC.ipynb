{
 "cells": [
  {
   "cell_type": "code",
   "execution_count": null,
   "id": "ed24765a-391d-4f3e-8084-f4e41e5f60c6",
   "metadata": {},
   "outputs": [],
   "source": [
    "%load_ext autoreload\n",
    "%autoreload 2\n"
   ]
  },
  {
   "cell_type": "markdown",
   "id": "satellite-highway",
   "metadata": {},
   "source": [
    "# Traci"
   ]
  },
  {
   "cell_type": "code",
   "execution_count": null,
   "id": "31da3415-4502-4353-93cd-057f1e1827b6",
   "metadata": {},
   "outputs": [],
   "source": [
    "path='/usr/share/sumo/tests/complex/tutorial/traci_tls'\n",
    "from __future__ import absolute_import\n",
    "from __future__ import print_function\n",
    "\n",
    "import os\n",
    "import sys\n",
    "import random\n",
    "\n",
    "# we need to import python modules from the $SUMO_HOME/tools directory\n",
    "if 'SUMO_HOME' in os.environ:\n",
    "    tools = os.path.join(os.environ['SUMO_HOME'], 'tools')\n",
    "    sys.path.append(tools)\n",
    "else:\n",
    "    sys.exit(\"please declare environment variable 'SUMO_HOME'\")\n",
    "\n",
    "from sumolib import checkBinary  # noqa\n",
    "import traci  # noqa"
   ]
  },
  {
   "cell_type": "code",
   "execution_count": null,
   "id": "37301dc0-e1ec-40dd-ba9b-fbe6906b2f0c",
   "metadata": {},
   "outputs": [],
   "source": [
    "# this script has been called from the command line. It will start sumo as a\n",
    "# server, then connect and run\n",
    "sumoBinary = checkBinary('sumo')\n",
    "\n",
    "\n",
    "# this is the normal way of using traci. sumo is started as a\n",
    "# subprocess and then the python script connects and runs\n",
    "traci.start([sumoBinary, \"-c\", f\"{path}/data/cross.sumocfg\",\n",
    "                         \"--tripinfo-output\", \"tripinfo.xml\"])"
   ]
  },
  {
   "cell_type": "markdown",
   "id": "89dbbfbc-426f-4ef5-af82-49f96ed2b04c",
   "metadata": {},
   "source": [
    "## Run a simulation until all vehicles have arrived"
   ]
  },
  {
   "cell_type": "code",
   "execution_count": null,
   "id": "813a99f9-2712-4762-a43f-6af6346ae02a",
   "metadata": {},
   "outputs": [],
   "source": [
    "while traci.simulation.getMinExpectedNumber() > 0:\n",
    "  traci.simulationStep()\n",
    "traci.close()"
   ]
  },
  {
   "cell_type": "markdown",
   "id": "40d0c88c-235f-434a-8166-c17d90fe2365",
   "metadata": {},
   "source": [
    "## TrafficLights"
   ]
  },
  {
   "cell_type": "code",
   "execution_count": null,
   "id": "f9bf0ad0-1e5a-4306-8d59-679f5872fb1f",
   "metadata": {},
   "outputs": [],
   "source": []
  },
  {
   "cell_type": "code",
   "execution_count": null,
   "id": "5895c9d0-312b-458d-a052-c1065d9f6ddb",
   "metadata": {},
   "outputs": [],
   "source": [
    "traci.simulationStep()\n",
    "if traci.trafficlight.getPhase(\"0\") == 2:\n",
    "    # we are not already switching\n",
    "    if traci.inductionloop.getLastStepVehicleNumber(\"0\") > 0:\n",
    "        # there is a vehicle from the north, switch\n",
    "        traci.trafficlight.setPhase(\"0\", 3)\n",
    "    else:\n",
    "        # otherwise try to keep green for EW\n",
    "        traci.trafficlight.setPhase(\"0\", 2)"
   ]
  },
  {
   "cell_type": "markdown",
   "id": "3a5b93db-fba7-497e-b383-92a3544b63a8",
   "metadata": {},
   "source": [
    "## Vehicles"
   ]
  },
  {
   "cell_type": "code",
   "execution_count": null,
   "id": "a0ab5c4c-4a02-42a9-b5ee-e278f02a96c4",
   "metadata": {},
   "outputs": [],
   "source": [
    "while traci.simulation.getMinExpectedNumber() > 0:\n",
    "    traci.simulationStep()\n",
    "    if len(traci.vehicle.getIDList()) > 0:\n",
    "        break"
   ]
  },
  {
   "cell_type": "code",
   "execution_count": null,
   "id": "3f80524e-3fb5-4516-a7c9-34b1941c31f4",
   "metadata": {},
   "outputs": [],
   "source": [
    "traci.vehicle.getIDList()"
   ]
  },
  {
   "cell_type": "code",
   "execution_count": null,
   "id": "2a8c8caa-042b-44b3-90f6-b43046385262",
   "metadata": {},
   "outputs": [],
   "source": [
    "traci.vehicle.getSpeed(\"left_0\")\n",
    "traci.vehicle.getPosition(\"left_0\")"
   ]
  },
  {
   "cell_type": "markdown",
   "id": "c1e29ab6-99ad-43b4-b478-d141c6815995",
   "metadata": {},
   "source": [
    "# ATSC"
   ]
  },
  {
   "cell_type": "markdown",
   "id": "46b8d38e-a8ed-4df0-85b3-995b98db6d00",
   "metadata": {},
   "source": [
    "## Large Grid\n",
    "25 agents, 12 dim observation"
   ]
  },
  {
   "cell_type": "code",
   "execution_count": null,
   "id": "established-relief",
   "metadata": {},
   "outputs": [],
   "source": [
    "from algorithms.envs.NCS.large_grid_env import LargeGridEnv\n",
    "import os\n",
    "import configparser\n",
    "import traci"
   ]
  },
  {
   "cell_type": "code",
   "execution_count": null,
   "id": "mature-organizer",
   "metadata": {},
   "outputs": [],
   "source": [
    "config_path = \"algorithms/envs/NCS/config/config_ma2c_nc_grid.ini\"\n",
    "config_path = os.path.join(os.path.dirname(\".\"), config_path)\n",
    "config = configparser.ConfigParser()\n",
    "config.read(config_path)\n",
    "config = config['ENV_CONFIG']\n",
    "env = LargeGridEnv(config)"
   ]
  },
  {
   "cell_type": "code",
   "execution_count": null,
   "id": "c7cd2150-d607-4865-a798-e51d31b7dc1a",
   "metadata": {},
   "outputs": [],
   "source": [
    "state = env.reset()"
   ]
  },
  {
   "cell_type": "markdown",
   "id": "6c71cc6b-2155-43d0-a80e-55306ca6d72d",
   "metadata": {},
   "source": [
    "## Real Net\n",
    "28 agents, observation space from 2 dim to 22 dim ..."
   ]
  },
  {
   "cell_type": "code",
   "execution_count": null,
   "id": "db4bc2e9-32fe-4979-a3c5-03550d3451be",
   "metadata": {},
   "outputs": [],
   "source": [
    "from algorithms.envs.NCS.real_net_env import RealNetEnv\n",
    "import os\n",
    "import configparser\n",
    "import traci"
   ]
  },
  {
   "cell_type": "code",
   "execution_count": null,
   "id": "ecc0f0f4-a460-43d8-8124-ba9ecf7ff54b",
   "metadata": {},
   "outputs": [],
   "source": [
    "config_path = \"algorithms/envs/NCS/config/config_ma2c_nc_net.ini\"\n",
    "config_path = os.path.join(os.path.dirname(\".\"), config_path)\n",
    "config = configparser.ConfigParser()\n",
    "config.read(config_path)\n",
    "config = config['ENV_CONFIG']\n",
    "env = RealNetEnv(config)"
   ]
  },
  {
   "cell_type": "code",
   "execution_count": null,
   "id": "d9142d30-1f4c-47ee-81a6-517e2707db7a",
   "metadata": {},
   "outputs": [],
   "source": [
    "state = env.reset()"
   ]
  }
 ],
 "metadata": {
  "kernelspec": {
   "display_name": "Python 3",
   "language": "python",
   "name": "python3"
  },
  "language_info": {
   "codemirror_mode": {
    "name": "ipython",
    "version": 3
   },
   "file_extension": ".py",
   "mimetype": "text/x-python",
   "name": "python",
   "nbconvert_exporter": "python",
   "pygments_lexer": "ipython3",
   "version": "3.8.8"
  }
 },
 "nbformat": 4,
 "nbformat_minor": 5
}

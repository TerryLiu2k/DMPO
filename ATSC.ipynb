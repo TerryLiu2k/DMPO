{
 "cells": [
  {
   "cell_type": "code",
   "execution_count": null,
   "id": "sufficient-least",
   "metadata": {},
   "outputs": [],
   "source": [
    "%load_ext autoreload\n",
    "%autoreload 2\n"
   ]
  },
  {
   "cell_type": "markdown",
   "id": "ideal-stone",
   "metadata": {},
   "source": [
    "# Traci"
   ]
  },
  {
   "cell_type": "code",
   "execution_count": null,
   "id": "boring-barrier",
   "metadata": {},
   "outputs": [],
   "source": [
    "path='/usr/share/sumo/tests/complex/tutorial/traci_tls'\n",
    "from __future__ import absolute_import\n",
    "from __future__ import print_function\n",
    "\n",
    "import os\n",
    "import sys\n",
    "import random\n",
    "\n",
    "# we need to import python modules from the $SUMO_HOME/tools directory\n",
    "if 'SUMO_HOME' in os.environ:\n",
    "    tools = os.path.join(os.environ['SUMO_HOME'], 'tools')\n",
    "    sys.path.append(tools)\n",
    "else:\n",
    "    sys.exit(\"please declare environment variable 'SUMO_HOME'\")\n",
    "\n",
    "from sumolib import checkBinary  # noqa\n",
    "import traci  # noqa"
   ]
  },
  {
   "cell_type": "code",
   "execution_count": null,
   "id": "hawaiian-dance",
   "metadata": {},
   "outputs": [],
   "source": [
    "# this script has been called from the command line. It will start sumo as a\n",
    "# server, then connect and run\n",
    "sumoBinary = checkBinary('sumo')\n",
    "\n",
    "\n",
    "# this is the normal way of using traci. sumo is started as a\n",
    "# subprocess and then the python script connects and runs\n",
    "traci.start([sumoBinary, \"-c\", f\"{path}/data/cross.sumocfg\",\n",
    "                         \"--tripinfo-output\", \"tripinfo.xml\"])"
   ]
  },
  {
   "cell_type": "markdown",
   "id": "european-interaction",
   "metadata": {},
   "source": [
    "## Run a simulation until all vehicles have arrived"
   ]
  },
  {
   "cell_type": "code",
   "execution_count": null,
   "id": "lightweight-prompt",
   "metadata": {},
   "outputs": [],
   "source": [
    "while traci.simulation.getMinExpectedNumber() > 0:\n",
    "  traci.simulationStep()\n",
    "traci.close()"
   ]
  },
  {
   "cell_type": "markdown",
   "id": "prescription-michael",
   "metadata": {},
   "source": [
    "## TrafficLights"
   ]
  },
  {
   "cell_type": "code",
   "execution_count": null,
   "id": "close-darwin",
   "metadata": {},
   "outputs": [],
   "source": []
  },
  {
   "cell_type": "code",
   "execution_count": null,
   "id": "standard-forth",
   "metadata": {},
   "outputs": [],
   "source": [
    "traci.simulationStep()\n",
    "if traci.trafficlight.getPhase(\"0\") == 2:\n",
    "    # we are not already switching\n",
    "    if traci.inductionloop.getLastStepVehicleNumber(\"0\") > 0:\n",
    "        # there is a vehicle from the north, switch\n",
    "        traci.trafficlight.setPhase(\"0\", 3)\n",
    "    else:\n",
    "        # otherwise try to keep green for EW\n",
    "        traci.trafficlight.setPhase(\"0\", 2)"
   ]
  },
  {
   "cell_type": "markdown",
   "id": "sharing-approach",
   "metadata": {},
   "source": [
    "## Vehicles"
   ]
  },
  {
   "cell_type": "code",
   "execution_count": null,
   "id": "signed-conversation",
   "metadata": {},
   "outputs": [],
   "source": [
    "while traci.simulation.getMinExpectedNumber() > 0:\n",
    "    traci.simulationStep()\n",
    "    if len(traci.vehicle.getIDList()) > 0:\n",
    "        break"
   ]
  },
  {
   "cell_type": "code",
   "execution_count": null,
   "id": "needed-tuning",
   "metadata": {},
   "outputs": [],
   "source": [
    "traci.vehicle.getIDList()"
   ]
  },
  {
   "cell_type": "code",
   "execution_count": null,
   "id": "attached-aruba",
   "metadata": {},
   "outputs": [],
   "source": [
    "traci.vehicle.getSpeed(\"left_0\")\n",
    "traci.vehicle.getPosition(\"left_0\")"
   ]
  },
  {
   "cell_type": "markdown",
   "id": "unsigned-arthur",
   "metadata": {},
   "source": [
    "# ATSC"
   ]
  },
  {
   "cell_type": "markdown",
   "id": "processed-showcase",
   "metadata": {},
   "source": [
    "## Large Grid\n",
    "25 agents, 12 dim observation"
   ]
  },
  {
   "cell_type": "code",
   "execution_count": null,
   "id": "interested-florida",
   "metadata": {},
   "outputs": [],
   "source": [
    "from algorithms.envs.NCS.large_grid_env import LargeGridEnv\n",
    "import os\n",
    "import configparser\n",
    "import traci"
   ]
  },
  {
   "cell_type": "code",
   "execution_count": null,
   "id": "resistant-rwanda",
   "metadata": {},
   "outputs": [],
   "source": [
    "config_path = \"algorithms/envs/NCS/config/config_ma2c_nc_grid.ini\"\n",
    "config_path = os.path.join(os.path.dirname(\".\"), config_path)\n",
    "config = configparser.ConfigParser()\n",
    "config.read(config_path)\n",
    "config = config['ENV_CONFIG']\n",
    "env = LargeGridEnv(config)"
   ]
  },
  {
   "cell_type": "code",
   "execution_count": null,
   "id": "silent-jason",
   "metadata": {},
   "outputs": [],
   "source": [
    "state = env.reset()"
   ]
  },
  {
   "cell_type": "markdown",
   "id": "original-brooks",
   "metadata": {},
   "source": [
    "## Real Net\n",
    "28 agents, observation space from 2 dim to 22 dim ..."
   ]
  },
  {
   "cell_type": "code",
   "execution_count": null,
   "id": "parallel-balloon",
   "metadata": {},
   "outputs": [],
   "source": [
    "from algorithms.envs.NCS.real_net_env import RealNetEnv\n",
    "import os\n",
    "import configparser\n",
    "import traci"
   ]
  },
  {
   "cell_type": "code",
   "execution_count": null,
   "id": "human-washington",
   "metadata": {},
   "outputs": [],
   "source": [
    "config_path = \"algorithms/envs/NCS/config/config_ma2c_nc_net.ini\"\n",
    "config_path = os.path.join(os.path.dirname(\".\"), config_path)\n",
    "config = configparser.ConfigParser()\n",
    "config.read(config_path)\n",
    "config = config['ENV_CONFIG']\n",
    "env = RealNetEnv(config)"
   ]
  },
  {
   "cell_type": "code",
   "execution_count": null,
   "id": "centered-receptor",
   "metadata": {},
   "outputs": [],
   "source": [
    "state = env.reset()"
   ]
  },
  {
   "cell_type": "code",
   "execution_count": null,
   "id": "republican-landing",
   "metadata": {},
   "outputs": [],
   "source": [
    "import ray"
   ]
  },
  {
   "cell_type": "code",
   "execution_count": null,
   "id": "signed-finder",
   "metadata": {},
   "outputs": [],
   "source": [
    "torch"
   ]
  },
  {
   "cell_type": "code",
   "execution_count": null,
   "id": "ordered-block",
   "metadata": {},
   "outputs": [],
   "source": [
    "import torch"
   ]
  },
  {
   "cell_type": "code",
   "execution_count": 16,
   "id": "stable-exception",
   "metadata": {},
   "outputs": [],
   "source": [
    "x= torch.zeros((100, 100)).to('cuda')"
   ]
  },
  {
   "cell_type": "code",
   "execution_count": null,
   "id": "maritime-little",
   "metadata": {},
   "outputs": [],
   "source": []
  },
  {
   "cell_type": "code",
   "execution_count": null,
   "id": "modular-peninsula",
   "metadata": {},
   "outputs": [],
   "source": [
    "x.to()"
   ]
  },
  {
   "cell_type": "code",
   "execution_count": 17,
   "id": "immediate-leader",
   "metadata": {},
   "outputs": [
    {
     "data": {
      "text/plain": [
       "tensor([[0., 0., 0.,  ..., 0., 0., 0.],\n",
       "        [0., 0., 0.,  ..., 0., 0., 0.],\n",
       "        [0., 0., 0.,  ..., 0., 0., 0.],\n",
       "        ...,\n",
       "        [0., 0., 0.,  ..., 0., 0., 0.],\n",
       "        [0., 0., 0.,  ..., 0., 0., 0.],\n",
       "        [0., 0., 0.,  ..., 0., 0., 0.]], device='cuda:0')"
      ]
     },
     "execution_count": 17,
     "metadata": {},
     "output_type": "execute_result"
    }
   ],
   "source": [
    "x"
   ]
  },
  {
   "cell_type": "code",
   "execution_count": null,
   "id": "settled-audio",
   "metadata": {},
   "outputs": [],
   "source": [
    "print(s)"
   ]
  },
  {
   "cell_type": "code",
   "execution_count": null,
   "id": "sudden-finder",
   "metadata": {},
   "outputs": [],
   "source": []
  },
  {
   "cell_type": "code",
   "execution_count": null,
   "id": "individual-saver",
   "metadata": {},
   "outputs": [],
   "source": []
  },
  {
   "cell_type": "code",
   "execution_count": null,
   "id": "judicial-performer",
   "metadata": {},
   "outputs": [],
   "source": []
  }
 ],
 "metadata": {
  "kernelspec": {
   "display_name": "Python 3",
   "language": "python",
   "name": "python3"
  },
  "language_info": {
   "codemirror_mode": {
    "name": "ipython",
    "version": 3
   },
   "file_extension": ".py",
   "mimetype": "text/x-python",
   "name": "python",
   "nbconvert_exporter": "python",
   "pygments_lexer": "ipython3",
   "version": "3.8.7"
  }
 },
 "nbformat": 4,
 "nbformat_minor": 5
}

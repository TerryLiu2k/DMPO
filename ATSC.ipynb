{
 "cells": [
  {
   "cell_type": "code",
   "execution_count": null,
   "id": "alleged-clinton",
   "metadata": {},
   "outputs": [],
   "source": [
    "%load_ext autoreload\n",
    "%autoreload 2\n"
   ]
  },
  {
   "cell_type": "markdown",
   "id": "hazardous-eight",
   "metadata": {},
   "source": [
    "# Traci"
   ]
  },
  {
   "cell_type": "code",
   "execution_count": null,
   "id": "sophisticated-position",
   "metadata": {},
   "outputs": [],
   "source": [
    "path='/usr/share/sumo/tests/complex/tutorial/traci_tls'\n",
    "from __future__ import absolute_import\n",
    "from __future__ import print_function\n",
    "\n",
    "import os\n",
    "import sys\n",
    "import random\n",
    "\n",
    "# we need to import python modules from the $SUMO_HOME/tools directory\n",
    "if 'SUMO_HOME' in os.environ:\n",
    "    tools = os.path.join(os.environ['SUMO_HOME'], 'tools')\n",
    "    sys.path.append(tools)\n",
    "else:\n",
    "    sys.exit(\"please declare environment variable 'SUMO_HOME'\")\n",
    "\n",
    "from sumolib import checkBinary  # noqa\n",
    "import traci  # noqa"
   ]
  },
  {
   "cell_type": "code",
   "execution_count": null,
   "id": "major-guarantee",
   "metadata": {},
   "outputs": [],
   "source": [
    "# this script has been called from the command line. It will start sumo as a\n",
    "# server, then connect and run\n",
    "sumoBinary = checkBinary('sumo')\n",
    "\n",
    "\n",
    "# this is the normal way of using traci. sumo is started as a\n",
    "# subprocess and then the python script connects and runs\n",
    "traci.start([sumoBinary, \"-c\", f\"{path}/data/cross.sumocfg\",\n",
    "                         \"--tripinfo-output\", \"tripinfo.xml\"])"
   ]
  },
  {
   "cell_type": "markdown",
   "id": "portuguese-macintosh",
   "metadata": {},
   "source": [
    "## Run a simulation until all vehicles have arrived"
   ]
  },
  {
   "cell_type": "code",
   "execution_count": null,
   "id": "studied-mistress",
   "metadata": {},
   "outputs": [],
   "source": [
    "while traci.simulation.getMinExpectedNumber() > 0:\n",
    "  traci.simulationStep()\n",
    "traci.close()"
   ]
  },
  {
   "cell_type": "markdown",
   "id": "valid-tyler",
   "metadata": {},
   "source": [
    "## TrafficLights"
   ]
  },
  {
   "cell_type": "code",
   "execution_count": null,
   "id": "quarterly-budget",
   "metadata": {},
   "outputs": [],
   "source": []
  },
  {
   "cell_type": "code",
   "execution_count": null,
   "id": "atmospheric-brand",
   "metadata": {},
   "outputs": [],
   "source": [
    "traci.simulationStep()\n",
    "if traci.trafficlight.getPhase(\"0\") == 2:\n",
    "    # we are not already switching\n",
    "    if traci.inductionloop.getLastStepVehicleNumber(\"0\") > 0:\n",
    "        # there is a vehicle from the north, switch\n",
    "        traci.trafficlight.setPhase(\"0\", 3)\n",
    "    else:\n",
    "        # otherwise try to keep green for EW\n",
    "        traci.trafficlight.setPhase(\"0\", 2)"
   ]
  },
  {
   "cell_type": "markdown",
   "id": "structured-winter",
   "metadata": {},
   "source": [
    "## Vehicles"
   ]
  },
  {
   "cell_type": "code",
   "execution_count": null,
   "id": "primary-preview",
   "metadata": {},
   "outputs": [],
   "source": [
    "while traci.simulation.getMinExpectedNumber() > 0:\n",
    "    traci.simulationStep()\n",
    "    if len(traci.vehicle.getIDList()) > 0:\n",
    "        break"
   ]
  },
  {
   "cell_type": "code",
   "execution_count": null,
   "id": "opening-mercury",
   "metadata": {},
   "outputs": [],
   "source": [
    "traci.vehicle.getIDList()"
   ]
  },
  {
   "cell_type": "code",
   "execution_count": null,
   "id": "controlled-fitting",
   "metadata": {},
   "outputs": [],
   "source": [
    "traci.vehicle.getSpeed(\"left_0\")\n",
    "traci.vehicle.getPosition(\"left_0\")"
   ]
  },
  {
   "cell_type": "markdown",
   "id": "cooperative-conditions",
   "metadata": {},
   "source": [
    "# ATSC"
   ]
  },
  {
   "cell_type": "markdown",
   "id": "offensive-fraud",
   "metadata": {},
   "source": [
    "## Large Grid\n",
    "25 agents, 12 dim observation"
   ]
  },
  {
   "cell_type": "code",
   "execution_count": null,
   "id": "limited-pressure",
   "metadata": {},
   "outputs": [],
   "source": [
    "from algorithms.envs.NCS.large_grid_env import LargeGridEnv\n",
    "import os\n",
    "import configparser\n",
    "import traci"
   ]
  },
  {
   "cell_type": "code",
   "execution_count": null,
   "id": "stunning-color",
   "metadata": {},
   "outputs": [],
   "source": [
    "config_path = \"algorithms/envs/NCS/config/config_ma2c_nc_grid.ini\"\n",
    "config_path = os.path.join(os.path.dirname(\".\"), config_path)\n",
    "config = configparser.ConfigParser()\n",
    "config.read(config_path)\n",
    "config = config['ENV_CONFIG']\n",
    "env = LargeGridEnv(config)"
   ]
  },
  {
   "cell_type": "code",
   "execution_count": null,
   "id": "unlimited-punch",
   "metadata": {},
   "outputs": [],
   "source": [
    "state = env.reset()"
   ]
  },
  {
   "cell_type": "code",
   "execution_count": null,
   "id": "intensive-comment",
   "metadata": {},
   "outputs": [],
   "source": [
    "s, r, d, i = env.step([0]*25)"
   ]
  },
  {
   "cell_type": "markdown",
   "id": "smoking-checklist",
   "metadata": {},
   "source": [
    "## Real Net\n",
    "28 agents, observation space from 2 dim to 22 dim, action space 2 to 6."
   ]
  },
  {
   "cell_type": "code",
   "execution_count": null,
   "id": "respiratory-bernard",
   "metadata": {},
   "outputs": [],
   "source": [
    "from algorithms.envs.NCS.real_net_env import RealNetEnv\n",
    "import os\n",
    "import configparser\n",
    "import traci\n",
    "import numpy as np\n",
    "\n",
    "config_path = \"algorithms/envs/NCS/config/config_ma2c_nc_net.ini\"\n",
    "config_path = os.path.join(os.path.dirname(\".\"), config_path)\n",
    "config = configparser.ConfigParser()\n",
    "config.read(config_path)\n",
    "config = config['ENV_CONFIG']\n",
    "env = RealNetEnv(config)\n",
    "env.terminate()"
   ]
  },
  {
   "cell_type": "code",
   "execution_count": null,
   "id": "threatened-munich",
   "metadata": {},
   "outputs": [],
   "source": [
    "config_path = \"algorithms/envs/NCS/config/config_ma2c_nc_net.ini\"\n",
    "config_path = os.path.join(os.path.dirname(\".\"), config_path)\n",
    "config = configparser.ConfigParser()\n",
    "config.read(config_path)\n",
    "config = config['ENV_CONFIG']\n",
    "env = RealNetEnv(config)"
   ]
  },
  {
   "cell_type": "code",
   "execution_count": null,
   "id": "lined-screening",
   "metadata": {},
   "outputs": [],
   "source": [
    "state = env.reset()"
   ]
  },
  {
   "cell_type": "code",
   "execution_count": null,
   "id": "minor-panic",
   "metadata": {},
   "outputs": [],
   "source": [
    "env.node_names\n",
    "env.phase_node_map\n",
    "env.phase_map.phases"
   ]
  },
  {
   "cell_type": "code",
   "execution_count": null,
   "id": "parallel-setup",
   "metadata": {},
   "outputs": [],
   "source": [
    "phases = [env.phase_node_map[node] for node in env.node_names]\n",
    "n_action = [env.phase_map.get_phase_num(item) for item in phases]\n",
    "state, reward, done, info = env.step(np.array(n_action)-1)"
   ]
  },
  {
   "cell_type": "markdown",
   "id": "black-upper",
   "metadata": {},
   "source": [
    "## Why is not it symetric?"
   ]
  },
  {
   "cell_type": "code",
   "execution_count": 63,
   "id": "removable-discrimination",
   "metadata": {},
   "outputs": [
    {
     "data": {
      "text/plain": [
       "{'10026': ['9431', '9561', 'cluster_9563_9597', '9531'],\n",
       " '8794': ['cluster_8985_9609', '9837', '9058', 'cluster_9563_9597'],\n",
       " '8940': ['9007', '9429'],\n",
       " '8996': [],\n",
       " '9007': ['9309', '8940'],\n",
       " '9058': ['cluster_8985_9609', '8794', 'joinedS_0'],\n",
       " '9153': ['9643'],\n",
       " '9309': ['9466', '9007', 'cluster_9043_9052'],\n",
       " '9413': ['9721', '9837'],\n",
       " '9429': ['cluster_9043_9052', '8940'],\n",
       " '9431': ['9721', '9884', '9561', '10026'],\n",
       " '9433': [],\n",
       " '9466': ['9309', 'joinedS_0'],\n",
       " '9480': [],\n",
       " '9531': ['joinedS_1'],\n",
       " '9561': ['cluster_9389_9689', '10026'],\n",
       " '9643': ['9153'],\n",
       " '9713': ['9721'],\n",
       " '9721': ['9431', '9713', '9413'],\n",
       " '9837': ['9413', '8794', 'cluster_8985_9609'],\n",
       " '9884': ['9713', 'cluster_9389_9689'],\n",
       " 'cluster_8751_9630': [],\n",
       " 'cluster_8985_9609': ['9837', '8794', '9058'],\n",
       " 'cluster_9043_9052': ['cluster_9563_9597', '10026', 'joinedS_1'],\n",
       " 'cluster_9389_9689': ['cluster_8751_9630', '9884', '9561', '8996'],\n",
       " 'cluster_9563_9597': ['10026', '8794', 'joinedS_0', 'cluster_9043_9052'],\n",
       " 'joinedS_0': ['9058', 'cluster_9563_9597', '9466'],\n",
       " 'joinedS_1': ['9531', '9429']}"
      ]
     },
     "execution_count": 63,
     "metadata": {},
     "output_type": "execute_result"
    }
   ],
   "source": [
    "env.neighbor_map\n",
    "np.zeros()"
   ]
  },
  {
   "cell_type": "code",
   "execution_count": 62,
   "id": "sunset-firmware",
   "metadata": {},
   "outputs": [
    {
     "name": "stdout",
     "output_type": "stream",
     "text": [
      "neighbors: [6 5 3 2 3 4 2 4 3 4 5 1 3 1 3 4 2 3 4 4 4 2 4 6 5 5 4 4]\n"
     ]
    }
   ],
   "source": [
    "radius = 1\n",
    "x = env.neighbor_mask\n",
    "x = x + x.transpose(1, 0) + np.eye(*x.shape, dtype=\"int\")\n",
    "result = np.eye(*x.shape, dtype='int')\n",
    "for i in range(radius):\n",
    "    result = result.dot(x)\n",
    "result = result.clip(0, 1)\n",
    "print(f\"neighbors: {result.sum(axis=1)}\")"
   ]
  },
  {
   "cell_type": "code",
   "execution_count": 1,
   "id": "understood-envelope",
   "metadata": {},
   "outputs": [],
   "source": [
    "import numpy as np"
   ]
  },
  {
   "cell_type": "code",
   "execution_count": 2,
   "id": "collect-navigation",
   "metadata": {},
   "outputs": [
    {
     "name": "stderr",
     "output_type": "stream",
     "text": [
      "<ipython-input-2-6e30176e80ae>:1: VisibleDeprecationWarning: Creating an ndarray from ragged nested sequences (which is a list-or-tuple of lists-or-tuples-or ndarrays with different lengths or shapes) is deprecated. If you meant to do this, you must specify 'dtype=object' when creating the ndarray.\n",
      "  np.array([[1], [1, 2]])\n"
     ]
    },
    {
     "data": {
      "text/plain": [
       "array([list([1]), list([1, 2])], dtype=object)"
      ]
     },
     "execution_count": 2,
     "metadata": {},
     "output_type": "execute_result"
    }
   ],
   "source": [
    "np.array([[1], [1, 2]])"
   ]
  },
  {
   "cell_type": "code",
   "execution_count": null,
   "id": "structural-vermont",
   "metadata": {},
   "outputs": [],
   "source": []
  }
 ],
 "metadata": {
  "kernelspec": {
   "display_name": "Python 3",
   "language": "python",
   "name": "python3"
  },
  "language_info": {
   "codemirror_mode": {
    "name": "ipython",
    "version": 3
   },
   "file_extension": ".py",
   "mimetype": "text/x-python",
   "name": "python",
   "nbconvert_exporter": "python",
   "pygments_lexer": "ipython3",
   "version": "3.8.7"
  }
 },
 "nbformat": 4,
 "nbformat_minor": 5
}

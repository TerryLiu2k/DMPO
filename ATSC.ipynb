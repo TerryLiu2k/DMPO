{
 "cells": [
  {
   "cell_type": "code",
   "execution_count": null,
   "id": "established-relief",
   "metadata": {},
   "outputs": [],
   "source": [
    "from algorithms.envs.NCS.large_grid_env import LargeGridEnv\n",
    "import os\n",
    "import configparser"
   ]
  },
  {
   "cell_type": "code",
   "execution_count": null,
   "id": "mature-organizer",
   "metadata": {},
   "outputs": [],
   "source": [
    "config_path = \"algorithms/envs/NCS/config/config_ma2c_nc_grid.ini\"\n",
    "config_path = os.path.join(os.path.dirname(\".\"), config_path)\n",
    "config = configparser.ConfigParser()\n",
    "config.read(config_path)\n",
    "config = config['ENV_CONFIG']\n",
    "env = LargeGridEnv(config, port=9999)"
   ]
  },
  {
   "cell_type": "markdown",
   "id": "satellite-highway",
   "metadata": {},
   "source": [
    "key codes:\n",
    "\n",
    "in atsc_env.py\n",
    "```\n",
    "import tracei \n",
    "\n",
    "self.sim = traci.connect(port=self.port)\n",
    "```\n",
    "\n",
    "TraCI\n",
    "https://sumo.dlr.de/docs/TraCI.html\n"
   ]
  },
  {
   "cell_type": "code",
   "execution_count": null,
   "id": "built-clearing",
   "metadata": {},
   "outputs": [],
   "source": [
    "sumo --remote-port 9999 -c algorithms/envs/NCS/envs/large_grid_data/exp_0.sumocfg"
   ]
  },
  {
   "cell_type": "code",
   "execution_count": null,
   "id": "tropical-engine",
   "metadata": {},
   "outputs": [],
   "source": []
  }
 ],
 "metadata": {
  "kernelspec": {
   "display_name": "Python 3",
   "language": "python",
   "name": "python3"
  },
  "language_info": {
   "codemirror_mode": {
    "name": "ipython",
    "version": 3
   },
   "file_extension": ".py",
   "mimetype": "text/x-python",
   "name": "python",
   "nbconvert_exporter": "python",
   "pygments_lexer": "ipython3",
   "version": "3.8.7"
  }
 },
 "nbformat": 4,
 "nbformat_minor": 5
}

{
 "cells": [
  {
   "cell_type": "code",
   "execution_count": null,
   "id": "second-first",
   "metadata": {},
   "outputs": [],
   "source": [
    "%load_ext autoreload\n",
    "%autoreload 2\n"
   ]
  },
  {
   "cell_type": "markdown",
   "id": "minor-tamil",
   "metadata": {},
   "source": [
    "# Traci"
   ]
  },
  {
   "cell_type": "code",
   "execution_count": 1,
   "id": "right-strategy",
   "metadata": {},
   "outputs": [],
   "source": [
    "path='/usr/share/sumo/tests/complex/tutorial/traci_tls'\n",
    "from __future__ import absolute_import\n",
    "from __future__ import print_function\n",
    "\n",
    "import os\n",
    "import sys\n",
    "import random\n",
    "\n",
    "# we need to import python modules from the $SUMO_HOME/tools directory\n",
    "if 'SUMO_HOME' in os.environ:\n",
    "    tools = os.path.join(os.environ['SUMO_HOME'], 'tools')\n",
    "    sys.path.append(tools)\n",
    "else:\n",
    "    sys.exit(\"please declare environment variable 'SUMO_HOME'\")\n",
    "\n",
    "from sumolib import checkBinary  # noqa\n",
    "import traci  # noqa"
   ]
  },
  {
   "cell_type": "code",
   "execution_count": null,
   "id": "functioning-battery",
   "metadata": {},
   "outputs": [],
   "source": [
    "# this script has been called from the command line. It will start sumo as a\n",
    "# server, then connect and run\n",
    "sumoBinary = checkBinary('sumo')\n",
    "\n",
    "\n",
    "# this is the normal way of using traci. sumo is started as a\n",
    "# subprocess and then the python script connects and runs\n",
    "traci.start([sumoBinary, \"-c\", f\"{path}/data/cross.sumocfg\",\n",
    "                         \"--tripinfo-output\", \"tripinfo.xml\"])"
   ]
  },
  {
   "cell_type": "markdown",
   "id": "intended-madrid",
   "metadata": {},
   "source": [
    "## Run a simulation until all vehicles have arrived"
   ]
  },
  {
   "cell_type": "code",
   "execution_count": null,
   "id": "relative-swiss",
   "metadata": {},
   "outputs": [],
   "source": [
    "while traci.simulation.getMinExpectedNumber() > 0:\n",
    "  traci.simulationStep()\n",
    "traci.close()"
   ]
  },
  {
   "cell_type": "markdown",
   "id": "alternative-progress",
   "metadata": {},
   "source": [
    "## TrafficLights"
   ]
  },
  {
   "cell_type": "code",
   "execution_count": null,
   "id": "digital-cyprus",
   "metadata": {},
   "outputs": [],
   "source": []
  },
  {
   "cell_type": "code",
   "execution_count": null,
   "id": "antique-browser",
   "metadata": {},
   "outputs": [],
   "source": [
    "traci.simulationStep()\n",
    "if traci.trafficlight.getPhase(\"0\") == 2:\n",
    "    # we are not already switching\n",
    "    if traci.inductionloop.getLastStepVehicleNumber(\"0\") > 0:\n",
    "        # there is a vehicle from the north, switch\n",
    "        traci.trafficlight.setPhase(\"0\", 3)\n",
    "    else:\n",
    "        # otherwise try to keep green for EW\n",
    "        traci.trafficlight.setPhase(\"0\", 2)"
   ]
  },
  {
   "cell_type": "markdown",
   "id": "hairy-growing",
   "metadata": {},
   "source": [
    "## Vehicles"
   ]
  },
  {
   "cell_type": "code",
   "execution_count": null,
   "id": "stretch-lodging",
   "metadata": {},
   "outputs": [],
   "source": [
    "while traci.simulation.getMinExpectedNumber() > 0:\n",
    "    traci.simulationStep()\n",
    "    if len(traci.vehicle.getIDList()) > 0:\n",
    "        break"
   ]
  },
  {
   "cell_type": "code",
   "execution_count": null,
   "id": "engaging-principle",
   "metadata": {},
   "outputs": [],
   "source": [
    "traci.vehicle.getIDList()"
   ]
  },
  {
   "cell_type": "code",
   "execution_count": null,
   "id": "assured-cleveland",
   "metadata": {},
   "outputs": [],
   "source": [
    "traci.vehicle.getSpeed(\"left_0\")\n",
    "traci.vehicle.getPosition(\"left_0\")"
   ]
  },
  {
   "cell_type": "markdown",
   "id": "reduced-prerequisite",
   "metadata": {},
   "source": [
    "# ATSC"
   ]
  },
  {
   "cell_type": "markdown",
   "id": "essential-morgan",
   "metadata": {},
   "source": [
    "## Large Grid\n",
    "25 agents, 12 dim observation"
   ]
  },
  {
   "cell_type": "code",
   "execution_count": null,
   "id": "attended-reunion",
   "metadata": {},
   "outputs": [],
   "source": [
    "from algorithms.envs.NCS.large_grid_env import LargeGridEnv\n",
    "import os\n",
    "import configparser\n",
    "import traci"
   ]
  },
  {
   "cell_type": "code",
   "execution_count": null,
   "id": "appointed-corruption",
   "metadata": {},
   "outputs": [],
   "source": [
    "config_path = \"algorithms/envs/NCS/config/config_ma2c_nc_grid.ini\"\n",
    "config_path = os.path.join(os.path.dirname(\".\"), config_path)\n",
    "config = configparser.ConfigParser()\n",
    "config.read(config_path)\n",
    "config = config['ENV_CONFIG']\n",
    "env = LargeGridEnv(config)"
   ]
  },
  {
   "cell_type": "code",
   "execution_count": null,
   "id": "accepting-leisure",
   "metadata": {},
   "outputs": [],
   "source": [
    "state = env.reset()"
   ]
  },
  {
   "cell_type": "code",
   "execution_count": null,
   "id": "phantom-housing",
   "metadata": {},
   "outputs": [],
   "source": [
    "s, r, d, i = env.step([0]*25)"
   ]
  },
  {
   "cell_type": "markdown",
   "id": "registered-serial",
   "metadata": {},
   "source": [
    "## Real Net\n",
    "28 agents, observation space from 2 dim to 22 dim, action space 2 to 6."
   ]
  },
  {
   "cell_type": "code",
   "execution_count": 3,
   "id": "laden-broadcast",
   "metadata": {},
   "outputs": [
    {
     "name": "stdout",
     "output_type": "stream",
     "text": [
      "Initializing sumo with label 472907\n",
      " Retrying in 1 seconds\n"
     ]
    },
    {
     "ename": "TraCIException",
     "evalue": "Connection '472907' is not known.",
     "output_type": "error",
     "traceback": [
      "\u001b[0;31m---------------------------------------------------------------------------\u001b[0m",
      "\u001b[0;31mTraCIException\u001b[0m                            Traceback (most recent call last)",
      "\u001b[0;32m<ipython-input-3-8b0d1186c8a9>\u001b[0m in \u001b[0;36m<module>\u001b[0;34m\u001b[0m\n\u001b[1;32m     11\u001b[0m \u001b[0mconfig\u001b[0m \u001b[0;34m=\u001b[0m \u001b[0mconfig\u001b[0m\u001b[0;34m[\u001b[0m\u001b[0;34m'ENV_CONFIG'\u001b[0m\u001b[0;34m]\u001b[0m\u001b[0;34m\u001b[0m\u001b[0;34m\u001b[0m\u001b[0m\n\u001b[1;32m     12\u001b[0m \u001b[0menv\u001b[0m \u001b[0;34m=\u001b[0m \u001b[0mRealNetEnv\u001b[0m\u001b[0;34m(\u001b[0m\u001b[0mconfig\u001b[0m\u001b[0;34m)\u001b[0m\u001b[0;34m\u001b[0m\u001b[0;34m\u001b[0m\u001b[0m\n\u001b[0;32m---> 13\u001b[0;31m \u001b[0menv\u001b[0m\u001b[0;34m.\u001b[0m\u001b[0mterminate\u001b[0m\u001b[0;34m(\u001b[0m\u001b[0;34m)\u001b[0m\u001b[0;34m\u001b[0m\u001b[0;34m\u001b[0m\u001b[0m\n\u001b[0m",
      "\u001b[0;32m/workspace/RL-algorithms/algorithms/envs/NCS/atsc_env.py\u001b[0m in \u001b[0;36mterminate\u001b[0;34m(self)\u001b[0m\n\u001b[1;32m    214\u001b[0m \u001b[0;34m\u001b[0m\u001b[0m\n\u001b[1;32m    215\u001b[0m     \u001b[0;32mdef\u001b[0m \u001b[0mterminate\u001b[0m\u001b[0;34m(\u001b[0m\u001b[0mself\u001b[0m\u001b[0;34m)\u001b[0m\u001b[0;34m:\u001b[0m\u001b[0;34m\u001b[0m\u001b[0;34m\u001b[0m\u001b[0m\n\u001b[0;32m--> 216\u001b[0;31m         \u001b[0mtraci\u001b[0m\u001b[0;34m.\u001b[0m\u001b[0mswitch\u001b[0m\u001b[0;34m(\u001b[0m\u001b[0mself\u001b[0m\u001b[0;34m.\u001b[0m\u001b[0mlabel\u001b[0m\u001b[0;34m)\u001b[0m\u001b[0;34m\u001b[0m\u001b[0;34m\u001b[0m\u001b[0m\n\u001b[0m\u001b[1;32m    217\u001b[0m         \u001b[0mself\u001b[0m\u001b[0;34m.\u001b[0m\u001b[0msim\u001b[0m\u001b[0;34m.\u001b[0m\u001b[0mclose\u001b[0m\u001b[0;34m(\u001b[0m\u001b[0;34m)\u001b[0m\u001b[0;34m\u001b[0m\u001b[0;34m\u001b[0m\u001b[0m\n\u001b[1;32m    218\u001b[0m \u001b[0;34m\u001b[0m\u001b[0m\n",
      "\u001b[0;32m/usr/share/sumo/tools/traci/main.py\u001b[0m in \u001b[0;36mswitch\u001b[0;34m(label)\u001b[0m\n\u001b[1;32m    275\u001b[0m \u001b[0;34m\u001b[0m\u001b[0m\n\u001b[1;32m    276\u001b[0m \u001b[0;32mdef\u001b[0m \u001b[0mswitch\u001b[0m\u001b[0;34m(\u001b[0m\u001b[0mlabel\u001b[0m\u001b[0;34m)\u001b[0m\u001b[0;34m:\u001b[0m\u001b[0;34m\u001b[0m\u001b[0;34m\u001b[0m\u001b[0m\n\u001b[0;32m--> 277\u001b[0;31m     \u001b[0mcon\u001b[0m \u001b[0;34m=\u001b[0m \u001b[0mgetConnection\u001b[0m\u001b[0;34m(\u001b[0m\u001b[0mlabel\u001b[0m\u001b[0;34m)\u001b[0m\u001b[0;34m\u001b[0m\u001b[0;34m\u001b[0m\u001b[0m\n\u001b[0m\u001b[1;32m    278\u001b[0m     \u001b[0m_connections\u001b[0m\u001b[0;34m[\u001b[0m\u001b[0;34m\"\"\u001b[0m\u001b[0;34m]\u001b[0m \u001b[0;34m=\u001b[0m \u001b[0mcon\u001b[0m\u001b[0;34m\u001b[0m\u001b[0;34m\u001b[0m\u001b[0m\n\u001b[1;32m    279\u001b[0m     \u001b[0m_currentLabel\u001b[0m\u001b[0;34m[\u001b[0m\u001b[0;36m0\u001b[0m\u001b[0;34m]\u001b[0m \u001b[0;34m=\u001b[0m \u001b[0mlabel\u001b[0m\u001b[0;34m\u001b[0m\u001b[0;34m\u001b[0m\u001b[0m\n",
      "\u001b[0;32m/usr/share/sumo/tools/traci/main.py\u001b[0m in \u001b[0;36mgetConnection\u001b[0;34m(label)\u001b[0m\n\u001b[1;32m    293\u001b[0m \u001b[0;32mdef\u001b[0m \u001b[0mgetConnection\u001b[0m\u001b[0;34m(\u001b[0m\u001b[0mlabel\u001b[0m\u001b[0;34m=\u001b[0m\u001b[0;34m\"default\"\u001b[0m\u001b[0;34m)\u001b[0m\u001b[0;34m:\u001b[0m\u001b[0;34m\u001b[0m\u001b[0;34m\u001b[0m\u001b[0m\n\u001b[1;32m    294\u001b[0m     \u001b[0;32mif\u001b[0m \u001b[0mlabel\u001b[0m \u001b[0;32mnot\u001b[0m \u001b[0;32min\u001b[0m \u001b[0m_connections\u001b[0m\u001b[0;34m:\u001b[0m\u001b[0;34m\u001b[0m\u001b[0;34m\u001b[0m\u001b[0m\n\u001b[0;32m--> 295\u001b[0;31m         \u001b[0;32mraise\u001b[0m \u001b[0mTraCIException\u001b[0m\u001b[0;34m(\u001b[0m\u001b[0;34m\"Connection '%s' is not known.\"\u001b[0m \u001b[0;34m%\u001b[0m \u001b[0mlabel\u001b[0m\u001b[0;34m)\u001b[0m\u001b[0;34m\u001b[0m\u001b[0;34m\u001b[0m\u001b[0m\n\u001b[0m\u001b[1;32m    296\u001b[0m     \u001b[0;32mreturn\u001b[0m \u001b[0m_connections\u001b[0m\u001b[0;34m[\u001b[0m\u001b[0mlabel\u001b[0m\u001b[0;34m]\u001b[0m\u001b[0;34m\u001b[0m\u001b[0;34m\u001b[0m\u001b[0m\n\u001b[1;32m    297\u001b[0m \u001b[0;34m\u001b[0m\u001b[0m\n",
      "\u001b[0;31mTraCIException\u001b[0m: Connection '472907' is not known."
     ]
    }
   ],
   "source": [
    "from algorithms.envs.NCS.real_net_env import RealNetEnv\n",
    "import os\n",
    "import configparser\n",
    "import traci\n",
    "import numpy as np\n",
    "\n",
    "config_path = \"algorithms/envs/NCS/config/config_ma2c_nc_net.ini\"\n",
    "config_path = os.path.join(os.path.dirname(\".\"), config_path)\n",
    "config = configparser.ConfigParser()\n",
    "config.read(config_path)\n",
    "config = config['ENV_CONFIG']\n",
    "env = RealNetEnv(config)\n",
    "env.terminate()"
   ]
  },
  {
   "cell_type": "code",
   "execution_count": null,
   "id": "seeing-confidence",
   "metadata": {},
   "outputs": [],
   "source": [
    "state = env.reset()"
   ]
  },
  {
   "cell_type": "code",
   "execution_count": null,
   "id": "loose-hardware",
   "metadata": {},
   "outputs": [],
   "source": [
    "env.node_names\n",
    "env.phase_node_map\n",
    "env.phase_map.phases"
   ]
  },
  {
   "cell_type": "code",
   "execution_count": null,
   "id": "through-duration",
   "metadata": {},
   "outputs": [],
   "source": [
    "phases = [env.phase_node_map[node] for node in env.node_names]\n",
    "n_action = [env.phase_map.get_phase_num(item) for item in phases]\n",
    "state, reward, done, info = env.step(np.array(n_action)-1)"
   ]
  },
  {
   "cell_type": "markdown",
   "id": "aggregate-kinase",
   "metadata": {},
   "source": [
    "## Why is not it symetric?"
   ]
  },
  {
   "cell_type": "code",
   "execution_count": 63,
   "id": "discrete-color",
   "metadata": {},
   "outputs": [
    {
     "data": {
      "text/plain": [
       "{'10026': ['9431', '9561', 'cluster_9563_9597', '9531'],\n",
       " '8794': ['cluster_8985_9609', '9837', '9058', 'cluster_9563_9597'],\n",
       " '8940': ['9007', '9429'],\n",
       " '8996': [],\n",
       " '9007': ['9309', '8940'],\n",
       " '9058': ['cluster_8985_9609', '8794', 'joinedS_0'],\n",
       " '9153': ['9643'],\n",
       " '9309': ['9466', '9007', 'cluster_9043_9052'],\n",
       " '9413': ['9721', '9837'],\n",
       " '9429': ['cluster_9043_9052', '8940'],\n",
       " '9431': ['9721', '9884', '9561', '10026'],\n",
       " '9433': [],\n",
       " '9466': ['9309', 'joinedS_0'],\n",
       " '9480': [],\n",
       " '9531': ['joinedS_1'],\n",
       " '9561': ['cluster_9389_9689', '10026'],\n",
       " '9643': ['9153'],\n",
       " '9713': ['9721'],\n",
       " '9721': ['9431', '9713', '9413'],\n",
       " '9837': ['9413', '8794', 'cluster_8985_9609'],\n",
       " '9884': ['9713', 'cluster_9389_9689'],\n",
       " 'cluster_8751_9630': [],\n",
       " 'cluster_8985_9609': ['9837', '8794', '9058'],\n",
       " 'cluster_9043_9052': ['cluster_9563_9597', '10026', 'joinedS_1'],\n",
       " 'cluster_9389_9689': ['cluster_8751_9630', '9884', '9561', '8996'],\n",
       " 'cluster_9563_9597': ['10026', '8794', 'joinedS_0', 'cluster_9043_9052'],\n",
       " 'joinedS_0': ['9058', 'cluster_9563_9597', '9466'],\n",
       " 'joinedS_1': ['9531', '9429']}"
      ]
     },
     "execution_count": 63,
     "metadata": {},
     "output_type": "execute_result"
    }
   ],
   "source": [
    "env.neighbor_map\n",
    "np.zeros()"
   ]
  },
  {
   "cell_type": "code",
   "execution_count": 62,
   "id": "numeric-metabolism",
   "metadata": {},
   "outputs": [
    {
     "name": "stdout",
     "output_type": "stream",
     "text": [
      "neighbors: [6 5 3 2 3 4 2 4 3 4 5 1 3 1 3 4 2 3 4 4 4 2 4 6 5 5 4 4]\n"
     ]
    }
   ],
   "source": [
    "radius = 1\n",
    "x = env.neighbor_mask\n",
    "x = x + x.transpose(1, 0) + np.eye(*x.shape, dtype=\"int\")\n",
    "result = np.eye(*x.shape, dtype='int')\n",
    "for i in range(radius):\n",
    "    result = result.dot(x)\n",
    "result = result.clip(0, 1)\n",
    "print(f\"neighbors: {result.sum(axis=1)}\")"
   ]
  }
 ],
 "metadata": {
  "kernelspec": {
   "display_name": "Python 3",
   "language": "python",
   "name": "python3"
  },
  "language_info": {
   "codemirror_mode": {
    "name": "ipython",
    "version": 3
   },
   "file_extension": ".py",
   "mimetype": "text/x-python",
   "name": "python",
   "nbconvert_exporter": "python",
   "pygments_lexer": "ipython3",
   "version": "3.8.7"
  }
 },
 "nbformat": 4,
 "nbformat_minor": 5
}

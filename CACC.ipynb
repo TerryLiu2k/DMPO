{
 "cells": [
  {
   "cell_type": "code",
   "execution_count": null,
   "metadata": {},
   "outputs": [],
   "source": [
    "%load_ext autoreload\n",
    "%autoreload 2\n",
    "\n",
    "from algorithms.envs.NCS.cacc_env import CACCEnv\n",
    "import configparser"
   ]
  },
  {
   "cell_type": "markdown",
   "metadata": {},
   "source": [
    "input: action\n",
    "\n",
    "output: state reward, done, global_reward\n",
    "\n",
    "8 vehicles\n",
    "\n",
    "([v_state, vdiff_state, vhdiff_state, h_state, u_state])\n",
    "\n",
    "v-v_star/v_star, v difference from car', vhdiff, distance from car', acceleration\n",
    "\n",
    "code for vhdiff:\n",
    "        vh = self.ovm.get_vh(self.hs_cur[i_veh])\n",
    "        vhdiff_state = np.clip((vh - self.vs_cur[i_veh]) / VDIFF, -2, 2)\n",
    "basically it tells the agent what vh is. \n",
    "\n",
    "At first all cars dirve at optiaml v, The first car is guided by its headway... \n",
    "\n",
    " here we train NMARL to recommend appropriate (α◦\n",
    ", β◦) for\n",
    "each OVM controller, selected from four levels {(0, 0),(0.5, 0),(0, 0.5),(0.5, 0.5)}\n",
    "\n",
    "For both CACC tasks, we simulate a string of 8 vehicles for 60s, with a 0.1s\n",
    "control interval. Each vehicle observes and shares its headway h, velocity v, and acceleration a to\n",
    "neighbors within two steps. The safety constraints are: h ≥ 1m, v ≤ 30m/s, |a| ≤ 2.5m/s2\n",
    ".\n",
    "Both v and h are normalized\n",
    "\n",
    "alpha: weight of headway\n",
    "beta: weight of target speed (for all following cars, set as the speed of the car before)\n",
    "for the first car, it is always v_star in the code\n",
    "\n",
    "runs for 600 frames, 60s sec * 10 per sec\n",
    "\n",
    "collision yields -1000*8, while the initial reward is -170, -1600 before collision\n",
    "let all cars take action 1 for a collision\n",
    "I am worried if -8000 is a good solution compared with -170*(1/(1-gamma))..."
   ]
  },
  {
   "cell_type": "markdown",
   "metadata": {},
   "source": [
    "# Initialize Env from Scratch"
   ]
  },
  {
   "cell_type": "code",
   "execution_count": null,
   "metadata": {},
   "outputs": [],
   "source": [
    "import numpy as np\n",
    "output_path = '/tmp/'\n",
    "config_path = 'algorithms/envs/NCS/config/config_ma2c_nc_catchup.ini'\n",
    "config = configparser.ConfigParser()\n",
    "config.read(config_path)"
   ]
  },
  {
   "cell_type": "code",
   "execution_count": null,
   "metadata": {},
   "outputs": [],
   "source": [
    "\n",
    "env = CACCEnv(config['ENV_CONFIG'])\n",
    "env.init_data(True, False, output_path)\n",
    "ob = env.reset()\n",
    "length = 0\n",
    "while True:\n",
    "    ob, reward, done, _ = env.step(np.array([1]*(env.n_agent)))\n",
    "    length += 1\n",
    "    print(reward)\n",
    "    if done:\n",
    "        break\n",
    "result = env.output_data()\n",
    "print(length)\n"
   ]
  },
  {
   "cell_type": "markdown",
   "metadata": {},
   "source": [
    "# Use Env Config and Wrapper"
   ]
  },
  {
   "cell_type": "code",
   "execution_count": null,
   "metadata": {},
   "outputs": [],
   "source": [
    "from algorithms.envs.CACC import env_name, env_fn"
   ]
  },
  {
   "cell_type": "code",
   "execution_count": null,
   "metadata": {},
   "outputs": [],
   "source": [
    "env = env_fn()\n",
    "env.reset()\n",
    "state, reward, done, info = env.step([1]*8)"
   ]
  },
  {
   "cell_type": "code",
   "execution_count": null,
   "metadata": {},
   "outputs": [],
   "source": [
    "from gym.spaces import Box"
   ]
  },
  {
   "cell_type": "markdown",
   "metadata": {},
   "source": [
    "# Visualization"
   ]
  },
  {
   "cell_type": "code",
   "execution_count": null,
   "metadata": {},
   "outputs": [],
   "source": [
    "%matplotlib inline\n",
    "import numpy as np\n",
    "import matplotlib.pyplot as plt\n",
    "\n",
    "from matplotlib import animation, rc\n",
    "from IPython.display import HTML\n",
    "# First set up the figure, the axis, and the plot element we want to animate\n",
    "fig, ax = plt.subplots()\n",
    "\n",
    "ax.set_xlim(( -2, 2))\n",
    "ax.set_ylim((-2, 2))\n",
    "\n",
    "scatter = ax.scatter([0, 1], [0, 0])\n",
    "ob = env.reset()"
   ]
  },
  {
   "cell_type": "code",
   "execution_count": null,
   "metadata": {},
   "outputs": [],
   "source": [
    "h_star = 20\n",
    "\n",
    "\n",
    "# initialization function: plot the background of each frame\n",
    "def init():\n",
    "    ob = env.reset()\n",
    "    xs = []\n",
    "    ys = [0]*8\n",
    "    tmp = 0\n",
    "    for i, item in enumerate(ob):\n",
    "        tmp -= item[-2]*h_star + h_star\n",
    "        xs += [tmp]\n",
    "    colors = ['red', 'orange', 'yellow', 'green', 'cyan', 'blue', 'purple', 'black']\n",
    "    scatter = ax.scatter(xs, ys, c=colors)\n",
    "    return (scatter,)\n",
    "\n",
    "# animation function. This is called sequentially\n",
    "\n",
    "def animate(i):\n",
    "    ob, _, done, _ = env.step([1]*(env.n_agent))\n",
    "    if done:\n",
    "        print(i, done)\n",
    "    tmp = 0\n",
    "    xs = []\n",
    "    ys = [0]*8\n",
    "    for i, item in enumerate(ob):\n",
    "        tmp -= item[-2]* h_star + h_star\n",
    "        xs += [tmp]\n",
    "    ax.clear()\n",
    "    ax.set_xlim(( -190, 0))\n",
    "    ax.set_ylim((-2, 2))\n",
    "    colors = ['red', 'orange', 'yellow', 'green', 'cyan', 'blue', 'purple', 'black']\n",
    "    scatter = ax.scatter(xs, ys, c=colors)\n",
    "    return (scatter,)\n",
    "\n",
    "# call the animator. blit=True means only re-draw the parts that have changed.\n",
    "anim = animation.FuncAnimation(fig, animate, init_func=init,\n",
    "                               frames=599, interval=100, blit=True)\n",
    "HTML(anim.to_html5_video())"
   ]
  },
  {
   "cell_type": "code",
   "execution_count": null,
   "metadata": {},
   "outputs": [],
   "source": [
    "anim.save(\"tmp.mp4\")"
   ]
  },
  {
   "cell_type": "code",
   "execution_count": null,
   "metadata": {},
   "outputs": [],
   "source": [
    "env.ifCollide(ob)"
   ]
  },
  {
   "cell_type": "code",
   "execution_count": null,
   "metadata": {},
   "outputs": [],
   "source": [
    "def f(x):\n",
    "    return x"
   ]
  },
  {
   "cell_type": "code",
   "execution_count": 68,
   "metadata": {},
   "outputs": [
    {
     "data": {
      "text/plain": [
       "'f'"
      ]
     },
     "execution_count": 68,
     "metadata": {},
     "output_type": "execute_result"
    }
   ],
   "source": [
    "f.__name__"
   ]
  },
  {
   "cell_type": "code",
   "execution_count": 69,
   "metadata": {},
   "outputs": [
    {
     "name": "stderr",
     "output_type": "stream",
     "text": [
      "/home/asus/anaconda3/envs/MARL/lib/python3.7/site-packages/gym/logger.py:30: UserWarning: \u001b[33mWARN: Box bound precision lowered by casting to float32\u001b[0m\n",
      "  warnings.warn(colorize('%s: %s'%('WARN', msg % args), 'yellow'))\n"
     ]
    },
    {
     "name": "stdout",
     "output_type": "stream",
     "text": [
      "[[ 0.0000000e+00  0.0000000e+00  0.0000000e+00  0.0000000e+00\n",
      "   0.0000000e+00  0.0000000e+00  0.0000000e+00  2.0000000e+00\n",
      "   6.5416282e-01  0.0000000e+00  0.0000000e+00  0.0000000e+00\n",
      "  -1.0658141e-15  0.0000000e+00  0.0000000e+00]\n",
      " [ 0.0000000e+00  0.0000000e+00  2.0000000e+00  6.5416282e-01\n",
      "   0.0000000e+00  0.0000000e+00  0.0000000e+00 -1.0658141e-15\n",
      "   0.0000000e+00  0.0000000e+00  0.0000000e+00  0.0000000e+00\n",
      "  -1.0658141e-15  0.0000000e+00  0.0000000e+00]\n",
      " [ 0.0000000e+00  0.0000000e+00 -1.0658141e-15  0.0000000e+00\n",
      "   0.0000000e+00  0.0000000e+00  0.0000000e+00 -1.0658141e-15\n",
      "   0.0000000e+00  0.0000000e+00  0.0000000e+00  0.0000000e+00\n",
      "  -1.0658141e-15  0.0000000e+00  0.0000000e+00]\n",
      " [ 0.0000000e+00  0.0000000e+00 -1.0658141e-15  0.0000000e+00\n",
      "   0.0000000e+00  0.0000000e+00  0.0000000e+00 -1.0658141e-15\n",
      "   0.0000000e+00  0.0000000e+00  0.0000000e+00  0.0000000e+00\n",
      "  -1.0658141e-15  0.0000000e+00  0.0000000e+00]\n",
      " [ 0.0000000e+00  0.0000000e+00 -1.0658141e-15  0.0000000e+00\n",
      "   0.0000000e+00  0.0000000e+00  0.0000000e+00 -1.0658141e-15\n",
      "   0.0000000e+00  0.0000000e+00  0.0000000e+00  0.0000000e+00\n",
      "  -1.0658141e-15  0.0000000e+00  0.0000000e+00]\n",
      " [ 0.0000000e+00  0.0000000e+00 -1.0658141e-15  0.0000000e+00\n",
      "   0.0000000e+00  0.0000000e+00  0.0000000e+00 -1.0658141e-15\n",
      "   0.0000000e+00  0.0000000e+00  0.0000000e+00  0.0000000e+00\n",
      "  -1.0658141e-15  0.0000000e+00  0.0000000e+00]\n",
      " [ 0.0000000e+00  0.0000000e+00 -1.0658141e-15  0.0000000e+00\n",
      "   0.0000000e+00  0.0000000e+00  0.0000000e+00 -1.0658141e-15\n",
      "   0.0000000e+00  0.0000000e+00  0.0000000e+00  0.0000000e+00\n",
      "  -1.0658141e-15  0.0000000e+00  0.0000000e+00]\n",
      " [ 0.0000000e+00  0.0000000e+00 -1.0658141e-15  0.0000000e+00\n",
      "   0.0000000e+00  0.0000000e+00  0.0000000e+00 -1.0658141e-15\n",
      "   0.0000000e+00  0.0000000e+00  0.0000000e+00  0.0000000e+00\n",
      "   0.0000000e+00  0.0000000e+00  0.0000000e+00]] float32\n"
     ]
    }
   ],
   "source": [
    "from algorithms.utils import parallelEval"
   ]
  },
  {
   "cell_type": "code",
   "execution_count": null,
   "metadata": {},
   "outputs": [],
   "source": []
  },
  {
   "cell_type": "code",
   "execution_count": 71,
   "metadata": {},
   "outputs": [],
   "source": []
  },
  {
   "cell_type": "code",
   "execution_count": 74,
   "metadata": {},
   "outputs": [
    {
     "data": {
      "text/plain": [
       "[{}, {}, {}]"
      ]
     },
     "execution_count": 74,
     "metadata": {},
     "output_type": "execute_result"
    }
   ],
   "source": []
  },
  {
   "cell_type": "code",
   "execution_count": 75,
   "metadata": {},
   "outputs": [
    {
     "data": {
      "text/plain": [
       "[{}, {}, {}]"
      ]
     },
     "execution_count": 75,
     "metadata": {},
     "output_type": "execute_result"
    }
   ],
   "source": [
    "args"
   ]
  },
  {
   "cell_type": "code",
   "execution_count": null,
   "metadata": {},
   "outputs": [],
   "source": []
  }
 ],
 "metadata": {
  "kernelspec": {
   "display_name": "Python 3",
   "language": "python",
   "name": "python3"
  },
  "language_info": {
   "codemirror_mode": {
    "name": "ipython",
    "version": 3
   },
   "file_extension": ".py",
   "mimetype": "text/x-python",
   "name": "python",
   "nbconvert_exporter": "python",
   "pygments_lexer": "ipython3",
   "version": "3.7.0"
  }
 },
 "nbformat": 4,
 "nbformat_minor": 4
}

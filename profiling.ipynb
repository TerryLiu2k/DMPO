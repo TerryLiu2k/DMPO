{
 "cells": [
  {
   "cell_type": "code",
   "execution_count": 1,
   "source": [
    "import cProfile\n",
    "import re\n",
    "import torch\n"
   ],
   "outputs": [],
   "metadata": {}
  },
  {
   "cell_type": "code",
   "execution_count": null,
   "source": [
    "def func():\n",
    "    x = torch.zeros((1000, 100)).to(0)\n",
    "    for i in range(10):\n",
    "        x = torch.exp(x)"
   ],
   "outputs": [],
   "metadata": {}
  },
  {
   "cell_type": "code",
   "execution_count": 2,
   "source": [
    "cProfile.run('func()')"
   ],
   "outputs": [
    {
     "output_type": "stream",
     "name": "stdout",
     "text": [
      "         3 function calls in 0.000 seconds\n",
      "\n",
      "   Ordered by: standard name\n",
      "\n",
      "   ncalls  tottime  percall  cumtime  percall filename:lineno(function)\n",
      "        1    0.000    0.000    0.000    0.000 <string>:1(<module>)\n",
      "        1    0.000    0.000    0.000    0.000 {built-in method builtins.exec}\n",
      "        1    0.000    0.000    0.000    0.000 {method 'disable' of '_lsprof.Profiler' objects}\n",
      "\n",
      "\n"
     ]
    },
    {
     "output_type": "error",
     "ename": "NameError",
     "evalue": "name 'func' is not defined",
     "traceback": [
      "\u001b[0;31m---------------------------------------------------------------------------\u001b[0m",
      "\u001b[0;31mNameError\u001b[0m                                 Traceback (most recent call last)",
      "\u001b[0;32m<ipython-input-2-d2e0e4390520>\u001b[0m in \u001b[0;36m<module>\u001b[0;34m\u001b[0m\n\u001b[0;32m----> 1\u001b[0;31m \u001b[0mcProfile\u001b[0m\u001b[0;34m.\u001b[0m\u001b[0mrun\u001b[0m\u001b[0;34m(\u001b[0m\u001b[0;34m'func()'\u001b[0m\u001b[0;34m)\u001b[0m\u001b[0;34m\u001b[0m\u001b[0;34m\u001b[0m\u001b[0m\n\u001b[0m\u001b[1;32m      2\u001b[0m \u001b[0;34m\u001b[0m\u001b[0m\n",
      "\u001b[0;32m~/opt/anaconda3/envs/atsc/lib/python3.8/cProfile.py\u001b[0m in \u001b[0;36mrun\u001b[0;34m(statement, filename, sort)\u001b[0m\n\u001b[1;32m     14\u001b[0m \u001b[0;34m\u001b[0m\u001b[0m\n\u001b[1;32m     15\u001b[0m \u001b[0;32mdef\u001b[0m \u001b[0mrun\u001b[0m\u001b[0;34m(\u001b[0m\u001b[0mstatement\u001b[0m\u001b[0;34m,\u001b[0m \u001b[0mfilename\u001b[0m\u001b[0;34m=\u001b[0m\u001b[0;32mNone\u001b[0m\u001b[0;34m,\u001b[0m \u001b[0msort\u001b[0m\u001b[0;34m=\u001b[0m\u001b[0;34m-\u001b[0m\u001b[0;36m1\u001b[0m\u001b[0;34m)\u001b[0m\u001b[0;34m:\u001b[0m\u001b[0;34m\u001b[0m\u001b[0;34m\u001b[0m\u001b[0m\n\u001b[0;32m---> 16\u001b[0;31m     \u001b[0;32mreturn\u001b[0m \u001b[0m_pyprofile\u001b[0m\u001b[0;34m.\u001b[0m\u001b[0m_Utils\u001b[0m\u001b[0;34m(\u001b[0m\u001b[0mProfile\u001b[0m\u001b[0;34m)\u001b[0m\u001b[0;34m.\u001b[0m\u001b[0mrun\u001b[0m\u001b[0;34m(\u001b[0m\u001b[0mstatement\u001b[0m\u001b[0;34m,\u001b[0m \u001b[0mfilename\u001b[0m\u001b[0;34m,\u001b[0m \u001b[0msort\u001b[0m\u001b[0;34m)\u001b[0m\u001b[0;34m\u001b[0m\u001b[0;34m\u001b[0m\u001b[0m\n\u001b[0m\u001b[1;32m     17\u001b[0m \u001b[0;34m\u001b[0m\u001b[0m\n\u001b[1;32m     18\u001b[0m \u001b[0;32mdef\u001b[0m \u001b[0mrunctx\u001b[0m\u001b[0;34m(\u001b[0m\u001b[0mstatement\u001b[0m\u001b[0;34m,\u001b[0m \u001b[0mglobals\u001b[0m\u001b[0;34m,\u001b[0m \u001b[0mlocals\u001b[0m\u001b[0;34m,\u001b[0m \u001b[0mfilename\u001b[0m\u001b[0;34m=\u001b[0m\u001b[0;32mNone\u001b[0m\u001b[0;34m,\u001b[0m \u001b[0msort\u001b[0m\u001b[0;34m=\u001b[0m\u001b[0;34m-\u001b[0m\u001b[0;36m1\u001b[0m\u001b[0;34m)\u001b[0m\u001b[0;34m:\u001b[0m\u001b[0;34m\u001b[0m\u001b[0;34m\u001b[0m\u001b[0m\n",
      "\u001b[0;32m~/opt/anaconda3/envs/atsc/lib/python3.8/profile.py\u001b[0m in \u001b[0;36mrun\u001b[0;34m(self, statement, filename, sort)\u001b[0m\n\u001b[1;32m     51\u001b[0m         \u001b[0mprof\u001b[0m \u001b[0;34m=\u001b[0m \u001b[0mself\u001b[0m\u001b[0;34m.\u001b[0m\u001b[0mprofiler\u001b[0m\u001b[0;34m(\u001b[0m\u001b[0;34m)\u001b[0m\u001b[0;34m\u001b[0m\u001b[0;34m\u001b[0m\u001b[0m\n\u001b[1;32m     52\u001b[0m         \u001b[0;32mtry\u001b[0m\u001b[0;34m:\u001b[0m\u001b[0;34m\u001b[0m\u001b[0;34m\u001b[0m\u001b[0m\n\u001b[0;32m---> 53\u001b[0;31m             \u001b[0mprof\u001b[0m\u001b[0;34m.\u001b[0m\u001b[0mrun\u001b[0m\u001b[0;34m(\u001b[0m\u001b[0mstatement\u001b[0m\u001b[0;34m)\u001b[0m\u001b[0;34m\u001b[0m\u001b[0;34m\u001b[0m\u001b[0m\n\u001b[0m\u001b[1;32m     54\u001b[0m         \u001b[0;32mexcept\u001b[0m \u001b[0mSystemExit\u001b[0m\u001b[0;34m:\u001b[0m\u001b[0;34m\u001b[0m\u001b[0;34m\u001b[0m\u001b[0m\n\u001b[1;32m     55\u001b[0m             \u001b[0;32mpass\u001b[0m\u001b[0;34m\u001b[0m\u001b[0;34m\u001b[0m\u001b[0m\n",
      "\u001b[0;32m~/opt/anaconda3/envs/atsc/lib/python3.8/cProfile.py\u001b[0m in \u001b[0;36mrun\u001b[0;34m(self, cmd)\u001b[0m\n\u001b[1;32m     93\u001b[0m         \u001b[0;32mimport\u001b[0m \u001b[0m__main__\u001b[0m\u001b[0;34m\u001b[0m\u001b[0;34m\u001b[0m\u001b[0m\n\u001b[1;32m     94\u001b[0m         \u001b[0mdict\u001b[0m \u001b[0;34m=\u001b[0m \u001b[0m__main__\u001b[0m\u001b[0;34m.\u001b[0m\u001b[0m__dict__\u001b[0m\u001b[0;34m\u001b[0m\u001b[0;34m\u001b[0m\u001b[0m\n\u001b[0;32m---> 95\u001b[0;31m         \u001b[0;32mreturn\u001b[0m \u001b[0mself\u001b[0m\u001b[0;34m.\u001b[0m\u001b[0mrunctx\u001b[0m\u001b[0;34m(\u001b[0m\u001b[0mcmd\u001b[0m\u001b[0;34m,\u001b[0m \u001b[0mdict\u001b[0m\u001b[0;34m,\u001b[0m \u001b[0mdict\u001b[0m\u001b[0;34m)\u001b[0m\u001b[0;34m\u001b[0m\u001b[0;34m\u001b[0m\u001b[0m\n\u001b[0m\u001b[1;32m     96\u001b[0m \u001b[0;34m\u001b[0m\u001b[0m\n\u001b[1;32m     97\u001b[0m     \u001b[0;32mdef\u001b[0m \u001b[0mrunctx\u001b[0m\u001b[0;34m(\u001b[0m\u001b[0mself\u001b[0m\u001b[0;34m,\u001b[0m \u001b[0mcmd\u001b[0m\u001b[0;34m,\u001b[0m \u001b[0mglobals\u001b[0m\u001b[0;34m,\u001b[0m \u001b[0mlocals\u001b[0m\u001b[0;34m)\u001b[0m\u001b[0;34m:\u001b[0m\u001b[0;34m\u001b[0m\u001b[0;34m\u001b[0m\u001b[0m\n",
      "\u001b[0;32m~/opt/anaconda3/envs/atsc/lib/python3.8/cProfile.py\u001b[0m in \u001b[0;36mrunctx\u001b[0;34m(self, cmd, globals, locals)\u001b[0m\n\u001b[1;32m     98\u001b[0m         \u001b[0mself\u001b[0m\u001b[0;34m.\u001b[0m\u001b[0menable\u001b[0m\u001b[0;34m(\u001b[0m\u001b[0;34m)\u001b[0m\u001b[0;34m\u001b[0m\u001b[0;34m\u001b[0m\u001b[0m\n\u001b[1;32m     99\u001b[0m         \u001b[0;32mtry\u001b[0m\u001b[0;34m:\u001b[0m\u001b[0;34m\u001b[0m\u001b[0;34m\u001b[0m\u001b[0m\n\u001b[0;32m--> 100\u001b[0;31m             \u001b[0mexec\u001b[0m\u001b[0;34m(\u001b[0m\u001b[0mcmd\u001b[0m\u001b[0;34m,\u001b[0m \u001b[0mglobals\u001b[0m\u001b[0;34m,\u001b[0m \u001b[0mlocals\u001b[0m\u001b[0;34m)\u001b[0m\u001b[0;34m\u001b[0m\u001b[0;34m\u001b[0m\u001b[0m\n\u001b[0m\u001b[1;32m    101\u001b[0m         \u001b[0;32mfinally\u001b[0m\u001b[0;34m:\u001b[0m\u001b[0;34m\u001b[0m\u001b[0;34m\u001b[0m\u001b[0m\n\u001b[1;32m    102\u001b[0m             \u001b[0mself\u001b[0m\u001b[0;34m.\u001b[0m\u001b[0mdisable\u001b[0m\u001b[0;34m(\u001b[0m\u001b[0;34m)\u001b[0m\u001b[0;34m\u001b[0m\u001b[0;34m\u001b[0m\u001b[0m\n",
      "\u001b[0;32m<string>\u001b[0m in \u001b[0;36m<module>\u001b[0;34m\u001b[0m\n",
      "\u001b[0;31mNameError\u001b[0m: name 'func' is not defined"
     ]
    }
   ],
   "metadata": {}
  },
  {
   "cell_type": "code",
   "execution_count": 1,
   "source": [
    "import pstats\n",
    "p = pstats.Stats('devicecpu_parallelFalse.profile')\n",
    "p.strip_dirs()\n",
    "p.sort_stats('tottime').print_stats(30)\n"
   ],
   "outputs": [
    {
     "output_type": "stream",
     "name": "stdout",
     "text": [
      "Mon Aug 30 14:22:38 2021    devicecpu_parallelFalse.profile\n",
      "\n",
      "         1113968 function calls (1102720 primitive calls) in 6.748 seconds\n",
      "\n",
      "   Ordered by: internal time\n",
      "   List reduced from 878 to 30 due to restriction <30>\n",
      "\n",
      "   ncalls  tottime  percall  cumtime  percall filename:lineno(function)\n",
      "        2    2.001    1.000    2.001    1.000 {built-in method time.sleep}\n",
      "     4672    0.283    0.000    1.373    0.000 connection.py:183(_readSubscription)\n",
      "   134026    0.272    0.000    0.409    0.000 storage.py:37(read)\n",
      "     2916    0.263    0.000    0.263    0.000 {method 'recv' of '_socket.socket' objects}\n",
      "    24024    0.244    0.000    0.755    0.000 domain.py:41(_parse)\n",
      "        4    0.205    0.051    0.205    0.051 {built-in method posix.waitpid}\n",
      "    19868    0.181    0.000    0.312    0.000 storage.py:69(readString)\n",
      "       86    0.163    0.002    0.718    0.008 traffic_light_grid.py:90(get_state)\n",
      "       20    0.120    0.006    0.120    0.006 {method 'run_backward' of 'torch._C._EngineBase' objects}\n",
      "    23264    0.115    0.000    0.852    0.000 domain.py:82(add)\n",
      "       20    0.101    0.005    0.344    0.017 adam.py:49(step)\n",
      "   135724    0.080    0.000    0.080    0.000 {built-in method _struct.unpack}\n",
      "     2160    0.079    0.000    0.079    0.000 {method 'sqrt' of 'torch._C._TensorBase' objects}\n",
      "      313    0.073    0.000    0.140    0.000 {built-in method builtins.max}\n",
      "     4320    0.066    0.000    0.066    0.000 {method 'mul_' of 'torch._C._TensorBase' objects}\n",
      "   134026    0.060    0.000    0.060    0.000 {built-in method _struct.calcsize}\n",
      "     1458    0.057    0.000    0.057    0.000 {method 'send' of '_socket.socket' objects}\n",
      "3327/2699    0.056    0.000    0.145    0.000 {built-in method numpy.core._multiarray_umath.implement_array_function}\n",
      " 5274/594    0.056    0.000    0.313    0.001 module.py:522(__call__)\n",
      "     1782    0.051    0.000    0.051    0.000 {built-in method addmm}\n",
      "       62    0.051    0.001    0.474    0.008 traci.py:120(update)\n",
      "     4320    0.050    0.000    0.050    0.000 {method 'add_' of 'torch._C._TensorBase' objects}\n",
      "    12568    0.048    0.000    0.088    0.000 storage.py:55(readDouble)\n",
      "       62    0.047    0.001    0.100    0.002 traci.py:714(_multi_lane_headways)\n",
      "     4214    0.043    0.000    0.046    0.000 traffic_light_grid.py:104(<genexpr>)\n",
      "        4    0.042    0.011    0.042    0.011 {built-in method _posixsubprocess.fork_exec}\n",
      "      558    0.042    0.000    0.290    0.001 models.py:326(forward)\n",
      "     5432    0.041    0.000    0.071    0.000 storage.py:63(readLength)\n",
      "       64    0.040    0.001    1.452    0.023 connection.py:297(simulationStep)\n",
      "        4    0.036    0.009    0.036    0.009 {built-in method posix.read}\n",
      "\n",
      "\n"
     ]
    },
    {
     "output_type": "execute_result",
     "data": {
      "text/plain": [
       "<pstats.Stats at 0x7f1f5072b0f0>"
      ]
     },
     "metadata": {},
     "execution_count": 1
    }
   ],
   "metadata": {}
  },
  {
   "cell_type": "code",
   "execution_count": 6,
   "source": [
    "\n",
    "q = pstats.Stats('devicecpu_parallelFalse.profile')\n",
    "q.strip_dirs()\n",
    "q.sort_stats('tottime').print_stats(30)"
   ],
   "outputs": [
    {
     "output_type": "stream",
     "name": "stdout",
     "text": [
      "Thu Jul 29 23:40:05 2021    devicecpu_parallelFalse.profile\n",
      "\n",
      "         5882981 function calls (5727395 primitive calls) in 39.738 seconds\n",
      "\n",
      "   Ordered by: internal time\n",
      "   List reduced from 1061 to 30 due to restriction <30>\n",
      "\n",
      "   ncalls  tottime  percall  cumtime  percall filename:lineno(function)\n",
      "      720   22.316    0.031   22.316    0.031 {method 'run_backward' of 'torch._C._EngineBase' objects}\n",
      "    14904    1.337    0.000    1.337    0.000 {built-in method torch._C._nn.linear}\n",
      "      138    1.230    0.009    1.376    0.010 utils.py:92(_gather)\n",
      "     2808    0.621    0.000    2.658    0.001 models.py:145(forward)\n",
      "      400    0.590    0.001    3.126    0.008 anon_env.py:957(_inner_step)\n",
      "    14580    0.540    0.000    1.356    0.000 anon_env.py:647(_get_connectivity)\n",
      "      684    0.462    0.001   28.020    0.041 agents.py:242(updateQ)\n",
      "    14580    0.447    0.000    2.535    0.000 anon_env.py:342(update_current_measurements_map)\n",
      "    29160    0.395    0.000    0.395    0.000 {method 'mul_' of 'torch._C._TensorBase' objects}\n",
      "     2808    0.362    0.000    0.362    0.000 {built-in method embedding}\n",
      "       19    0.352    0.019    0.358    0.019 utils.py:119(_reduce)\n",
      "        5    0.316    0.063    2.879    0.576 anon_env.py:797(reset)\n",
      "      183    0.310    0.002    0.310    0.002 {method 'get_objects' of 'ray._raylet.CoreWorker' objects}\n",
      "    67728    0.307    0.000    0.307    0.000 {built-in method numpy.array}\n",
      "    54808    0.294    0.000    0.294    0.000 {method 'reduce' of 'numpy.ufunc' objects}\n",
      "     9792    0.283    0.000    0.283    0.000 {method 'sqrt' of 'torch._C._TensorBase' objects}\n",
      "    49252    0.260    0.000    0.585    0.000 fromnumeric.py:70(_wrapreduction)\n",
      "    29160    0.234    0.000    0.234    0.000 {method 'add_' of 'torch._C._TensorBase' objects}\n",
      "      720    0.217    0.000    1.114    0.002 _functional.py:54(adam)\n",
      "    14580    0.179    0.000    1.678    0.000 anon_env.py:521(_update_feature_map)\n",
      "44712/4968    0.176    0.000    3.205    0.001 module.py:1045(_call_impl)\n",
      "   408328    0.167    0.000    0.203    0.000 {built-in method builtins.isinstance}\n",
      "94464/29520    0.163    0.000    0.171    0.000 module.py:1577(named_modules)\n",
      "     4248    0.161    0.000    0.232    0.000 constraints.py:398(check)\n",
      "     1597    0.159    0.000    0.159    0.000 {built-in method zeros}\n",
      "    23544    0.144    0.000    0.393    0.000 module.py:1410(_named_members)\n",
      "    29160    0.140    0.000    0.194    0.000 anon_env.py:344(_change_lane_vehicle_dic_to_list)\n",
      "    48390    0.140    0.000    0.727    0.000 fromnumeric.py:2111(sum)\n",
      "       10    0.138    0.014    0.138    0.014 decoder.py:343(raw_decode)\n",
      "     2124    0.125    0.000    1.419    0.001 agents.py:164(act)\n",
      "\n",
      "\n"
     ]
    },
    {
     "output_type": "execute_result",
     "data": {
      "text/plain": [
       "<pstats.Stats at 0x7f9ec6a10850>"
      ]
     },
     "metadata": {},
     "execution_count": 6
    }
   ],
   "metadata": {}
  },
  {
   "cell_type": "code",
   "execution_count": null,
   "source": [],
   "outputs": [],
   "metadata": {}
  }
 ],
 "metadata": {
  "kernelspec": {
   "name": "python3",
   "display_name": "Python 3.7.3 64-bit ('flow': conda)"
  },
  "language_info": {
   "name": "python",
   "version": "3.7.3",
   "mimetype": "text/x-python",
   "codemirror_mode": {
    "name": "ipython",
    "version": 3
   },
   "pygments_lexer": "ipython3",
   "nbconvert_exporter": "python",
   "file_extension": ".py"
  },
  "interpreter": {
   "hash": "d2fe0779add5bf78aa7aa903919fc587d0e9ba37402a48238814c09008baba7d"
  }
 },
 "nbformat": 4,
 "nbformat_minor": 4
}
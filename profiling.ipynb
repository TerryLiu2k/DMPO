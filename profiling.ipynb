{
 "cells": [
  {
   "cell_type": "code",
   "execution_count": 1,
   "metadata": {},
   "outputs": [],
   "source": [
    "import cProfile\n",
    "import re\n",
    "import torch\n"
   ]
  },
  {
   "cell_type": "code",
   "execution_count": null,
   "metadata": {},
   "outputs": [],
   "source": [
    "def func():\n",
    "    x = torch.zeros((1000, 100)).to(0)\n",
    "    for i in range(10):\n",
    "        x = torch.exp(x)"
   ]
  },
  {
   "cell_type": "code",
   "execution_count": null,
   "metadata": {},
   "outputs": [],
   "source": [
    "cProfile.run('func()')"
   ]
  },
  {
   "cell_type": "code",
   "execution_count": 19,
   "metadata": {},
   "outputs": [
    {
     "name": "stdout",
     "output_type": "stream",
     "text": [
      "Mon May 31 15:26:08 2021    devicecpu_parallelTrue.profile\n",
      "\n",
      "         14659833 function calls (14561246 primitive calls) in 85.504 seconds\n",
      "\n",
      "   Ordered by: internal time\n",
      "   List reduced from 943 to 30 due to restriction <30>\n",
      "\n",
      "   ncalls  tottime  percall  cumtime  percall filename:lineno(function)\n",
      "       20   20.019    1.001   20.019    1.001 {built-in method time.sleep}\n",
      "59205/29705   12.980    0.000   24.663    0.001 {function CloudPickler.dump at 0x7fbe55be3040}\n",
      "    11430   12.531    0.001   41.319    0.004 {method 'submit_actor_task' of 'ray._raylet.CoreWorker' objects}\n",
      "    23675    7.104    0.000    7.104    0.000 {method '_write_file' of 'torch._C.FloatStorageBase' objects}\n",
      "      510    6.167    0.012    6.167    0.012 {method 'get_objects' of 'ray._raylet.CoreWorker' objects}\n",
      "   227720    4.746    0.000    4.746    0.000 {method 'recv' of '_socket.socket' objects}\n",
      "   113860    2.085    0.000    2.085    0.000 {method 'send' of '_socket.socket' objects}\n",
      "      730    2.012    0.003    2.258    0.003 utils.py:98(_gather)\n",
      "    29704    1.124    0.000   26.396    0.001 serialization.py:255(_serialize_to_pickle5)\n",
      "   927232    0.722    0.000    1.107    0.000 storage.py:37(read)\n",
      "   113860    0.641    0.000    5.601    0.000 connection.py:62(_recvExact)\n",
      "     5825    0.557    0.000    0.557    0.000 {method '_write_file' of 'torch._C.LongStorageBase' objects}\n",
      "    83906    0.546    0.000   27.994    0.000 serialization.py:272(_serialize_to_msgpack)\n",
      "   113860    0.504    0.000    9.842    0.000 connection.py:161(_sendCmd)\n",
      "   113860    0.472    0.000    8.972    0.000 connection.py:81(_sendExact)\n",
      "197516/167812    0.441    0.000    0.845    0.000 __init__.py:29(packb)\n",
      "    29500    0.439    0.000    0.650    0.000 tensor.py:103(_reduce_ex_internal)\n",
      "   211772    0.399    0.000    0.963    0.000 storage.py:69(readString)\n",
      "    29500    0.393    0.000    9.433    0.000 serialization.py:377(_legacy_save)\n",
      "    84420    0.371    0.000    0.626    0.000 worker.py:170(get_serialization_context)\n",
      "   178995    0.335    0.000    1.143    0.000 cloudpickle_fast.py:624(reducer_override)\n",
      "       45    0.321    0.007    0.324    0.007 utils.py:125(_reduce)\n",
      "   118000    0.311    0.000    0.311    0.000 {built-in method _pickle.dump}\n",
      "   206500    0.279    0.000    0.467    0.000 serialization.py:382(persistent_id)\n",
      "  1041092    0.267    0.000    0.267    0.000 {built-in method _struct.unpack}\n",
      "   121256    0.251    0.000    0.251    0.000 {built-in method as_tensor}\n",
      "    97252    0.250    0.000    7.972    0.000 domain.py:174(_getCmd)\n",
      "197516/167812    0.246    0.000    0.485    0.000 {method 'pack' of 'msgpack._cmsgpack.Packer' objects}\n",
      "    89983    0.233    0.000    0.271    0.000 __init__.py:892(__getitem__)\n",
      "      775    0.228    0.000    0.228    0.000 {built-in method zeros}\n",
      "\n",
      "\n"
     ]
    },
    {
     "data": {
      "text/plain": [
       "<pstats.Stats at 0x7fa3d6aaf430>"
      ]
     },
     "execution_count": 19,
     "metadata": {},
     "output_type": "execute_result"
    }
   ],
   "source": [
    "import pstats\n",
    "p = pstats.Stats('devicecpu_parallelTrue.profile')\n",
    "p.strip_dirs()\n",
    "p.sort_stats('tottime').print_stats(30)"
   ]
  },
  {
   "cell_type": "code",
   "execution_count": null,
   "metadata": {},
   "outputs": [],
   "source": []
  }
 ],
 "metadata": {
  "kernelspec": {
   "display_name": "Python 3",
   "language": "python",
   "name": "python3"
  },
  "language_info": {
   "codemirror_mode": {
    "name": "ipython",
    "version": 3
   },
   "file_extension": ".py",
   "mimetype": "text/x-python",
   "name": "python",
   "nbconvert_exporter": "python",
   "pygments_lexer": "ipython3",
   "version": "3.8.7"
  }
 },
 "nbformat": 4,
 "nbformat_minor": 4
}

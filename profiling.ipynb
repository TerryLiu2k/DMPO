{
 "cells": [
  {
   "cell_type": "code",
   "execution_count": 1,
   "metadata": {},
   "outputs": [],
   "source": [
    "import cProfile\n",
    "import re\n",
    "import torch\n"
   ]
  },
  {
   "cell_type": "code",
   "execution_count": null,
   "metadata": {},
   "outputs": [],
   "source": [
    "def func():\n",
    "    x = torch.zeros((1000, 100)).to(0)\n",
    "    for i in range(10):\n",
    "        x = torch.exp(x)"
   ]
  },
  {
   "cell_type": "code",
   "execution_count": 2,
   "metadata": {},
   "outputs": [
    {
     "name": "stdout",
     "output_type": "stream",
     "text": [
      "         3 function calls in 0.000 seconds\n",
      "\n",
      "   Ordered by: standard name\n",
      "\n",
      "   ncalls  tottime  percall  cumtime  percall filename:lineno(function)\n",
      "        1    0.000    0.000    0.000    0.000 <string>:1(<module>)\n",
      "        1    0.000    0.000    0.000    0.000 {built-in method builtins.exec}\n",
      "        1    0.000    0.000    0.000    0.000 {method 'disable' of '_lsprof.Profiler' objects}\n",
      "\n",
      "\n"
     ]
    },
    {
     "ename": "NameError",
     "evalue": "name 'func' is not defined",
     "output_type": "error",
     "traceback": [
      "\u001b[0;31m---------------------------------------------------------------------------\u001b[0m",
      "\u001b[0;31mNameError\u001b[0m                                 Traceback (most recent call last)",
      "\u001b[0;32m<ipython-input-2-d2e0e4390520>\u001b[0m in \u001b[0;36m<module>\u001b[0;34m\u001b[0m\n\u001b[0;32m----> 1\u001b[0;31m \u001b[0mcProfile\u001b[0m\u001b[0;34m.\u001b[0m\u001b[0mrun\u001b[0m\u001b[0;34m(\u001b[0m\u001b[0;34m'func()'\u001b[0m\u001b[0;34m)\u001b[0m\u001b[0;34m\u001b[0m\u001b[0;34m\u001b[0m\u001b[0m\n\u001b[0m\u001b[1;32m      2\u001b[0m \u001b[0;34m\u001b[0m\u001b[0m\n",
      "\u001b[0;32m~/opt/anaconda3/envs/atsc/lib/python3.8/cProfile.py\u001b[0m in \u001b[0;36mrun\u001b[0;34m(statement, filename, sort)\u001b[0m\n\u001b[1;32m     14\u001b[0m \u001b[0;34m\u001b[0m\u001b[0m\n\u001b[1;32m     15\u001b[0m \u001b[0;32mdef\u001b[0m \u001b[0mrun\u001b[0m\u001b[0;34m(\u001b[0m\u001b[0mstatement\u001b[0m\u001b[0;34m,\u001b[0m \u001b[0mfilename\u001b[0m\u001b[0;34m=\u001b[0m\u001b[0;32mNone\u001b[0m\u001b[0;34m,\u001b[0m \u001b[0msort\u001b[0m\u001b[0;34m=\u001b[0m\u001b[0;34m-\u001b[0m\u001b[0;36m1\u001b[0m\u001b[0;34m)\u001b[0m\u001b[0;34m:\u001b[0m\u001b[0;34m\u001b[0m\u001b[0;34m\u001b[0m\u001b[0m\n\u001b[0;32m---> 16\u001b[0;31m     \u001b[0;32mreturn\u001b[0m \u001b[0m_pyprofile\u001b[0m\u001b[0;34m.\u001b[0m\u001b[0m_Utils\u001b[0m\u001b[0;34m(\u001b[0m\u001b[0mProfile\u001b[0m\u001b[0;34m)\u001b[0m\u001b[0;34m.\u001b[0m\u001b[0mrun\u001b[0m\u001b[0;34m(\u001b[0m\u001b[0mstatement\u001b[0m\u001b[0;34m,\u001b[0m \u001b[0mfilename\u001b[0m\u001b[0;34m,\u001b[0m \u001b[0msort\u001b[0m\u001b[0;34m)\u001b[0m\u001b[0;34m\u001b[0m\u001b[0;34m\u001b[0m\u001b[0m\n\u001b[0m\u001b[1;32m     17\u001b[0m \u001b[0;34m\u001b[0m\u001b[0m\n\u001b[1;32m     18\u001b[0m \u001b[0;32mdef\u001b[0m \u001b[0mrunctx\u001b[0m\u001b[0;34m(\u001b[0m\u001b[0mstatement\u001b[0m\u001b[0;34m,\u001b[0m \u001b[0mglobals\u001b[0m\u001b[0;34m,\u001b[0m \u001b[0mlocals\u001b[0m\u001b[0;34m,\u001b[0m \u001b[0mfilename\u001b[0m\u001b[0;34m=\u001b[0m\u001b[0;32mNone\u001b[0m\u001b[0;34m,\u001b[0m \u001b[0msort\u001b[0m\u001b[0;34m=\u001b[0m\u001b[0;34m-\u001b[0m\u001b[0;36m1\u001b[0m\u001b[0;34m)\u001b[0m\u001b[0;34m:\u001b[0m\u001b[0;34m\u001b[0m\u001b[0;34m\u001b[0m\u001b[0m\n",
      "\u001b[0;32m~/opt/anaconda3/envs/atsc/lib/python3.8/profile.py\u001b[0m in \u001b[0;36mrun\u001b[0;34m(self, statement, filename, sort)\u001b[0m\n\u001b[1;32m     51\u001b[0m         \u001b[0mprof\u001b[0m \u001b[0;34m=\u001b[0m \u001b[0mself\u001b[0m\u001b[0;34m.\u001b[0m\u001b[0mprofiler\u001b[0m\u001b[0;34m(\u001b[0m\u001b[0;34m)\u001b[0m\u001b[0;34m\u001b[0m\u001b[0;34m\u001b[0m\u001b[0m\n\u001b[1;32m     52\u001b[0m         \u001b[0;32mtry\u001b[0m\u001b[0;34m:\u001b[0m\u001b[0;34m\u001b[0m\u001b[0;34m\u001b[0m\u001b[0m\n\u001b[0;32m---> 53\u001b[0;31m             \u001b[0mprof\u001b[0m\u001b[0;34m.\u001b[0m\u001b[0mrun\u001b[0m\u001b[0;34m(\u001b[0m\u001b[0mstatement\u001b[0m\u001b[0;34m)\u001b[0m\u001b[0;34m\u001b[0m\u001b[0;34m\u001b[0m\u001b[0m\n\u001b[0m\u001b[1;32m     54\u001b[0m         \u001b[0;32mexcept\u001b[0m \u001b[0mSystemExit\u001b[0m\u001b[0;34m:\u001b[0m\u001b[0;34m\u001b[0m\u001b[0;34m\u001b[0m\u001b[0m\n\u001b[1;32m     55\u001b[0m             \u001b[0;32mpass\u001b[0m\u001b[0;34m\u001b[0m\u001b[0;34m\u001b[0m\u001b[0m\n",
      "\u001b[0;32m~/opt/anaconda3/envs/atsc/lib/python3.8/cProfile.py\u001b[0m in \u001b[0;36mrun\u001b[0;34m(self, cmd)\u001b[0m\n\u001b[1;32m     93\u001b[0m         \u001b[0;32mimport\u001b[0m \u001b[0m__main__\u001b[0m\u001b[0;34m\u001b[0m\u001b[0;34m\u001b[0m\u001b[0m\n\u001b[1;32m     94\u001b[0m         \u001b[0mdict\u001b[0m \u001b[0;34m=\u001b[0m \u001b[0m__main__\u001b[0m\u001b[0;34m.\u001b[0m\u001b[0m__dict__\u001b[0m\u001b[0;34m\u001b[0m\u001b[0;34m\u001b[0m\u001b[0m\n\u001b[0;32m---> 95\u001b[0;31m         \u001b[0;32mreturn\u001b[0m \u001b[0mself\u001b[0m\u001b[0;34m.\u001b[0m\u001b[0mrunctx\u001b[0m\u001b[0;34m(\u001b[0m\u001b[0mcmd\u001b[0m\u001b[0;34m,\u001b[0m \u001b[0mdict\u001b[0m\u001b[0;34m,\u001b[0m \u001b[0mdict\u001b[0m\u001b[0;34m)\u001b[0m\u001b[0;34m\u001b[0m\u001b[0;34m\u001b[0m\u001b[0m\n\u001b[0m\u001b[1;32m     96\u001b[0m \u001b[0;34m\u001b[0m\u001b[0m\n\u001b[1;32m     97\u001b[0m     \u001b[0;32mdef\u001b[0m \u001b[0mrunctx\u001b[0m\u001b[0;34m(\u001b[0m\u001b[0mself\u001b[0m\u001b[0;34m,\u001b[0m \u001b[0mcmd\u001b[0m\u001b[0;34m,\u001b[0m \u001b[0mglobals\u001b[0m\u001b[0;34m,\u001b[0m \u001b[0mlocals\u001b[0m\u001b[0;34m)\u001b[0m\u001b[0;34m:\u001b[0m\u001b[0;34m\u001b[0m\u001b[0;34m\u001b[0m\u001b[0m\n",
      "\u001b[0;32m~/opt/anaconda3/envs/atsc/lib/python3.8/cProfile.py\u001b[0m in \u001b[0;36mrunctx\u001b[0;34m(self, cmd, globals, locals)\u001b[0m\n\u001b[1;32m     98\u001b[0m         \u001b[0mself\u001b[0m\u001b[0;34m.\u001b[0m\u001b[0menable\u001b[0m\u001b[0;34m(\u001b[0m\u001b[0;34m)\u001b[0m\u001b[0;34m\u001b[0m\u001b[0;34m\u001b[0m\u001b[0m\n\u001b[1;32m     99\u001b[0m         \u001b[0;32mtry\u001b[0m\u001b[0;34m:\u001b[0m\u001b[0;34m\u001b[0m\u001b[0;34m\u001b[0m\u001b[0m\n\u001b[0;32m--> 100\u001b[0;31m             \u001b[0mexec\u001b[0m\u001b[0;34m(\u001b[0m\u001b[0mcmd\u001b[0m\u001b[0;34m,\u001b[0m \u001b[0mglobals\u001b[0m\u001b[0;34m,\u001b[0m \u001b[0mlocals\u001b[0m\u001b[0;34m)\u001b[0m\u001b[0;34m\u001b[0m\u001b[0;34m\u001b[0m\u001b[0m\n\u001b[0m\u001b[1;32m    101\u001b[0m         \u001b[0;32mfinally\u001b[0m\u001b[0;34m:\u001b[0m\u001b[0;34m\u001b[0m\u001b[0;34m\u001b[0m\u001b[0m\n\u001b[1;32m    102\u001b[0m             \u001b[0mself\u001b[0m\u001b[0;34m.\u001b[0m\u001b[0mdisable\u001b[0m\u001b[0;34m(\u001b[0m\u001b[0;34m)\u001b[0m\u001b[0;34m\u001b[0m\u001b[0;34m\u001b[0m\u001b[0m\n",
      "\u001b[0;32m<string>\u001b[0m in \u001b[0;36m<module>\u001b[0;34m\u001b[0m\n",
      "\u001b[0;31mNameError\u001b[0m: name 'func' is not defined"
     ]
    }
   ],
   "source": [
    "cProfile.run('func()')"
   ]
  },
  {
   "cell_type": "code",
   "execution_count": 7,
   "metadata": {},
   "outputs": [
    {
     "output_type": "stream",
     "name": "stdout",
     "text": [
      "Thu Jul 29 23:48:36 2021    devicecuda_parallelFalse.profile\n\n         5888609 function calls (5732724 primitive calls) in 61.143 seconds\n\n   Ordered by: internal time\n   List reduced from 1082 to 30 due to restriction <30>\n\n   ncalls  tottime  percall  cumtime  percall filename:lineno(function)\n      720    8.851    0.012    8.851    0.012 {method 'run_backward' of 'torch._C._EngineBase' objects}\n    10656    5.177    0.000    5.180    0.000 {method 'to' of 'torch._C._TensorBase' objects}\n      138    4.220    0.031    5.029    0.036 utils.py:92(_gather)\n    14904    3.827    0.000    3.827    0.000 {built-in method torch._C._nn.linear}\n    29160    3.311    0.000    3.311    0.000 {method 'mul_' of 'torch._C._TensorBase' objects}\n    29160    3.172    0.000    3.172    0.000 {method 'add_' of 'torch._C._TensorBase' objects}\n      684    2.833    0.004   32.478    0.047 agents.py:242(updateQ)\n      720    1.409    0.002    9.012    0.013 _functional.py:54(adam)\n     2808    1.189    0.000    5.294    0.002 models.py:145(forward)\n     9936    1.160    0.000    1.160    0.000 {built-in method relu}\n     4248    1.099    0.000    1.838    0.000 constraints.py:398(check)\n     9792    1.081    0.000    1.081    0.000 {method 'addcdiv_' of 'torch._C._TensorBase' objects}\n     9792    1.075    0.000    1.075    0.000 {method 'addcmul_' of 'torch._C._TensorBase' objects}\n     9792    1.055    0.000    1.055    0.000 {method 'sqrt' of 'torch._C._TensorBase' objects}\n     9072    0.946    0.000    0.946    0.000 {method 'zero_' of 'torch._C._TensorBase' objects}\n    11484    0.831    0.000    0.831    0.000 {method 'sum' of 'torch._C._TensorBase' objects}\n     1597    0.819    0.001    0.819    0.001 {built-in method zeros}\n      220    0.741    0.003    0.741    0.003 {method 'get_objects' of 'ray._raylet.CoreWorker' objects}\n      400    0.679    0.002    3.490    0.009 anon_env.py:957(_inner_step)\n     5532    0.648    0.000    0.648    0.000 {method 'cpu' of 'torch._C._TensorBase' objects}\n    14580    0.614    0.000    1.520    0.000 anon_env.py:647(_get_connectivity)\n     2160    0.525    0.000    3.494    0.002 models.py:190(forward)\n     2808    0.515    0.000    0.515    0.000 {built-in method embedding}\n    14580    0.493    0.000    2.803    0.000 anon_env.py:342(update_current_measurements_map)\n     2124    0.444    0.000    9.039    0.004 agents.py:164(act)\n     4248    0.442    0.000    0.442    0.000 {built-in method multinomial}\n     3528    0.415    0.000    0.415    0.000 {method 'mean' of 'torch._C._TensorBase' objects}\n     7056    0.390    0.000    0.390    0.000 {built-in method isnan}\n       19    0.390    0.021    0.396    0.021 utils.py:119(_reduce)\n     7056    0.363    0.000    0.363    0.000 {method 'any' of 'torch._C._TensorBase' objects}\n\n\n"
     ]
    },
    {
     "output_type": "execute_result",
     "data": {
      "text/plain": [
       "<pstats.Stats at 0x7f9ec6a10880>"
      ]
     },
     "metadata": {},
     "execution_count": 7
    }
   ],
   "source": [
    "import pstats\n",
    "p = pstats.Stats('devicecuda_parallelFalse.profile')\n",
    "p.strip_dirs()\n",
    "p.sort_stats('tottime').print_stats(30)\n"
   ]
  },
  {
   "cell_type": "code",
   "execution_count": 6,
   "metadata": {},
   "outputs": [
    {
     "output_type": "stream",
     "name": "stdout",
     "text": [
      "Thu Jul 29 23:40:05 2021    devicecpu_parallelFalse.profile\n\n         5882981 function calls (5727395 primitive calls) in 39.738 seconds\n\n   Ordered by: internal time\n   List reduced from 1061 to 30 due to restriction <30>\n\n   ncalls  tottime  percall  cumtime  percall filename:lineno(function)\n      720   22.316    0.031   22.316    0.031 {method 'run_backward' of 'torch._C._EngineBase' objects}\n    14904    1.337    0.000    1.337    0.000 {built-in method torch._C._nn.linear}\n      138    1.230    0.009    1.376    0.010 utils.py:92(_gather)\n     2808    0.621    0.000    2.658    0.001 models.py:145(forward)\n      400    0.590    0.001    3.126    0.008 anon_env.py:957(_inner_step)\n    14580    0.540    0.000    1.356    0.000 anon_env.py:647(_get_connectivity)\n      684    0.462    0.001   28.020    0.041 agents.py:242(updateQ)\n    14580    0.447    0.000    2.535    0.000 anon_env.py:342(update_current_measurements_map)\n    29160    0.395    0.000    0.395    0.000 {method 'mul_' of 'torch._C._TensorBase' objects}\n     2808    0.362    0.000    0.362    0.000 {built-in method embedding}\n       19    0.352    0.019    0.358    0.019 utils.py:119(_reduce)\n        5    0.316    0.063    2.879    0.576 anon_env.py:797(reset)\n      183    0.310    0.002    0.310    0.002 {method 'get_objects' of 'ray._raylet.CoreWorker' objects}\n    67728    0.307    0.000    0.307    0.000 {built-in method numpy.array}\n    54808    0.294    0.000    0.294    0.000 {method 'reduce' of 'numpy.ufunc' objects}\n     9792    0.283    0.000    0.283    0.000 {method 'sqrt' of 'torch._C._TensorBase' objects}\n    49252    0.260    0.000    0.585    0.000 fromnumeric.py:70(_wrapreduction)\n    29160    0.234    0.000    0.234    0.000 {method 'add_' of 'torch._C._TensorBase' objects}\n      720    0.217    0.000    1.114    0.002 _functional.py:54(adam)\n    14580    0.179    0.000    1.678    0.000 anon_env.py:521(_update_feature_map)\n44712/4968    0.176    0.000    3.205    0.001 module.py:1045(_call_impl)\n   408328    0.167    0.000    0.203    0.000 {built-in method builtins.isinstance}\n94464/29520    0.163    0.000    0.171    0.000 module.py:1577(named_modules)\n     4248    0.161    0.000    0.232    0.000 constraints.py:398(check)\n     1597    0.159    0.000    0.159    0.000 {built-in method zeros}\n    23544    0.144    0.000    0.393    0.000 module.py:1410(_named_members)\n    29160    0.140    0.000    0.194    0.000 anon_env.py:344(_change_lane_vehicle_dic_to_list)\n    48390    0.140    0.000    0.727    0.000 fromnumeric.py:2111(sum)\n       10    0.138    0.014    0.138    0.014 decoder.py:343(raw_decode)\n     2124    0.125    0.000    1.419    0.001 agents.py:164(act)\n\n\n"
     ]
    },
    {
     "output_type": "execute_result",
     "data": {
      "text/plain": [
       "<pstats.Stats at 0x7f9ec6a10850>"
      ]
     },
     "metadata": {},
     "execution_count": 6
    }
   ],
   "source": [
    "\n",
    "q = pstats.Stats('devicecpu_parallelFalse.profile')\n",
    "q.strip_dirs()\n",
    "q.sort_stats('tottime').print_stats(30)"
   ]
  },
  {
   "cell_type": "code",
   "execution_count": null,
   "metadata": {},
   "outputs": [],
   "source": []
  }
 ],
 "metadata": {
  "kernelspec": {
   "name": "python3",
   "display_name": "Python 3.8.10 64-bit ('dmpo': conda)"
  },
  "language_info": {
   "codemirror_mode": {
    "name": "ipython",
    "version": 3
   },
   "file_extension": ".py",
   "mimetype": "text/x-python",
   "name": "python",
   "nbconvert_exporter": "python",
   "pygments_lexer": "ipython3",
   "version": "3.8.10"
  },
  "interpreter": {
   "hash": "800ad0fce71d25ed12945ac015b97fc47fbf5777772b9be5f91cd7ad2441bc56"
  }
 },
 "nbformat": 4,
 "nbformat_minor": 4
}
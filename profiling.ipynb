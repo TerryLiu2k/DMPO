{
 "cells": [
  {
   "cell_type": "code",
   "execution_count": 1,
   "source": [
    "import cProfile\n",
    "import re\n",
    "import torch\n"
   ],
   "outputs": [],
   "metadata": {}
  },
  {
   "cell_type": "code",
   "execution_count": null,
   "source": [
    "def func():\n",
    "    x = torch.zeros((1000, 100)).to(0)\n",
    "    for i in range(10):\n",
    "        x = torch.exp(x)"
   ],
   "outputs": [],
   "metadata": {}
  },
  {
   "cell_type": "code",
   "execution_count": 2,
   "source": [
    "cProfile.run('func()')"
   ],
   "outputs": [
    {
     "output_type": "stream",
     "name": "stdout",
     "text": [
      "         3 function calls in 0.000 seconds\n",
      "\n",
      "   Ordered by: standard name\n",
      "\n",
      "   ncalls  tottime  percall  cumtime  percall filename:lineno(function)\n",
      "        1    0.000    0.000    0.000    0.000 <string>:1(<module>)\n",
      "        1    0.000    0.000    0.000    0.000 {built-in method builtins.exec}\n",
      "        1    0.000    0.000    0.000    0.000 {method 'disable' of '_lsprof.Profiler' objects}\n",
      "\n",
      "\n"
     ]
    },
    {
     "output_type": "error",
     "ename": "NameError",
     "evalue": "name 'func' is not defined",
     "traceback": [
      "\u001b[0;31m---------------------------------------------------------------------------\u001b[0m",
      "\u001b[0;31mNameError\u001b[0m                                 Traceback (most recent call last)",
      "\u001b[0;32m<ipython-input-2-d2e0e4390520>\u001b[0m in \u001b[0;36m<module>\u001b[0;34m\u001b[0m\n\u001b[0;32m----> 1\u001b[0;31m \u001b[0mcProfile\u001b[0m\u001b[0;34m.\u001b[0m\u001b[0mrun\u001b[0m\u001b[0;34m(\u001b[0m\u001b[0;34m'func()'\u001b[0m\u001b[0;34m)\u001b[0m\u001b[0;34m\u001b[0m\u001b[0;34m\u001b[0m\u001b[0m\n\u001b[0m\u001b[1;32m      2\u001b[0m \u001b[0;34m\u001b[0m\u001b[0m\n",
      "\u001b[0;32m~/opt/anaconda3/envs/atsc/lib/python3.8/cProfile.py\u001b[0m in \u001b[0;36mrun\u001b[0;34m(statement, filename, sort)\u001b[0m\n\u001b[1;32m     14\u001b[0m \u001b[0;34m\u001b[0m\u001b[0m\n\u001b[1;32m     15\u001b[0m \u001b[0;32mdef\u001b[0m \u001b[0mrun\u001b[0m\u001b[0;34m(\u001b[0m\u001b[0mstatement\u001b[0m\u001b[0;34m,\u001b[0m \u001b[0mfilename\u001b[0m\u001b[0;34m=\u001b[0m\u001b[0;32mNone\u001b[0m\u001b[0;34m,\u001b[0m \u001b[0msort\u001b[0m\u001b[0;34m=\u001b[0m\u001b[0;34m-\u001b[0m\u001b[0;36m1\u001b[0m\u001b[0;34m)\u001b[0m\u001b[0;34m:\u001b[0m\u001b[0;34m\u001b[0m\u001b[0;34m\u001b[0m\u001b[0m\n\u001b[0;32m---> 16\u001b[0;31m     \u001b[0;32mreturn\u001b[0m \u001b[0m_pyprofile\u001b[0m\u001b[0;34m.\u001b[0m\u001b[0m_Utils\u001b[0m\u001b[0;34m(\u001b[0m\u001b[0mProfile\u001b[0m\u001b[0;34m)\u001b[0m\u001b[0;34m.\u001b[0m\u001b[0mrun\u001b[0m\u001b[0;34m(\u001b[0m\u001b[0mstatement\u001b[0m\u001b[0;34m,\u001b[0m \u001b[0mfilename\u001b[0m\u001b[0;34m,\u001b[0m \u001b[0msort\u001b[0m\u001b[0;34m)\u001b[0m\u001b[0;34m\u001b[0m\u001b[0;34m\u001b[0m\u001b[0m\n\u001b[0m\u001b[1;32m     17\u001b[0m \u001b[0;34m\u001b[0m\u001b[0m\n\u001b[1;32m     18\u001b[0m \u001b[0;32mdef\u001b[0m \u001b[0mrunctx\u001b[0m\u001b[0;34m(\u001b[0m\u001b[0mstatement\u001b[0m\u001b[0;34m,\u001b[0m \u001b[0mglobals\u001b[0m\u001b[0;34m,\u001b[0m \u001b[0mlocals\u001b[0m\u001b[0;34m,\u001b[0m \u001b[0mfilename\u001b[0m\u001b[0;34m=\u001b[0m\u001b[0;32mNone\u001b[0m\u001b[0;34m,\u001b[0m \u001b[0msort\u001b[0m\u001b[0;34m=\u001b[0m\u001b[0;34m-\u001b[0m\u001b[0;36m1\u001b[0m\u001b[0;34m)\u001b[0m\u001b[0;34m:\u001b[0m\u001b[0;34m\u001b[0m\u001b[0;34m\u001b[0m\u001b[0m\n",
      "\u001b[0;32m~/opt/anaconda3/envs/atsc/lib/python3.8/profile.py\u001b[0m in \u001b[0;36mrun\u001b[0;34m(self, statement, filename, sort)\u001b[0m\n\u001b[1;32m     51\u001b[0m         \u001b[0mprof\u001b[0m \u001b[0;34m=\u001b[0m \u001b[0mself\u001b[0m\u001b[0;34m.\u001b[0m\u001b[0mprofiler\u001b[0m\u001b[0;34m(\u001b[0m\u001b[0;34m)\u001b[0m\u001b[0;34m\u001b[0m\u001b[0;34m\u001b[0m\u001b[0m\n\u001b[1;32m     52\u001b[0m         \u001b[0;32mtry\u001b[0m\u001b[0;34m:\u001b[0m\u001b[0;34m\u001b[0m\u001b[0;34m\u001b[0m\u001b[0m\n\u001b[0;32m---> 53\u001b[0;31m             \u001b[0mprof\u001b[0m\u001b[0;34m.\u001b[0m\u001b[0mrun\u001b[0m\u001b[0;34m(\u001b[0m\u001b[0mstatement\u001b[0m\u001b[0;34m)\u001b[0m\u001b[0;34m\u001b[0m\u001b[0;34m\u001b[0m\u001b[0m\n\u001b[0m\u001b[1;32m     54\u001b[0m         \u001b[0;32mexcept\u001b[0m \u001b[0mSystemExit\u001b[0m\u001b[0;34m:\u001b[0m\u001b[0;34m\u001b[0m\u001b[0;34m\u001b[0m\u001b[0m\n\u001b[1;32m     55\u001b[0m             \u001b[0;32mpass\u001b[0m\u001b[0;34m\u001b[0m\u001b[0;34m\u001b[0m\u001b[0m\n",
      "\u001b[0;32m~/opt/anaconda3/envs/atsc/lib/python3.8/cProfile.py\u001b[0m in \u001b[0;36mrun\u001b[0;34m(self, cmd)\u001b[0m\n\u001b[1;32m     93\u001b[0m         \u001b[0;32mimport\u001b[0m \u001b[0m__main__\u001b[0m\u001b[0;34m\u001b[0m\u001b[0;34m\u001b[0m\u001b[0m\n\u001b[1;32m     94\u001b[0m         \u001b[0mdict\u001b[0m \u001b[0;34m=\u001b[0m \u001b[0m__main__\u001b[0m\u001b[0;34m.\u001b[0m\u001b[0m__dict__\u001b[0m\u001b[0;34m\u001b[0m\u001b[0;34m\u001b[0m\u001b[0m\n\u001b[0;32m---> 95\u001b[0;31m         \u001b[0;32mreturn\u001b[0m \u001b[0mself\u001b[0m\u001b[0;34m.\u001b[0m\u001b[0mrunctx\u001b[0m\u001b[0;34m(\u001b[0m\u001b[0mcmd\u001b[0m\u001b[0;34m,\u001b[0m \u001b[0mdict\u001b[0m\u001b[0;34m,\u001b[0m \u001b[0mdict\u001b[0m\u001b[0;34m)\u001b[0m\u001b[0;34m\u001b[0m\u001b[0;34m\u001b[0m\u001b[0m\n\u001b[0m\u001b[1;32m     96\u001b[0m \u001b[0;34m\u001b[0m\u001b[0m\n\u001b[1;32m     97\u001b[0m     \u001b[0;32mdef\u001b[0m \u001b[0mrunctx\u001b[0m\u001b[0;34m(\u001b[0m\u001b[0mself\u001b[0m\u001b[0;34m,\u001b[0m \u001b[0mcmd\u001b[0m\u001b[0;34m,\u001b[0m \u001b[0mglobals\u001b[0m\u001b[0;34m,\u001b[0m \u001b[0mlocals\u001b[0m\u001b[0;34m)\u001b[0m\u001b[0;34m:\u001b[0m\u001b[0;34m\u001b[0m\u001b[0;34m\u001b[0m\u001b[0m\n",
      "\u001b[0;32m~/opt/anaconda3/envs/atsc/lib/python3.8/cProfile.py\u001b[0m in \u001b[0;36mrunctx\u001b[0;34m(self, cmd, globals, locals)\u001b[0m\n\u001b[1;32m     98\u001b[0m         \u001b[0mself\u001b[0m\u001b[0;34m.\u001b[0m\u001b[0menable\u001b[0m\u001b[0;34m(\u001b[0m\u001b[0;34m)\u001b[0m\u001b[0;34m\u001b[0m\u001b[0;34m\u001b[0m\u001b[0m\n\u001b[1;32m     99\u001b[0m         \u001b[0;32mtry\u001b[0m\u001b[0;34m:\u001b[0m\u001b[0;34m\u001b[0m\u001b[0;34m\u001b[0m\u001b[0m\n\u001b[0;32m--> 100\u001b[0;31m             \u001b[0mexec\u001b[0m\u001b[0;34m(\u001b[0m\u001b[0mcmd\u001b[0m\u001b[0;34m,\u001b[0m \u001b[0mglobals\u001b[0m\u001b[0;34m,\u001b[0m \u001b[0mlocals\u001b[0m\u001b[0;34m)\u001b[0m\u001b[0;34m\u001b[0m\u001b[0;34m\u001b[0m\u001b[0m\n\u001b[0m\u001b[1;32m    101\u001b[0m         \u001b[0;32mfinally\u001b[0m\u001b[0;34m:\u001b[0m\u001b[0;34m\u001b[0m\u001b[0;34m\u001b[0m\u001b[0m\n\u001b[1;32m    102\u001b[0m             \u001b[0mself\u001b[0m\u001b[0;34m.\u001b[0m\u001b[0mdisable\u001b[0m\u001b[0;34m(\u001b[0m\u001b[0;34m)\u001b[0m\u001b[0;34m\u001b[0m\u001b[0;34m\u001b[0m\u001b[0m\n",
      "\u001b[0;32m<string>\u001b[0m in \u001b[0;36m<module>\u001b[0;34m\u001b[0m\n",
      "\u001b[0;31mNameError\u001b[0m: name 'func' is not defined"
     ]
    }
   ],
   "metadata": {}
  },
  {
   "cell_type": "code",
   "execution_count": 2,
   "source": [
    "import pstats\n",
    "p = pstats.Stats('devicecpu_parallelFalse.profile')\n",
    "p.strip_dirs()\n",
    "p.sort_stats('tottime').print_stats(30)\n"
   ],
   "outputs": [
    {
     "output_type": "stream",
     "name": "stdout",
     "text": [
      "Thu Aug 12 23:34:22 2021    devicecpu_parallelFalse.profile\n",
      "\n",
      "         10003229 function calls (9870693 primitive calls) in 39.644 seconds\n",
      "\n",
      "   Ordered by: internal time\n",
      "   List reduced from 1058 to 30 due to restriction <30>\n",
      "\n",
      "   ncalls  tottime  percall  cumtime  percall filename:lineno(function)\n",
      "       20   20.084    1.004   20.084    1.004 {built-in method time.sleep}\n",
      "      275    5.057    0.018    5.057    0.018 {method 'run_backward' of 'torch._C._EngineBase' objects}\n",
      "   227720    3.234    0.000    3.234    0.000 {method 'recv' of '_socket.socket' objects}\n",
      "   927232    0.652    0.000    0.895    0.000 storage.py:37(read)\n",
      "   113860    0.627    0.000    5.553    0.000 connection.py:81(_sendExact)\n",
      "   113860    0.624    0.000    6.398    0.000 connection.py:161(_sendCmd)\n",
      "   211772    0.604    0.000    1.042    0.000 storage.py:69(readString)\n",
      "    16375    0.547    0.000    0.547    0.000 {built-in method torch._C._nn.linear}\n",
      "   113860    0.525    0.000    3.864    0.000 connection.py:62(_recvExact)\n",
      "    97252    0.514    0.000    5.669    0.000 domain.py:174(_getCmd)\n",
      "      213    0.501    0.002    0.520    0.002 utils.py:92(_gather)\n",
      "   113860    0.335    0.000    0.335    0.000 {method 'send' of '_socket.socket' objects}\n",
      "    97252    0.312    0.000    0.611    0.000 domain.py:41(_parse)\n",
      "    97252    0.282    0.000    6.562    0.000 domain.py:169(_getUniversal)\n",
      "      353    0.234    0.001    0.234    0.001 {method 'get_objects' of 'ray._raylet.CoreWorker' objects}\n",
      "48625/5325    0.221    0.000    1.489    0.000 module.py:866(_call_impl)\n",
      "     8550    0.212    0.000    0.293    0.000 constraints.py:398(check)\n",
      "  1041092    0.158    0.000    0.158    0.000 {built-in method _struct.unpack}\n",
      "31300/100    0.148    0.000    0.244    0.002 copy.py:128(deepcopy)\n",
      "     4250    0.134    0.000    1.631    0.000 agents.py:164(act)\n",
      "    97262    0.122    0.000    0.209    0.000 storage.py:63(readLength)\n",
      "      166    0.114    0.001    3.990    0.024 atsc_env.py:431(_measure_state_step)\n",
      "    98000    0.113    0.000    0.204    0.000 storage.py:42(readInt)\n",
      "   927232    0.111    0.000    0.111    0.000 {built-in method _struct.calcsize}\n",
      "      158    0.107    0.001    3.195    0.020 atsc_env.py:393(_measure_reward_step)\n",
      "   113860    0.090    0.000    0.097    0.000 connection.py:108(_pack)\n",
      "    10650    0.088    0.000    0.088    0.000 {built-in method relu}\n",
      "1384184/1383959    0.086    0.000    0.086    0.000 {built-in method builtins.len}\n",
      "      225    0.085    0.000    5.963    0.027 agents.py:772(updateQ)\n",
      "     4275    0.078    0.000    0.634    0.000 models.py:233(forward)\n",
      "\n",
      "\n"
     ]
    },
    {
     "output_type": "execute_result",
     "data": {
      "text/plain": [
       "<pstats.Stats at 0x7f98d0461d60>"
      ]
     },
     "metadata": {},
     "execution_count": 2
    }
   ],
   "metadata": {}
  },
  {
   "cell_type": "code",
   "execution_count": 6,
   "source": [
    "\n",
    "q = pstats.Stats('devicecpu_parallelFalse.profile')\n",
    "q.strip_dirs()\n",
    "q.sort_stats('tottime').print_stats(30)"
   ],
   "outputs": [
    {
     "output_type": "stream",
     "name": "stdout",
     "text": [
      "Thu Jul 29 23:40:05 2021    devicecpu_parallelFalse.profile\n",
      "\n",
      "         5882981 function calls (5727395 primitive calls) in 39.738 seconds\n",
      "\n",
      "   Ordered by: internal time\n",
      "   List reduced from 1061 to 30 due to restriction <30>\n",
      "\n",
      "   ncalls  tottime  percall  cumtime  percall filename:lineno(function)\n",
      "      720   22.316    0.031   22.316    0.031 {method 'run_backward' of 'torch._C._EngineBase' objects}\n",
      "    14904    1.337    0.000    1.337    0.000 {built-in method torch._C._nn.linear}\n",
      "      138    1.230    0.009    1.376    0.010 utils.py:92(_gather)\n",
      "     2808    0.621    0.000    2.658    0.001 models.py:145(forward)\n",
      "      400    0.590    0.001    3.126    0.008 anon_env.py:957(_inner_step)\n",
      "    14580    0.540    0.000    1.356    0.000 anon_env.py:647(_get_connectivity)\n",
      "      684    0.462    0.001   28.020    0.041 agents.py:242(updateQ)\n",
      "    14580    0.447    0.000    2.535    0.000 anon_env.py:342(update_current_measurements_map)\n",
      "    29160    0.395    0.000    0.395    0.000 {method 'mul_' of 'torch._C._TensorBase' objects}\n",
      "     2808    0.362    0.000    0.362    0.000 {built-in method embedding}\n",
      "       19    0.352    0.019    0.358    0.019 utils.py:119(_reduce)\n",
      "        5    0.316    0.063    2.879    0.576 anon_env.py:797(reset)\n",
      "      183    0.310    0.002    0.310    0.002 {method 'get_objects' of 'ray._raylet.CoreWorker' objects}\n",
      "    67728    0.307    0.000    0.307    0.000 {built-in method numpy.array}\n",
      "    54808    0.294    0.000    0.294    0.000 {method 'reduce' of 'numpy.ufunc' objects}\n",
      "     9792    0.283    0.000    0.283    0.000 {method 'sqrt' of 'torch._C._TensorBase' objects}\n",
      "    49252    0.260    0.000    0.585    0.000 fromnumeric.py:70(_wrapreduction)\n",
      "    29160    0.234    0.000    0.234    0.000 {method 'add_' of 'torch._C._TensorBase' objects}\n",
      "      720    0.217    0.000    1.114    0.002 _functional.py:54(adam)\n",
      "    14580    0.179    0.000    1.678    0.000 anon_env.py:521(_update_feature_map)\n",
      "44712/4968    0.176    0.000    3.205    0.001 module.py:1045(_call_impl)\n",
      "   408328    0.167    0.000    0.203    0.000 {built-in method builtins.isinstance}\n",
      "94464/29520    0.163    0.000    0.171    0.000 module.py:1577(named_modules)\n",
      "     4248    0.161    0.000    0.232    0.000 constraints.py:398(check)\n",
      "     1597    0.159    0.000    0.159    0.000 {built-in method zeros}\n",
      "    23544    0.144    0.000    0.393    0.000 module.py:1410(_named_members)\n",
      "    29160    0.140    0.000    0.194    0.000 anon_env.py:344(_change_lane_vehicle_dic_to_list)\n",
      "    48390    0.140    0.000    0.727    0.000 fromnumeric.py:2111(sum)\n",
      "       10    0.138    0.014    0.138    0.014 decoder.py:343(raw_decode)\n",
      "     2124    0.125    0.000    1.419    0.001 agents.py:164(act)\n",
      "\n",
      "\n"
     ]
    },
    {
     "output_type": "execute_result",
     "data": {
      "text/plain": [
       "<pstats.Stats at 0x7f9ec6a10850>"
      ]
     },
     "metadata": {},
     "execution_count": 6
    }
   ],
   "metadata": {}
  },
  {
   "cell_type": "code",
   "execution_count": null,
   "source": [],
   "outputs": [],
   "metadata": {}
  }
 ],
 "metadata": {
  "kernelspec": {
   "name": "python3",
   "display_name": "Python 3.8.10 64-bit ('atsc': conda)"
  },
  "language_info": {
   "name": "python",
   "version": "3.8.8",
   "mimetype": "text/x-python",
   "codemirror_mode": {
    "name": "ipython",
    "version": 3
   },
   "pygments_lexer": "ipython3",
   "nbconvert_exporter": "python",
   "file_extension": ".py"
  },
  "interpreter": {
   "hash": "adcf4b9c8ab3e5b9dace6cd19b34c11bdc28d9fa43b87866c4091ec6ce34febf"
  }
 },
 "nbformat": 4,
 "nbformat_minor": 4
}
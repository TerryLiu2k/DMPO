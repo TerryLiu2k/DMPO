{
 "cells": [
  {
   "cell_type": "code",
   "execution_count": 1,
   "metadata": {},
   "outputs": [],
   "source": [
    "import cProfile\n",
    "import re\n",
    "import torch\n"
   ]
  },
  {
   "cell_type": "code",
   "execution_count": null,
   "metadata": {},
   "outputs": [],
   "source": [
    "def func():\n",
    "    x = torch.zeros((1000, 100)).to(0)\n",
    "    for i in range(10):\n",
    "        x = torch.exp(x)"
   ]
  },
  {
   "cell_type": "code",
   "execution_count": 2,
   "metadata": {},
   "outputs": [
    {
     "name": "stdout",
     "output_type": "stream",
     "text": [
      "         3 function calls in 0.000 seconds\n",
      "\n",
      "   Ordered by: standard name\n",
      "\n",
      "   ncalls  tottime  percall  cumtime  percall filename:lineno(function)\n",
      "        1    0.000    0.000    0.000    0.000 <string>:1(<module>)\n",
      "        1    0.000    0.000    0.000    0.000 {built-in method builtins.exec}\n",
      "        1    0.000    0.000    0.000    0.000 {method 'disable' of '_lsprof.Profiler' objects}\n",
      "\n",
      "\n"
     ]
    },
    {
     "ename": "NameError",
     "evalue": "name 'func' is not defined",
     "output_type": "error",
     "traceback": [
      "\u001B[0;31m---------------------------------------------------------------------------\u001B[0m",
      "\u001B[0;31mNameError\u001B[0m                                 Traceback (most recent call last)",
      "\u001B[0;32m<ipython-input-2-d2e0e4390520>\u001B[0m in \u001B[0;36m<module>\u001B[0;34m\u001B[0m\n\u001B[0;32m----> 1\u001B[0;31m \u001B[0mcProfile\u001B[0m\u001B[0;34m.\u001B[0m\u001B[0mrun\u001B[0m\u001B[0;34m(\u001B[0m\u001B[0;34m'func()'\u001B[0m\u001B[0;34m)\u001B[0m\u001B[0;34m\u001B[0m\u001B[0;34m\u001B[0m\u001B[0m\n\u001B[0m\u001B[1;32m      2\u001B[0m \u001B[0;34m\u001B[0m\u001B[0m\n",
      "\u001B[0;32m~/opt/anaconda3/envs/atsc/lib/python3.8/cProfile.py\u001B[0m in \u001B[0;36mrun\u001B[0;34m(statement, filename, sort)\u001B[0m\n\u001B[1;32m     14\u001B[0m \u001B[0;34m\u001B[0m\u001B[0m\n\u001B[1;32m     15\u001B[0m \u001B[0;32mdef\u001B[0m \u001B[0mrun\u001B[0m\u001B[0;34m(\u001B[0m\u001B[0mstatement\u001B[0m\u001B[0;34m,\u001B[0m \u001B[0mfilename\u001B[0m\u001B[0;34m=\u001B[0m\u001B[0;32mNone\u001B[0m\u001B[0;34m,\u001B[0m \u001B[0msort\u001B[0m\u001B[0;34m=\u001B[0m\u001B[0;34m-\u001B[0m\u001B[0;36m1\u001B[0m\u001B[0;34m)\u001B[0m\u001B[0;34m:\u001B[0m\u001B[0;34m\u001B[0m\u001B[0;34m\u001B[0m\u001B[0m\n\u001B[0;32m---> 16\u001B[0;31m     \u001B[0;32mreturn\u001B[0m \u001B[0m_pyprofile\u001B[0m\u001B[0;34m.\u001B[0m\u001B[0m_Utils\u001B[0m\u001B[0;34m(\u001B[0m\u001B[0mProfile\u001B[0m\u001B[0;34m)\u001B[0m\u001B[0;34m.\u001B[0m\u001B[0mrun\u001B[0m\u001B[0;34m(\u001B[0m\u001B[0mstatement\u001B[0m\u001B[0;34m,\u001B[0m \u001B[0mfilename\u001B[0m\u001B[0;34m,\u001B[0m \u001B[0msort\u001B[0m\u001B[0;34m)\u001B[0m\u001B[0;34m\u001B[0m\u001B[0;34m\u001B[0m\u001B[0m\n\u001B[0m\u001B[1;32m     17\u001B[0m \u001B[0;34m\u001B[0m\u001B[0m\n\u001B[1;32m     18\u001B[0m \u001B[0;32mdef\u001B[0m \u001B[0mrunctx\u001B[0m\u001B[0;34m(\u001B[0m\u001B[0mstatement\u001B[0m\u001B[0;34m,\u001B[0m \u001B[0mglobals\u001B[0m\u001B[0;34m,\u001B[0m \u001B[0mlocals\u001B[0m\u001B[0;34m,\u001B[0m \u001B[0mfilename\u001B[0m\u001B[0;34m=\u001B[0m\u001B[0;32mNone\u001B[0m\u001B[0;34m,\u001B[0m \u001B[0msort\u001B[0m\u001B[0;34m=\u001B[0m\u001B[0;34m-\u001B[0m\u001B[0;36m1\u001B[0m\u001B[0;34m)\u001B[0m\u001B[0;34m:\u001B[0m\u001B[0;34m\u001B[0m\u001B[0;34m\u001B[0m\u001B[0m\n",
      "\u001B[0;32m~/opt/anaconda3/envs/atsc/lib/python3.8/profile.py\u001B[0m in \u001B[0;36mrun\u001B[0;34m(self, statement, filename, sort)\u001B[0m\n\u001B[1;32m     51\u001B[0m         \u001B[0mprof\u001B[0m \u001B[0;34m=\u001B[0m \u001B[0mself\u001B[0m\u001B[0;34m.\u001B[0m\u001B[0mprofiler\u001B[0m\u001B[0;34m(\u001B[0m\u001B[0;34m)\u001B[0m\u001B[0;34m\u001B[0m\u001B[0;34m\u001B[0m\u001B[0m\n\u001B[1;32m     52\u001B[0m         \u001B[0;32mtry\u001B[0m\u001B[0;34m:\u001B[0m\u001B[0;34m\u001B[0m\u001B[0;34m\u001B[0m\u001B[0m\n\u001B[0;32m---> 53\u001B[0;31m             \u001B[0mprof\u001B[0m\u001B[0;34m.\u001B[0m\u001B[0mrun\u001B[0m\u001B[0;34m(\u001B[0m\u001B[0mstatement\u001B[0m\u001B[0;34m)\u001B[0m\u001B[0;34m\u001B[0m\u001B[0;34m\u001B[0m\u001B[0m\n\u001B[0m\u001B[1;32m     54\u001B[0m         \u001B[0;32mexcept\u001B[0m \u001B[0mSystemExit\u001B[0m\u001B[0;34m:\u001B[0m\u001B[0;34m\u001B[0m\u001B[0;34m\u001B[0m\u001B[0m\n\u001B[1;32m     55\u001B[0m             \u001B[0;32mpass\u001B[0m\u001B[0;34m\u001B[0m\u001B[0;34m\u001B[0m\u001B[0m\n",
      "\u001B[0;32m~/opt/anaconda3/envs/atsc/lib/python3.8/cProfile.py\u001B[0m in \u001B[0;36mrun\u001B[0;34m(self, cmd)\u001B[0m\n\u001B[1;32m     93\u001B[0m         \u001B[0;32mimport\u001B[0m \u001B[0m__main__\u001B[0m\u001B[0;34m\u001B[0m\u001B[0;34m\u001B[0m\u001B[0m\n\u001B[1;32m     94\u001B[0m         \u001B[0mdict\u001B[0m \u001B[0;34m=\u001B[0m \u001B[0m__main__\u001B[0m\u001B[0;34m.\u001B[0m\u001B[0m__dict__\u001B[0m\u001B[0;34m\u001B[0m\u001B[0;34m\u001B[0m\u001B[0m\n\u001B[0;32m---> 95\u001B[0;31m         \u001B[0;32mreturn\u001B[0m \u001B[0mself\u001B[0m\u001B[0;34m.\u001B[0m\u001B[0mrunctx\u001B[0m\u001B[0;34m(\u001B[0m\u001B[0mcmd\u001B[0m\u001B[0;34m,\u001B[0m \u001B[0mdict\u001B[0m\u001B[0;34m,\u001B[0m \u001B[0mdict\u001B[0m\u001B[0;34m)\u001B[0m\u001B[0;34m\u001B[0m\u001B[0;34m\u001B[0m\u001B[0m\n\u001B[0m\u001B[1;32m     96\u001B[0m \u001B[0;34m\u001B[0m\u001B[0m\n\u001B[1;32m     97\u001B[0m     \u001B[0;32mdef\u001B[0m \u001B[0mrunctx\u001B[0m\u001B[0;34m(\u001B[0m\u001B[0mself\u001B[0m\u001B[0;34m,\u001B[0m \u001B[0mcmd\u001B[0m\u001B[0;34m,\u001B[0m \u001B[0mglobals\u001B[0m\u001B[0;34m,\u001B[0m \u001B[0mlocals\u001B[0m\u001B[0;34m)\u001B[0m\u001B[0;34m:\u001B[0m\u001B[0;34m\u001B[0m\u001B[0;34m\u001B[0m\u001B[0m\n",
      "\u001B[0;32m~/opt/anaconda3/envs/atsc/lib/python3.8/cProfile.py\u001B[0m in \u001B[0;36mrunctx\u001B[0;34m(self, cmd, globals, locals)\u001B[0m\n\u001B[1;32m     98\u001B[0m         \u001B[0mself\u001B[0m\u001B[0;34m.\u001B[0m\u001B[0menable\u001B[0m\u001B[0;34m(\u001B[0m\u001B[0;34m)\u001B[0m\u001B[0;34m\u001B[0m\u001B[0;34m\u001B[0m\u001B[0m\n\u001B[1;32m     99\u001B[0m         \u001B[0;32mtry\u001B[0m\u001B[0;34m:\u001B[0m\u001B[0;34m\u001B[0m\u001B[0;34m\u001B[0m\u001B[0m\n\u001B[0;32m--> 100\u001B[0;31m             \u001B[0mexec\u001B[0m\u001B[0;34m(\u001B[0m\u001B[0mcmd\u001B[0m\u001B[0;34m,\u001B[0m \u001B[0mglobals\u001B[0m\u001B[0;34m,\u001B[0m \u001B[0mlocals\u001B[0m\u001B[0;34m)\u001B[0m\u001B[0;34m\u001B[0m\u001B[0;34m\u001B[0m\u001B[0m\n\u001B[0m\u001B[1;32m    101\u001B[0m         \u001B[0;32mfinally\u001B[0m\u001B[0;34m:\u001B[0m\u001B[0;34m\u001B[0m\u001B[0;34m\u001B[0m\u001B[0m\n\u001B[1;32m    102\u001B[0m             \u001B[0mself\u001B[0m\u001B[0;34m.\u001B[0m\u001B[0mdisable\u001B[0m\u001B[0;34m(\u001B[0m\u001B[0;34m)\u001B[0m\u001B[0;34m\u001B[0m\u001B[0;34m\u001B[0m\u001B[0m\n",
      "\u001B[0;32m<string>\u001B[0m in \u001B[0;36m<module>\u001B[0;34m\u001B[0m\n",
      "\u001B[0;31mNameError\u001B[0m: name 'func' is not defined"
     ]
    }
   ],
   "source": [
    "cProfile.run('func()')"
   ]
  },
  {
   "cell_type": "code",
   "execution_count": 10,
   "metadata": {},
   "outputs": [
    {
     "name": "stdout",
     "output_type": "stream",
     "text": [
      "Thu Jun 17 20:51:53 2021    devicecpu_parallelFalse.profile\n",
      "\n",
      "         2996591 function calls (2923655 primitive calls) in 30.060 seconds\n",
      "\n",
      "   Ordered by: internal time\n",
      "   List reduced from 1319 to 30 due to restriction <30>\n",
      "\n",
      "   ncalls  tottime  percall  cumtime  percall filename:lineno(function)\n",
      "       10   10.037    1.004   10.037    1.004 {built-in method time.sleep}\n",
      "     5274    7.399    0.001    7.634    0.001 functional.py:1737(linear)\n",
      "       10    6.595    0.660   17.188    1.719 traci.py:157(start_simulation)\n",
      "       54    1.052    0.019    1.052    0.019 {method 'run_backward' of 'torch._C._EngineBase' objects}\n",
      "     3465    0.682    0.000    0.682    0.000 {method 'recv' of '_socket.socket' objects}\n",
      "       18    0.391    0.022    0.391    0.022 {built-in method posix.waitpid}\n",
      "      273    0.236    0.001    0.236    0.001 {method 'get_objects' of 'ray._raylet.CoreWorker' objects}\n",
      "     5274    0.234    0.000    0.234    0.000 {built-in method torch._C._nn.linear}\n",
      "      346    0.163    0.000    0.524    0.002 traffic_light_grid.py:90(get_state)\n",
      "       21    0.133    0.006    0.133    0.006 {built-in method _posixsubprocess.fork_exec}\n",
      "26680/200    0.117    0.000    0.191    0.001 copy.py:128(deepcopy)\n",
      "      190    0.099    0.001    0.112    0.001 utils.py:92(_gather)\n",
      "   148256    0.095    0.000    0.127    0.000 storage.py:37(read)\n",
      "     2997    0.074    0.000    0.101    0.000 constraints.py:398(check)\n",
      "15642/1710    0.065    0.000    7.983    0.005 module.py:866(_call_impl)\n",
      "      180    0.064    0.000    7.671    0.043 models.py:140(forward)\n",
      "     5744    0.064    0.000    0.345    0.000 connection.py:183(_readSubscription)\n",
      "    25848    0.062    0.000    0.188    0.000 domain.py:41(_parse)\n",
      "  2234/99    0.051    0.000    0.203    0.002 {function CloudPickler.dump at 0x7fb290c05160}\n",
      "     1500    0.051    0.000    0.051    0.000 {method 'uniform_' of 'torch._C._TensorBase' objects}\n",
      "      273    0.047    0.000    0.260    0.001 {method 'submit_actor_task' of 'ray._raylet.CoreWorker' objects}\n",
      "     1494    0.045    0.000    0.565    0.000 agents.py:157(act)\n",
      "    22334    0.044    0.000    0.086    0.000 storage.py:69(readString)\n",
      "    27918    0.043    0.000    0.060    0.000 module.py:950(__setattr__)\n",
      "       20    0.037    0.002    0.037    0.002 {built-in method posix.read}\n",
      "11281/9085    0.036    0.000    0.127    0.000 {built-in method numpy.core._multiarray_umath.implement_array_function}\n",
      "     2700    0.032    0.000    0.032    0.000 {method 'add_' of 'torch._C._TensorBase' objects}\n",
      "    24904    0.031    0.000    0.212    0.000 domain.py:82(add)\n",
      "     1494    0.027    0.000    0.223    0.000 models.py:183(forward)\n",
      " 1560/198    0.026    0.000    0.187    0.001 copy.py:226(_deepcopy_dict)\n",
      "\n",
      "\n"
     ]
    },
    {
     "data": {
      "text/plain": "<pstats.Stats at 0x7f9bf03d5040>"
     },
     "execution_count": 10,
     "metadata": {},
     "output_type": "execute_result"
    }
   ],
   "source": [
    "import pstats\n",
    "p = pstats.Stats('devicecpu_parallelFalse.profile')\n",
    "p.strip_dirs()\n",
    "p.sort_stats('tottime').print_stats(30)"
   ]
  },
  {
   "cell_type": "code",
   "execution_count": null,
   "metadata": {},
   "outputs": [],
   "source": []
  }
 ],
 "metadata": {
  "kernelspec": {
   "display_name": "Python 3",
   "language": "python",
   "name": "python3"
  },
  "language_info": {
   "codemirror_mode": {
    "name": "ipython",
    "version": 3
   },
   "file_extension": ".py",
   "mimetype": "text/x-python",
   "name": "python",
   "nbconvert_exporter": "python",
   "pygments_lexer": "ipython3",
   "version": "3.8.7"
  }
 },
 "nbformat": 4,
 "nbformat_minor": 4
}
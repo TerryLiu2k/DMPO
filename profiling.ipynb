{
 "cells": [
  {
   "cell_type": "code",
   "execution_count": 1,
   "metadata": {},
   "outputs": [],
   "source": [
    "import cProfile\n",
    "import re\n",
    "import torch\n"
   ]
  },
  {
   "cell_type": "code",
   "execution_count": null,
   "metadata": {},
   "outputs": [],
   "source": [
    "def func():\n",
    "    x = torch.zeros((1000, 100)).to(0)\n",
    "    for i in range(10):\n",
    "        x = torch.exp(x)"
   ]
  },
  {
   "cell_type": "code",
   "execution_count": 2,
   "metadata": {},
   "outputs": [
    {
     "name": "stdout",
     "output_type": "stream",
     "text": [
      "         3 function calls in 0.000 seconds\n",
      "\n",
      "   Ordered by: standard name\n",
      "\n",
      "   ncalls  tottime  percall  cumtime  percall filename:lineno(function)\n",
      "        1    0.000    0.000    0.000    0.000 <string>:1(<module>)\n",
      "        1    0.000    0.000    0.000    0.000 {built-in method builtins.exec}\n",
      "        1    0.000    0.000    0.000    0.000 {method 'disable' of '_lsprof.Profiler' objects}\n",
      "\n",
      "\n"
     ]
    },
    {
     "ename": "NameError",
     "evalue": "name 'func' is not defined",
     "output_type": "error",
     "traceback": [
      "\u001B[0;31m---------------------------------------------------------------------------\u001B[0m",
      "\u001B[0;31mNameError\u001B[0m                                 Traceback (most recent call last)",
      "\u001B[0;32m<ipython-input-2-d2e0e4390520>\u001B[0m in \u001B[0;36m<module>\u001B[0;34m\u001B[0m\n\u001B[0;32m----> 1\u001B[0;31m \u001B[0mcProfile\u001B[0m\u001B[0;34m.\u001B[0m\u001B[0mrun\u001B[0m\u001B[0;34m(\u001B[0m\u001B[0;34m'func()'\u001B[0m\u001B[0;34m)\u001B[0m\u001B[0;34m\u001B[0m\u001B[0;34m\u001B[0m\u001B[0m\n\u001B[0m\u001B[1;32m      2\u001B[0m \u001B[0;34m\u001B[0m\u001B[0m\n",
      "\u001B[0;32m~/opt/anaconda3/envs/atsc/lib/python3.8/cProfile.py\u001B[0m in \u001B[0;36mrun\u001B[0;34m(statement, filename, sort)\u001B[0m\n\u001B[1;32m     14\u001B[0m \u001B[0;34m\u001B[0m\u001B[0m\n\u001B[1;32m     15\u001B[0m \u001B[0;32mdef\u001B[0m \u001B[0mrun\u001B[0m\u001B[0;34m(\u001B[0m\u001B[0mstatement\u001B[0m\u001B[0;34m,\u001B[0m \u001B[0mfilename\u001B[0m\u001B[0;34m=\u001B[0m\u001B[0;32mNone\u001B[0m\u001B[0;34m,\u001B[0m \u001B[0msort\u001B[0m\u001B[0;34m=\u001B[0m\u001B[0;34m-\u001B[0m\u001B[0;36m1\u001B[0m\u001B[0;34m)\u001B[0m\u001B[0;34m:\u001B[0m\u001B[0;34m\u001B[0m\u001B[0;34m\u001B[0m\u001B[0m\n\u001B[0;32m---> 16\u001B[0;31m     \u001B[0;32mreturn\u001B[0m \u001B[0m_pyprofile\u001B[0m\u001B[0;34m.\u001B[0m\u001B[0m_Utils\u001B[0m\u001B[0;34m(\u001B[0m\u001B[0mProfile\u001B[0m\u001B[0;34m)\u001B[0m\u001B[0;34m.\u001B[0m\u001B[0mrun\u001B[0m\u001B[0;34m(\u001B[0m\u001B[0mstatement\u001B[0m\u001B[0;34m,\u001B[0m \u001B[0mfilename\u001B[0m\u001B[0;34m,\u001B[0m \u001B[0msort\u001B[0m\u001B[0;34m)\u001B[0m\u001B[0;34m\u001B[0m\u001B[0;34m\u001B[0m\u001B[0m\n\u001B[0m\u001B[1;32m     17\u001B[0m \u001B[0;34m\u001B[0m\u001B[0m\n\u001B[1;32m     18\u001B[0m \u001B[0;32mdef\u001B[0m \u001B[0mrunctx\u001B[0m\u001B[0;34m(\u001B[0m\u001B[0mstatement\u001B[0m\u001B[0;34m,\u001B[0m \u001B[0mglobals\u001B[0m\u001B[0;34m,\u001B[0m \u001B[0mlocals\u001B[0m\u001B[0;34m,\u001B[0m \u001B[0mfilename\u001B[0m\u001B[0;34m=\u001B[0m\u001B[0;32mNone\u001B[0m\u001B[0;34m,\u001B[0m \u001B[0msort\u001B[0m\u001B[0;34m=\u001B[0m\u001B[0;34m-\u001B[0m\u001B[0;36m1\u001B[0m\u001B[0;34m)\u001B[0m\u001B[0;34m:\u001B[0m\u001B[0;34m\u001B[0m\u001B[0;34m\u001B[0m\u001B[0m\n",
      "\u001B[0;32m~/opt/anaconda3/envs/atsc/lib/python3.8/profile.py\u001B[0m in \u001B[0;36mrun\u001B[0;34m(self, statement, filename, sort)\u001B[0m\n\u001B[1;32m     51\u001B[0m         \u001B[0mprof\u001B[0m \u001B[0;34m=\u001B[0m \u001B[0mself\u001B[0m\u001B[0;34m.\u001B[0m\u001B[0mprofiler\u001B[0m\u001B[0;34m(\u001B[0m\u001B[0;34m)\u001B[0m\u001B[0;34m\u001B[0m\u001B[0;34m\u001B[0m\u001B[0m\n\u001B[1;32m     52\u001B[0m         \u001B[0;32mtry\u001B[0m\u001B[0;34m:\u001B[0m\u001B[0;34m\u001B[0m\u001B[0;34m\u001B[0m\u001B[0m\n\u001B[0;32m---> 53\u001B[0;31m             \u001B[0mprof\u001B[0m\u001B[0;34m.\u001B[0m\u001B[0mrun\u001B[0m\u001B[0;34m(\u001B[0m\u001B[0mstatement\u001B[0m\u001B[0;34m)\u001B[0m\u001B[0;34m\u001B[0m\u001B[0;34m\u001B[0m\u001B[0m\n\u001B[0m\u001B[1;32m     54\u001B[0m         \u001B[0;32mexcept\u001B[0m \u001B[0mSystemExit\u001B[0m\u001B[0;34m:\u001B[0m\u001B[0;34m\u001B[0m\u001B[0;34m\u001B[0m\u001B[0m\n\u001B[1;32m     55\u001B[0m             \u001B[0;32mpass\u001B[0m\u001B[0;34m\u001B[0m\u001B[0;34m\u001B[0m\u001B[0m\n",
      "\u001B[0;32m~/opt/anaconda3/envs/atsc/lib/python3.8/cProfile.py\u001B[0m in \u001B[0;36mrun\u001B[0;34m(self, cmd)\u001B[0m\n\u001B[1;32m     93\u001B[0m         \u001B[0;32mimport\u001B[0m \u001B[0m__main__\u001B[0m\u001B[0;34m\u001B[0m\u001B[0;34m\u001B[0m\u001B[0m\n\u001B[1;32m     94\u001B[0m         \u001B[0mdict\u001B[0m \u001B[0;34m=\u001B[0m \u001B[0m__main__\u001B[0m\u001B[0;34m.\u001B[0m\u001B[0m__dict__\u001B[0m\u001B[0;34m\u001B[0m\u001B[0;34m\u001B[0m\u001B[0m\n\u001B[0;32m---> 95\u001B[0;31m         \u001B[0;32mreturn\u001B[0m \u001B[0mself\u001B[0m\u001B[0;34m.\u001B[0m\u001B[0mrunctx\u001B[0m\u001B[0;34m(\u001B[0m\u001B[0mcmd\u001B[0m\u001B[0;34m,\u001B[0m \u001B[0mdict\u001B[0m\u001B[0;34m,\u001B[0m \u001B[0mdict\u001B[0m\u001B[0;34m)\u001B[0m\u001B[0;34m\u001B[0m\u001B[0;34m\u001B[0m\u001B[0m\n\u001B[0m\u001B[1;32m     96\u001B[0m \u001B[0;34m\u001B[0m\u001B[0m\n\u001B[1;32m     97\u001B[0m     \u001B[0;32mdef\u001B[0m \u001B[0mrunctx\u001B[0m\u001B[0;34m(\u001B[0m\u001B[0mself\u001B[0m\u001B[0;34m,\u001B[0m \u001B[0mcmd\u001B[0m\u001B[0;34m,\u001B[0m \u001B[0mglobals\u001B[0m\u001B[0;34m,\u001B[0m \u001B[0mlocals\u001B[0m\u001B[0;34m)\u001B[0m\u001B[0;34m:\u001B[0m\u001B[0;34m\u001B[0m\u001B[0;34m\u001B[0m\u001B[0m\n",
      "\u001B[0;32m~/opt/anaconda3/envs/atsc/lib/python3.8/cProfile.py\u001B[0m in \u001B[0;36mrunctx\u001B[0;34m(self, cmd, globals, locals)\u001B[0m\n\u001B[1;32m     98\u001B[0m         \u001B[0mself\u001B[0m\u001B[0;34m.\u001B[0m\u001B[0menable\u001B[0m\u001B[0;34m(\u001B[0m\u001B[0;34m)\u001B[0m\u001B[0;34m\u001B[0m\u001B[0;34m\u001B[0m\u001B[0m\n\u001B[1;32m     99\u001B[0m         \u001B[0;32mtry\u001B[0m\u001B[0;34m:\u001B[0m\u001B[0;34m\u001B[0m\u001B[0;34m\u001B[0m\u001B[0m\n\u001B[0;32m--> 100\u001B[0;31m             \u001B[0mexec\u001B[0m\u001B[0;34m(\u001B[0m\u001B[0mcmd\u001B[0m\u001B[0;34m,\u001B[0m \u001B[0mglobals\u001B[0m\u001B[0;34m,\u001B[0m \u001B[0mlocals\u001B[0m\u001B[0;34m)\u001B[0m\u001B[0;34m\u001B[0m\u001B[0;34m\u001B[0m\u001B[0m\n\u001B[0m\u001B[1;32m    101\u001B[0m         \u001B[0;32mfinally\u001B[0m\u001B[0;34m:\u001B[0m\u001B[0;34m\u001B[0m\u001B[0;34m\u001B[0m\u001B[0m\n\u001B[1;32m    102\u001B[0m             \u001B[0mself\u001B[0m\u001B[0;34m.\u001B[0m\u001B[0mdisable\u001B[0m\u001B[0;34m(\u001B[0m\u001B[0;34m)\u001B[0m\u001B[0;34m\u001B[0m\u001B[0;34m\u001B[0m\u001B[0m\n",
      "\u001B[0;32m<string>\u001B[0m in \u001B[0;36m<module>\u001B[0;34m\u001B[0m\n",
      "\u001B[0;31mNameError\u001B[0m: name 'func' is not defined"
     ]
    }
   ],
   "source": [
    "cProfile.run('func()')"
   ]
  },
  {
   "cell_type": "code",
   "execution_count": 2,
   "metadata": {},
   "outputs": [
    {
     "name": "stdout",
     "output_type": "stream",
     "text": [
      "Wed Jul 28 20:38:15 2021    devicecpu_parallelFalse.profile\n",
      "\n",
      "         5539494 function calls (5424824 primitive calls) in 27.540 seconds\n",
      "\n",
      "   Ordered by: internal time\n",
      "   List reduced from 1078 to 30 due to restriction <30>\n",
      "\n",
      "   ncalls  tottime  percall  cumtime  percall filename:lineno(function)\n",
      "      415   20.083    0.048   20.083    0.048 {method 'run_backward' of 'torch._C._EngineBase' objects}\n",
      "     9948    1.221    0.000    1.221    0.000 {built-in method torch._C._nn.linear}\n",
      "       94    0.690    0.007    0.737    0.008 utils.py:92(_gather)\n",
      "     1588    0.395    0.000    1.964    0.001 models.py:145(forward)\n",
      "        4    0.372    0.093    1.109    0.277 anon_env.py:797(reset)\n",
      "     1588    0.265    0.000    0.265    0.000 {built-in method embedding}\n",
      "      360    0.245    0.001    1.016    0.003 anon_env.py:957(_inner_step)\n",
      "    16308    0.195    0.000    0.195    0.000 {method 'add_' of 'torch._C._TensorBase' objects}\n",
      "      183    0.192    0.001    0.192    0.001 {method 'get_objects' of 'ray._raylet.CoreWorker' objects}\n",
      "       11    0.159    0.014    0.159    0.014 utils.py:119(_reduce)\n",
      "    13104    0.139    0.000    0.763    0.000 anon_env.py:342(update_current_measurements_map)\n",
      "    13104    0.138    0.000    0.362    0.000 anon_env.py:647(_get_connectivity)\n",
      "      379    0.135    0.000   23.035    0.061 agents.py:241(updateQ)\n",
      "    47114    0.127    0.000    0.127    0.000 {method 'reduce' of 'numpy.ufunc' objects}\n",
      "    16308    0.114    0.000    0.114    0.000 {method 'mul_' of 'torch._C._TensorBase' objects}\n",
      "     5508    0.110    0.000    0.110    0.000 {method 'addcdiv_' of 'torch._C._TensorBase' objects}\n",
      "     5508    0.097    0.000    0.097    0.000 {method 'addcmul_' of 'torch._C._TensorBase' objects}\n",
      "29844/3316    0.083    0.000    2.196    0.001 module.py:866(_call_impl)\n",
      "     6632    0.082    0.000    0.082    0.000 {built-in method relu}\n",
      "     3384    0.077    0.000    0.108    0.000 constraints.py:398(check)\n",
      "     4032    0.066    0.000    0.068    0.000 anon_env.py:1422(_get_top_k_lane)\n",
      "        8    0.066    0.008    0.066    0.008 decoder.py:343(raw_decode)\n",
      "    66306    0.066    0.000    0.066    0.000 {built-in method numpy.array}\n",
      "    26208    0.064    0.000    0.093    0.000 anon_env.py:344(_change_lane_vehicle_dic_to_list)\n",
      "      414    0.062    0.000    0.488    0.001 _functional.py:53(adam)\n",
      "      183    0.058    0.000    0.156    0.001 {method 'submit_actor_task' of 'ray._raylet.CoreWorker' objects}\n",
      "   437816    0.055    0.000    0.081    0.000 {built-in method builtins.isinstance}\n",
      "    14380    0.055    0.000    0.061    0.000 module.py:950(__setattr__)\n",
      "    42669    0.054    0.000    0.196    0.000 fromnumeric.py:70(_wrapreduction)\n",
      "      934    0.051    0.000    0.051    0.000 {built-in method zeros}\n",
      "\n",
      "\n"
     ]
    },
    {
     "data": {
      "text/plain": "<pstats.Stats at 0x7f9610276eb0>"
     },
     "execution_count": 2,
     "metadata": {},
     "output_type": "execute_result"
    }
   ],
   "source": [
    "import pstats\n",
    "p = pstats.Stats('devicecpu_parallelFalse.profile')\n",
    "p.strip_dirs()\n",
    "p.sort_stats('tottime').print_stats(30)"
   ]
  },
  {
   "cell_type": "code",
   "execution_count": null,
   "metadata": {},
   "outputs": [],
   "source": []
  }
 ],
 "metadata": {
  "kernelspec": {
   "display_name": "Python 3",
   "language": "python",
   "name": "python3"
  },
  "language_info": {
   "codemirror_mode": {
    "name": "ipython",
    "version": 3
   },
   "file_extension": ".py",
   "mimetype": "text/x-python",
   "name": "python",
   "nbconvert_exporter": "python",
   "pygments_lexer": "ipython3",
   "version": "3.8.7"
  }
 },
 "nbformat": 4,
 "nbformat_minor": 4
}
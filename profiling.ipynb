{
 "cells": [
  {
   "cell_type": "code",
   "execution_count": null,
   "metadata": {},
   "outputs": [],
   "source": [
    "import cProfile\n",
    "import re\n",
    "import torch\n"
   ]
  },
  {
   "cell_type": "code",
   "execution_count": null,
   "metadata": {},
   "outputs": [],
   "source": [
    "def func():\n",
    "    x = torch.zeros((1000, 100)).to(0)\n",
    "    for i in range(10):\n",
    "        x = torch.exp(x)"
   ]
  },
  {
   "cell_type": "code",
   "execution_count": null,
   "metadata": {},
   "outputs": [],
   "source": [
    "cProfile.run('func()')"
   ]
  },
  {
   "cell_type": "code",
   "execution_count": 18,
   "metadata": {},
   "outputs": [
    {
     "name": "stdout",
     "output_type": "stream",
     "text": [
      "Sat May 29 02:36:55 2021    cpu_parallel.profile\n",
      "\n",
      "         14489607 function calls (13631653 primitive calls) in 217.941 seconds\n",
      "\n",
      "   Ordered by: cumulative time\n",
      "   List reduced from 787 to 10 due to restriction <10>\n",
      "\n",
      "   ncalls  tottime  percall  cumtime  percall filename:lineno(function)\n",
      "      2/1    0.000    0.000  217.941  217.941 {built-in method builtins.exec}\n",
      "        1    0.009    0.009  217.941  217.941 <string>:1(<module>)\n",
      "        1    0.002    0.002  217.556  217.556 algorithm.py:262(run)\n",
      "      306    0.068    0.000  214.983    0.703 algorithm.py:196(updateAgent)\n",
      "      490    0.082    0.000  211.052    0.431 agents.py:447(updateP)\n",
      "      818    0.391    0.000  210.456    0.257 utils.py:34(sequentialEval)\n",
      "     3920    0.975    0.000  208.441    0.053 agents.py:298(updateP)\n",
      "     3920    0.027    0.000  129.040    0.033 tensor.py:138(backward)\n",
      "     3920    0.032    0.000  129.013    0.033 __init__.py:44(backward)\n",
      "     3920  128.896    0.033  128.896    0.033 {method 'run_backward' of 'torch._C._EngineBase' objects}\n",
      "\n",
      "\n"
     ]
    },
    {
     "data": {
      "text/plain": [
       "<pstats.Stats at 0x7f8558f6d748>"
      ]
     },
     "execution_count": 18,
     "metadata": {},
     "output_type": "execute_result"
    }
   ],
   "source": [
    "import pstats\n",
    "p = pstats.Stats('cpu_parallel.profile')\n",
    "p.strip_dirs()\n",
    "p.sort_stats('cumulative').print_stats(10)\n"
   ]
  },
  {
   "cell_type": "code",
   "execution_count": null,
   "metadata": {},
   "outputs": [],
   "source": []
  }
 ],
 "metadata": {
  "kernelspec": {
   "display_name": "Python 3",
   "language": "python",
   "name": "python3"
  },
  "language_info": {
   "codemirror_mode": {
    "name": "ipython",
    "version": 3
   },
   "file_extension": ".py",
   "mimetype": "text/x-python",
   "name": "python",
   "nbconvert_exporter": "python",
   "pygments_lexer": "ipython3",
   "version": "3.6.11"
  }
 },
 "nbformat": 4,
 "nbformat_minor": 2
}

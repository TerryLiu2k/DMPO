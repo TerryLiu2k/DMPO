{
 "cells": [
  {
   "cell_type": "code",
   "execution_count": 1,
   "source": [
    "import cProfile\n",
    "import re\n",
    "import torch\n"
   ],
   "outputs": [],
   "metadata": {}
  },
  {
   "cell_type": "code",
   "execution_count": null,
   "source": [
    "def func():\n",
    "    x = torch.zeros((1000, 100)).to(0)\n",
    "    for i in range(10):\n",
    "        x = torch.exp(x)"
   ],
   "outputs": [],
   "metadata": {}
  },
  {
   "cell_type": "code",
   "execution_count": 2,
   "source": [
    "cProfile.run('func()')"
   ],
   "outputs": [
    {
     "output_type": "stream",
     "name": "stdout",
     "text": [
      "         3 function calls in 0.000 seconds\n",
      "\n",
      "   Ordered by: standard name\n",
      "\n",
      "   ncalls  tottime  percall  cumtime  percall filename:lineno(function)\n",
      "        1    0.000    0.000    0.000    0.000 <string>:1(<module>)\n",
      "        1    0.000    0.000    0.000    0.000 {built-in method builtins.exec}\n",
      "        1    0.000    0.000    0.000    0.000 {method 'disable' of '_lsprof.Profiler' objects}\n",
      "\n",
      "\n"
     ]
    },
    {
     "output_type": "error",
     "ename": "NameError",
     "evalue": "name 'func' is not defined",
     "traceback": [
      "\u001b[0;31m---------------------------------------------------------------------------\u001b[0m",
      "\u001b[0;31mNameError\u001b[0m                                 Traceback (most recent call last)",
      "\u001b[0;32m<ipython-input-2-d2e0e4390520>\u001b[0m in \u001b[0;36m<module>\u001b[0;34m\u001b[0m\n\u001b[0;32m----> 1\u001b[0;31m \u001b[0mcProfile\u001b[0m\u001b[0;34m.\u001b[0m\u001b[0mrun\u001b[0m\u001b[0;34m(\u001b[0m\u001b[0;34m'func()'\u001b[0m\u001b[0;34m)\u001b[0m\u001b[0;34m\u001b[0m\u001b[0;34m\u001b[0m\u001b[0m\n\u001b[0m\u001b[1;32m      2\u001b[0m \u001b[0;34m\u001b[0m\u001b[0m\n",
      "\u001b[0;32m~/opt/anaconda3/envs/atsc/lib/python3.8/cProfile.py\u001b[0m in \u001b[0;36mrun\u001b[0;34m(statement, filename, sort)\u001b[0m\n\u001b[1;32m     14\u001b[0m \u001b[0;34m\u001b[0m\u001b[0m\n\u001b[1;32m     15\u001b[0m \u001b[0;32mdef\u001b[0m \u001b[0mrun\u001b[0m\u001b[0;34m(\u001b[0m\u001b[0mstatement\u001b[0m\u001b[0;34m,\u001b[0m \u001b[0mfilename\u001b[0m\u001b[0;34m=\u001b[0m\u001b[0;32mNone\u001b[0m\u001b[0;34m,\u001b[0m \u001b[0msort\u001b[0m\u001b[0;34m=\u001b[0m\u001b[0;34m-\u001b[0m\u001b[0;36m1\u001b[0m\u001b[0;34m)\u001b[0m\u001b[0;34m:\u001b[0m\u001b[0;34m\u001b[0m\u001b[0;34m\u001b[0m\u001b[0m\n\u001b[0;32m---> 16\u001b[0;31m     \u001b[0;32mreturn\u001b[0m \u001b[0m_pyprofile\u001b[0m\u001b[0;34m.\u001b[0m\u001b[0m_Utils\u001b[0m\u001b[0;34m(\u001b[0m\u001b[0mProfile\u001b[0m\u001b[0;34m)\u001b[0m\u001b[0;34m.\u001b[0m\u001b[0mrun\u001b[0m\u001b[0;34m(\u001b[0m\u001b[0mstatement\u001b[0m\u001b[0;34m,\u001b[0m \u001b[0mfilename\u001b[0m\u001b[0;34m,\u001b[0m \u001b[0msort\u001b[0m\u001b[0;34m)\u001b[0m\u001b[0;34m\u001b[0m\u001b[0;34m\u001b[0m\u001b[0m\n\u001b[0m\u001b[1;32m     17\u001b[0m \u001b[0;34m\u001b[0m\u001b[0m\n\u001b[1;32m     18\u001b[0m \u001b[0;32mdef\u001b[0m \u001b[0mrunctx\u001b[0m\u001b[0;34m(\u001b[0m\u001b[0mstatement\u001b[0m\u001b[0;34m,\u001b[0m \u001b[0mglobals\u001b[0m\u001b[0;34m,\u001b[0m \u001b[0mlocals\u001b[0m\u001b[0;34m,\u001b[0m \u001b[0mfilename\u001b[0m\u001b[0;34m=\u001b[0m\u001b[0;32mNone\u001b[0m\u001b[0;34m,\u001b[0m \u001b[0msort\u001b[0m\u001b[0;34m=\u001b[0m\u001b[0;34m-\u001b[0m\u001b[0;36m1\u001b[0m\u001b[0;34m)\u001b[0m\u001b[0;34m:\u001b[0m\u001b[0;34m\u001b[0m\u001b[0;34m\u001b[0m\u001b[0m\n",
      "\u001b[0;32m~/opt/anaconda3/envs/atsc/lib/python3.8/profile.py\u001b[0m in \u001b[0;36mrun\u001b[0;34m(self, statement, filename, sort)\u001b[0m\n\u001b[1;32m     51\u001b[0m         \u001b[0mprof\u001b[0m \u001b[0;34m=\u001b[0m \u001b[0mself\u001b[0m\u001b[0;34m.\u001b[0m\u001b[0mprofiler\u001b[0m\u001b[0;34m(\u001b[0m\u001b[0;34m)\u001b[0m\u001b[0;34m\u001b[0m\u001b[0;34m\u001b[0m\u001b[0m\n\u001b[1;32m     52\u001b[0m         \u001b[0;32mtry\u001b[0m\u001b[0;34m:\u001b[0m\u001b[0;34m\u001b[0m\u001b[0;34m\u001b[0m\u001b[0m\n\u001b[0;32m---> 53\u001b[0;31m             \u001b[0mprof\u001b[0m\u001b[0;34m.\u001b[0m\u001b[0mrun\u001b[0m\u001b[0;34m(\u001b[0m\u001b[0mstatement\u001b[0m\u001b[0;34m)\u001b[0m\u001b[0;34m\u001b[0m\u001b[0;34m\u001b[0m\u001b[0m\n\u001b[0m\u001b[1;32m     54\u001b[0m         \u001b[0;32mexcept\u001b[0m \u001b[0mSystemExit\u001b[0m\u001b[0;34m:\u001b[0m\u001b[0;34m\u001b[0m\u001b[0;34m\u001b[0m\u001b[0m\n\u001b[1;32m     55\u001b[0m             \u001b[0;32mpass\u001b[0m\u001b[0;34m\u001b[0m\u001b[0;34m\u001b[0m\u001b[0m\n",
      "\u001b[0;32m~/opt/anaconda3/envs/atsc/lib/python3.8/cProfile.py\u001b[0m in \u001b[0;36mrun\u001b[0;34m(self, cmd)\u001b[0m\n\u001b[1;32m     93\u001b[0m         \u001b[0;32mimport\u001b[0m \u001b[0m__main__\u001b[0m\u001b[0;34m\u001b[0m\u001b[0;34m\u001b[0m\u001b[0m\n\u001b[1;32m     94\u001b[0m         \u001b[0mdict\u001b[0m \u001b[0;34m=\u001b[0m \u001b[0m__main__\u001b[0m\u001b[0;34m.\u001b[0m\u001b[0m__dict__\u001b[0m\u001b[0;34m\u001b[0m\u001b[0;34m\u001b[0m\u001b[0m\n\u001b[0;32m---> 95\u001b[0;31m         \u001b[0;32mreturn\u001b[0m \u001b[0mself\u001b[0m\u001b[0;34m.\u001b[0m\u001b[0mrunctx\u001b[0m\u001b[0;34m(\u001b[0m\u001b[0mcmd\u001b[0m\u001b[0;34m,\u001b[0m \u001b[0mdict\u001b[0m\u001b[0;34m,\u001b[0m \u001b[0mdict\u001b[0m\u001b[0;34m)\u001b[0m\u001b[0;34m\u001b[0m\u001b[0;34m\u001b[0m\u001b[0m\n\u001b[0m\u001b[1;32m     96\u001b[0m \u001b[0;34m\u001b[0m\u001b[0m\n\u001b[1;32m     97\u001b[0m     \u001b[0;32mdef\u001b[0m \u001b[0mrunctx\u001b[0m\u001b[0;34m(\u001b[0m\u001b[0mself\u001b[0m\u001b[0;34m,\u001b[0m \u001b[0mcmd\u001b[0m\u001b[0;34m,\u001b[0m \u001b[0mglobals\u001b[0m\u001b[0;34m,\u001b[0m \u001b[0mlocals\u001b[0m\u001b[0;34m)\u001b[0m\u001b[0;34m:\u001b[0m\u001b[0;34m\u001b[0m\u001b[0;34m\u001b[0m\u001b[0m\n",
      "\u001b[0;32m~/opt/anaconda3/envs/atsc/lib/python3.8/cProfile.py\u001b[0m in \u001b[0;36mrunctx\u001b[0;34m(self, cmd, globals, locals)\u001b[0m\n\u001b[1;32m     98\u001b[0m         \u001b[0mself\u001b[0m\u001b[0;34m.\u001b[0m\u001b[0menable\u001b[0m\u001b[0;34m(\u001b[0m\u001b[0;34m)\u001b[0m\u001b[0;34m\u001b[0m\u001b[0;34m\u001b[0m\u001b[0m\n\u001b[1;32m     99\u001b[0m         \u001b[0;32mtry\u001b[0m\u001b[0;34m:\u001b[0m\u001b[0;34m\u001b[0m\u001b[0;34m\u001b[0m\u001b[0m\n\u001b[0;32m--> 100\u001b[0;31m             \u001b[0mexec\u001b[0m\u001b[0;34m(\u001b[0m\u001b[0mcmd\u001b[0m\u001b[0;34m,\u001b[0m \u001b[0mglobals\u001b[0m\u001b[0;34m,\u001b[0m \u001b[0mlocals\u001b[0m\u001b[0;34m)\u001b[0m\u001b[0;34m\u001b[0m\u001b[0;34m\u001b[0m\u001b[0m\n\u001b[0m\u001b[1;32m    101\u001b[0m         \u001b[0;32mfinally\u001b[0m\u001b[0;34m:\u001b[0m\u001b[0;34m\u001b[0m\u001b[0;34m\u001b[0m\u001b[0m\n\u001b[1;32m    102\u001b[0m             \u001b[0mself\u001b[0m\u001b[0;34m.\u001b[0m\u001b[0mdisable\u001b[0m\u001b[0;34m(\u001b[0m\u001b[0;34m)\u001b[0m\u001b[0;34m\u001b[0m\u001b[0;34m\u001b[0m\u001b[0m\n",
      "\u001b[0;32m<string>\u001b[0m in \u001b[0;36m<module>\u001b[0;34m\u001b[0m\n",
      "\u001b[0;31mNameError\u001b[0m: name 'func' is not defined"
     ]
    }
   ],
   "metadata": {}
  },
  {
   "cell_type": "code",
   "execution_count": 1,
   "source": [
    "import pstats\n",
    "p = pstats.Stats('devicecuda:0_parallelFalse.profile')\n",
    "p.strip_dirs()\n",
    "p.sort_stats('tottime').print_stats(50)\n"
   ],
   "outputs": [
    {
     "output_type": "stream",
     "name": "stdout",
     "text": [
      "Tue Sep 28 16:02:03 2021    devicecuda:0_parallelFalse.profile\n",
      "\n",
      "         2602030 function calls (2371238 primitive calls) in 51.880 seconds\n",
      "\n",
      "   Ordered by: internal time\n",
      "   List reduced from 746 to 50 due to restriction <50>\n",
      "\n",
      "   ncalls  tottime  percall  cumtime  percall filename:lineno(function)\n",
      "       67   10.627    0.159   10.627    0.159 {method 'run_backward' of 'torch._C._EngineBase' objects}\n",
      "    21099    8.470    0.000    8.470    0.000 {method 'item' of 'torch._C._TensorBase' objects}\n",
      "    37030    3.499    0.000    3.499    0.000 {built-in method addmm}\n",
      "     1378    3.302    0.002    3.302    0.002 {method 'cpu' of 'torch._C._TensorBase' objects}\n",
      "       67    1.902    0.028    6.810    0.102 adam.py:49(step)\n",
      "106927/8857    1.775    0.000   13.450    0.002 module.py:522(__call__)\n",
      "    35784    1.575    0.000    1.575    0.000 {method 'mul_' of 'torch._C._TensorBase' objects}\n",
      "    22064    1.443    0.000    1.443    0.000 {built-in method relu}\n",
      "    31024    1.258    0.000    1.258    0.000 {method 'add_' of 'torch._C._TensorBase' objects}\n",
      "    21322    0.979    0.000    9.820    0.000 container.py:98(forward)\n",
      "    14000    0.886    0.000    0.886    0.000 {built-in method norm}\n",
      "    15512    0.812    0.000    0.812    0.000 {method 'addcdiv_' of 'torch._C._TensorBase' objects}\n",
      "    37030    0.810    0.000    5.408    0.000 linear.py:86(forward)\n",
      "    37030    0.685    0.000    0.685    0.000 {method 't' of 'torch._C._TensorBase' objects}\n",
      "     1772    0.650    0.000    0.650    0.000 {built-in method stack}\n",
      "     6885    0.643    0.000    0.643    0.000 {built-in method cat}\n",
      "      490    0.622    0.001    0.622    0.001 {method 'copy_' of 'torch._C._TensorBase' objects}\n",
      "    15512    0.621    0.000    0.621    0.000 {method 'sqrt' of 'torch._C._TensorBase' objects}\n",
      "    15512    0.602    0.000    0.602    0.000 {method 'addcmul_' of 'torch._C._TensorBase' objects}\n",
      "     3430    0.579    0.000    3.985    0.001 models.py:375(forward)\n",
      "       50    0.568    0.011   11.151    0.223 clip_grad.py:6(clip_grad_norm_)\n",
      "    24564    0.497    0.000    0.497    0.000 {method 'select' of 'torch._C._TensorBase' objects}\n",
      "      980    0.489    0.000    5.510    0.006 models.py:400(forward)\n",
      "116200/21000    0.464    0.000    0.479    0.000 module.py:1000(named_modules)\n",
      "205475/169691    0.331    0.000    0.375    0.000 {built-in method builtins.len}\n",
      "      514    0.322    0.001    0.322    0.001 {method 'send' of '_socket.socket' objects}\n",
      "      646    0.320    0.000    1.054    0.002 module.py:703(_load_from_state_dict)\n",
      "     7040    0.320    0.000    0.320    0.000 MB_DPPO.py:104(<dictcomp>)\n",
      "    37030    0.264    0.000    4.475    0.000 functional.py:1355(linear)\n",
      "   105439    0.254    0.000    0.254    0.000 module.py:562(__getattr__)\n",
      "    15022    0.245    0.000    0.245    0.000 {method 'zero_' of 'torch._C._TensorBase' objects}\n",
      "    14050    0.242    0.000    0.804    0.000 module.py:833(_named_members)\n",
      "    35409    0.233    0.000    0.233    0.000 {built-in method as_tensor}\n",
      "    17892    0.224    0.000    0.746    0.000 container.py:142(__getitem__)\n",
      "     7040    0.219    0.000    0.828    0.000 MB_DPPO.py:94(getFraction)\n",
      "       50    0.202    0.004   41.072    0.821 MB_DPPO.py:677(updateModel)\n",
      "      245    0.198    0.001   13.205    0.054 models.py:490(forward)\n",
      "   106927    0.198    0.000    0.198    0.000 {built-in method torch._C._get_tracing_state}\n",
      "     3430    0.189    0.000    0.189    0.000 {built-in method sigmoid}\n",
      "    22064    0.183    0.000    1.662    0.000 activation.py:93(forward)\n",
      "        1    0.161    0.161   43.590   43.590 MB_DPPO.py:383(updateModel)\n",
      "      180    0.158    0.001    0.199    0.001 {built-in method builtins.sum}\n",
      "      983    0.141    0.000    0.141    0.000 {built-in method zeros_like}\n",
      "     7041    0.129    0.000    0.129    0.000 {built-in method randint}\n",
      "    17892    0.119    0.000    0.461    0.000 container.py:133(_get_abs_string_index)\n",
      "    14000    0.117    0.000    1.076    0.000 tensor.py:337(norm)\n",
      "       60    0.107    0.002    0.215    0.004 std.py:356(format_meter)\n",
      "   316544    0.103    0.000    0.103    0.000 {method 'startswith' of 'str' objects}\n",
      "     9089    0.102    0.000    0.165    0.000 MB_DPPO.py:86(__init__)\n",
      "   236713    0.100    0.000    0.100    0.000 {method 'values' of 'collections.OrderedDict' objects}\n",
      "\n",
      "\n"
     ]
    },
    {
     "output_type": "execute_result",
     "data": {
      "text/plain": [
       "<pstats.Stats at 0x7fcc4c4f3748>"
      ]
     },
     "metadata": {},
     "execution_count": 1
    }
   ],
   "metadata": {}
  },
  {
   "cell_type": "code",
   "execution_count": 4,
   "source": [
    "\n",
    "q = pstats.Stats('devicecpu_parallelFalse.profile')\n",
    "q.strip_dirs()\n",
    "q.sort_stats('tottime').print_stats(30)"
   ],
   "outputs": [
    {
     "output_type": "stream",
     "name": "stdout",
     "text": [
      "Mon Aug 30 14:36:58 2021    devicecpu_parallelFalse.profile\n",
      "\n",
      "         107092623 function calls (106195117 primitive calls) in 351.073 seconds\n",
      "\n",
      "   Ordered by: internal time\n",
      "   List reduced from 910 to 30 due to restriction <30>\n",
      "\n",
      "   ncalls  tottime  percall  cumtime  percall filename:lineno(function)\n",
      "   535878   32.510    0.000  157.935    0.000 connection.py:183(_readSubscription)\n",
      " 15843764   31.513    0.000   46.697    0.000 storage.py:37(read)\n",
      "  2831677   27.509    0.000   90.640    0.000 domain.py:41(_parse)\n",
      "  2432828   21.049    0.000   36.577    0.000 storage.py:69(readString)\n",
      "   183080   15.952    0.000   15.952    0.000 {method 'recv' of '_socket.socket' objects}\n",
      "  2794379   13.095    0.000   98.664    0.000 domain.py:82(add)\n",
      "       12   12.010    1.001   12.010    1.001 {built-in method time.sleep}\n",
      " 15951308    8.852    0.000    8.852    0.000 {built-in method _struct.unpack}\n",
      "     4026    8.603    0.002   47.254    0.012 traffic_light_grid.py:90(get_state)\n",
      " 15843764    6.441    0.000    6.441    0.000 {built-in method _struct.calcsize}\n",
      "     4013    5.798    0.001   38.328    0.010 traci.py:120(update)\n",
      "  1507949    5.620    0.000   10.169    0.000 storage.py:55(readDouble)\n",
      "     4013    5.365    0.001   10.139    0.003 traci.py:714(_multi_lane_headways)\n",
      "   263474    4.653    0.000   22.964    0.000 storage.py:80(<listcomp>)\n",
      "   573176    4.277    0.000    7.550    0.000 storage.py:63(readLength)\n",
      "    16111    4.261    0.000    8.188    0.001 {built-in method builtins.max}\n",
      "     4001    3.711    0.001  292.450    0.073 base.py:21(step)\n",
      "     4025    3.490    0.001  170.211    0.042 connection.py:297(simulationStep)\n",
      "   247151    3.328    0.000    5.624    0.000 routing_controllers.py:92(choose_route)\n",
      "326151/36279    3.211    0.000   18.806    0.001 module.py:522(__call__)\n",
      "251729/219607    3.129    0.000   10.414    0.000 {built-in method numpy.core._multiarray_umath.implement_array_function}\n",
      "    91540    3.121    0.000    3.121    0.000 {method 'send' of '_socket.socket' objects}\n",
      "   108837    3.001    0.000    3.001    0.000 {built-in method addmm}\n",
      "   247814    2.976    0.000   11.797    0.000 _vehicle.py:142(_readLeader)\n",
      "   204806    2.633    0.000    3.919    0.000 traffic_light_grid.py:309(find_intersection_dist)\n",
      "    36099    2.615    0.000   18.149    0.001 models.py:326(forward)\n",
      "   196277    2.475    0.000    4.301    0.000 traffic_light_grid.py:353(_split_edge)\n",
      "   144936    2.433    0.000    3.619    0.000 traffic_light_grid.py:132(<listcomp>)\n",
      " 10453067    2.431    0.000    2.431    0.000 {method 'get' of 'dict' objects}\n",
      "   263474    2.359    0.000   26.090    0.000 storage.py:78(readStringList)\n",
      "\n",
      "\n"
     ]
    },
    {
     "output_type": "execute_result",
     "data": {
      "text/plain": [
       "<pstats.Stats at 0x7fcc4c3583c8>"
      ]
     },
     "metadata": {},
     "execution_count": 4
    }
   ],
   "metadata": {}
  },
  {
   "cell_type": "code",
   "execution_count": null,
   "source": [],
   "outputs": [],
   "metadata": {}
  }
 ],
 "metadata": {
  "kernelspec": {
   "name": "python3",
   "display_name": "Python 3.7.3 64-bit ('flow_new': conda)"
  },
  "language_info": {
   "name": "python",
   "version": "3.7.3",
   "mimetype": "text/x-python",
   "codemirror_mode": {
    "name": "ipython",
    "version": 3
   },
   "pygments_lexer": "ipython3",
   "nbconvert_exporter": "python",
   "file_extension": ".py"
  },
  "interpreter": {
   "hash": "13ae5f37170fc2a01a58be7252511640fcef280854556c493ac7107ba1cd0e42"
  }
 },
 "nbformat": 4,
 "nbformat_minor": 4
}